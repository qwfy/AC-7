{
 "cells": [
  {
   "cell_type": "code",
   "execution_count": 1,
   "metadata": {},
   "outputs": [],
   "source": [
    "import psycopg2\n",
    "import psycopg2.extras\n",
    "import altair\n",
    "import numpy as np\n",
    "import pandas as pd\n",
    "import tabulate"
   ]
  },
  {
   "cell_type": "code",
   "execution_count": 2,
   "metadata": {},
   "outputs": [],
   "source": [
    "conn = psycopg2.connect('host=127.0.0.1 dbname=postgres user=postgres password=atreehasmanyleafs')"
   ]
  },
  {
   "cell_type": "code",
   "execution_count": 3,
   "metadata": {},
   "outputs": [],
   "source": [
    "conn.rollback()"
   ]
  },
  {
   "cell_type": "code",
   "execution_count": 4,
   "metadata": {},
   "outputs": [
    {
     "name": "stdout",
     "output_type": "stream",
     "text": [
      "info of the latest run\n",
      "---------------  -------------------------\n",
      "run_id           20190128_095609_+0000\n",
      "time start       2019-01-28 09:56:09+00:00\n",
      "time_stop        2019-01-28 09:56:25+00:00\n",
      "num generations  6\n",
      "num_species      99\n",
      "---------------  -------------------------\n"
     ]
    }
   ],
   "source": [
    "print('info of the latest run')\n",
    "with conn.cursor() as cur:\n",
    "    cur.execute('''\n",
    "      select run_id, time_started, time_stopped\n",
    "      from run\n",
    "      order by time_started desc''')\n",
    "    runs = cur.fetchall()\n",
    "\n",
    "    run_id = runs[0][0]\n",
    "\n",
    "    cur.execute('''\n",
    "      select count(distinct species_sn)\n",
    "      from population\n",
    "      where run_id = %s\n",
    "      ''', (run_id,))\n",
    "    [(num_species,)] = cur.fetchall()\n",
    "    \n",
    "    cur.execute('''\n",
    "      select count(distinct generation_sn)\n",
    "      from population\n",
    "      where run_id = %s\n",
    "      ''', (run_id,))\n",
    "    [(num_generations,)] = cur.fetchall()\n",
    "    \n",
    "print(tabulate.tabulate([\n",
    "    (\"run_id\", run_id),\n",
    "    (\"time start\", runs[0][1]),\n",
    "    (\"time_stop\", runs[0][2]),\n",
    "    (\"num generations\", num_generations),\n",
    "    (\"num_species\", num_species)]))"
   ]
  },
  {
   "cell_type": "code",
   "execution_count": 5,
   "metadata": {},
   "outputs": [
    {
     "name": "stdout",
     "output_type": "stream",
     "text": [
      "top original fitnesses of run 20190128_095609_+0000\n"
     ]
    },
    {
     "data": {
      "text/html": [
       "<div>\n",
       "<style scoped>\n",
       "    .dataframe tbody tr th:only-of-type {\n",
       "        vertical-align: middle;\n",
       "    }\n",
       "\n",
       "    .dataframe tbody tr th {\n",
       "        vertical-align: top;\n",
       "    }\n",
       "\n",
       "    .dataframe thead th {\n",
       "        text-align: right;\n",
       "    }\n",
       "</style>\n",
       "<table border=\"1\" class=\"dataframe\">\n",
       "  <thead>\n",
       "    <tr style=\"text-align: right;\">\n",
       "      <th></th>\n",
       "      <th>generation_sn</th>\n",
       "      <th>species_sn</th>\n",
       "      <th>genome_id</th>\n",
       "      <th>original_fitness</th>\n",
       "    </tr>\n",
       "  </thead>\n",
       "  <tbody>\n",
       "    <tr>\n",
       "      <th>0</th>\n",
       "      <td>0</td>\n",
       "      <td>0</td>\n",
       "      <td>6a41549b-9cb3-4e78-9169-565c41fa5694</td>\n",
       "      <td>6.166850</td>\n",
       "    </tr>\n",
       "    <tr>\n",
       "      <th>1</th>\n",
       "      <td>0</td>\n",
       "      <td>0</td>\n",
       "      <td>563cb992-9cbf-4f04-bb43-bb618cc2f503</td>\n",
       "      <td>6.150438</td>\n",
       "    </tr>\n",
       "    <tr>\n",
       "      <th>2</th>\n",
       "      <td>0</td>\n",
       "      <td>0</td>\n",
       "      <td>d60cc5e8-12ba-4c32-bd9c-90fbc5d943c0</td>\n",
       "      <td>6.113151</td>\n",
       "    </tr>\n",
       "    <tr>\n",
       "      <th>3</th>\n",
       "      <td>0</td>\n",
       "      <td>0</td>\n",
       "      <td>dc403c10-5374-446f-90ea-64801e15e05c</td>\n",
       "      <td>6.110964</td>\n",
       "    </tr>\n",
       "    <tr>\n",
       "      <th>4</th>\n",
       "      <td>0</td>\n",
       "      <td>0</td>\n",
       "      <td>dcdfd8f8-5cb0-4bdc-a6dd-abde7d27923c</td>\n",
       "      <td>6.055729</td>\n",
       "    </tr>\n",
       "    <tr>\n",
       "      <th>5</th>\n",
       "      <td>0</td>\n",
       "      <td>0</td>\n",
       "      <td>0e5604b7-8abd-4403-9f41-0a94a38787c0</td>\n",
       "      <td>5.851717</td>\n",
       "    </tr>\n",
       "    <tr>\n",
       "      <th>6</th>\n",
       "      <td>0</td>\n",
       "      <td>0</td>\n",
       "      <td>a1e50597-b77f-423b-9969-a614c30091cd</td>\n",
       "      <td>5.826341</td>\n",
       "    </tr>\n",
       "    <tr>\n",
       "      <th>7</th>\n",
       "      <td>0</td>\n",
       "      <td>0</td>\n",
       "      <td>04679d5a-ba93-434d-a662-23536d60fee3</td>\n",
       "      <td>5.778124</td>\n",
       "    </tr>\n",
       "    <tr>\n",
       "      <th>8</th>\n",
       "      <td>1</td>\n",
       "      <td>79</td>\n",
       "      <td>662654c2-9020-4f22-8a1d-e72eb2fa4648</td>\n",
       "      <td>5.763522</td>\n",
       "    </tr>\n",
       "    <tr>\n",
       "      <th>9</th>\n",
       "      <td>1</td>\n",
       "      <td>47</td>\n",
       "      <td>e331b486-dedf-41a7-b0f8-0623950a0c47</td>\n",
       "      <td>5.754827</td>\n",
       "    </tr>\n",
       "    <tr>\n",
       "      <th>10</th>\n",
       "      <td>0</td>\n",
       "      <td>0</td>\n",
       "      <td>99c027f0-813d-4717-b7f4-851ab5a33060</td>\n",
       "      <td>5.753190</td>\n",
       "    </tr>\n",
       "    <tr>\n",
       "      <th>11</th>\n",
       "      <td>0</td>\n",
       "      <td>0</td>\n",
       "      <td>641f122a-9d66-4dd3-aa16-4a715a31038c</td>\n",
       "      <td>5.720361</td>\n",
       "    </tr>\n",
       "    <tr>\n",
       "      <th>12</th>\n",
       "      <td>0</td>\n",
       "      <td>0</td>\n",
       "      <td>b0b6face-798e-48e9-8f68-8a25feef0941</td>\n",
       "      <td>5.714757</td>\n",
       "    </tr>\n",
       "    <tr>\n",
       "      <th>13</th>\n",
       "      <td>0</td>\n",
       "      <td>0</td>\n",
       "      <td>e0775deb-562f-4e1f-b4d8-519f7c7139cc</td>\n",
       "      <td>5.713795</td>\n",
       "    </tr>\n",
       "    <tr>\n",
       "      <th>14</th>\n",
       "      <td>0</td>\n",
       "      <td>0</td>\n",
       "      <td>06d536f5-3414-4171-8d33-617d86c4ec57</td>\n",
       "      <td>5.693247</td>\n",
       "    </tr>\n",
       "    <tr>\n",
       "      <th>15</th>\n",
       "      <td>0</td>\n",
       "      <td>0</td>\n",
       "      <td>10021066-0c38-47f8-a0ed-5863736ab2c1</td>\n",
       "      <td>5.688318</td>\n",
       "    </tr>\n",
       "    <tr>\n",
       "      <th>16</th>\n",
       "      <td>0</td>\n",
       "      <td>0</td>\n",
       "      <td>5aebaffc-d091-4700-8af8-d70ac1c81d88</td>\n",
       "      <td>5.459376</td>\n",
       "    </tr>\n",
       "    <tr>\n",
       "      <th>17</th>\n",
       "      <td>0</td>\n",
       "      <td>0</td>\n",
       "      <td>3159e21f-e045-4e6d-8bec-839d754c924d</td>\n",
       "      <td>5.421993</td>\n",
       "    </tr>\n",
       "    <tr>\n",
       "      <th>18</th>\n",
       "      <td>0</td>\n",
       "      <td>0</td>\n",
       "      <td>f3b7260c-3e56-42e1-920e-887987a8711e</td>\n",
       "      <td>5.415599</td>\n",
       "    </tr>\n",
       "    <tr>\n",
       "      <th>19</th>\n",
       "      <td>0</td>\n",
       "      <td>0</td>\n",
       "      <td>4a07f825-11d4-4847-b50e-e86246eb9c4a</td>\n",
       "      <td>5.401208</td>\n",
       "    </tr>\n",
       "  </tbody>\n",
       "</table>\n",
       "</div>"
      ],
      "text/plain": [
       "    generation_sn  species_sn                             genome_id  \\\n",
       "0               0           0  6a41549b-9cb3-4e78-9169-565c41fa5694   \n",
       "1               0           0  563cb992-9cbf-4f04-bb43-bb618cc2f503   \n",
       "2               0           0  d60cc5e8-12ba-4c32-bd9c-90fbc5d943c0   \n",
       "3               0           0  dc403c10-5374-446f-90ea-64801e15e05c   \n",
       "4               0           0  dcdfd8f8-5cb0-4bdc-a6dd-abde7d27923c   \n",
       "5               0           0  0e5604b7-8abd-4403-9f41-0a94a38787c0   \n",
       "6               0           0  a1e50597-b77f-423b-9969-a614c30091cd   \n",
       "7               0           0  04679d5a-ba93-434d-a662-23536d60fee3   \n",
       "8               1          79  662654c2-9020-4f22-8a1d-e72eb2fa4648   \n",
       "9               1          47  e331b486-dedf-41a7-b0f8-0623950a0c47   \n",
       "10              0           0  99c027f0-813d-4717-b7f4-851ab5a33060   \n",
       "11              0           0  641f122a-9d66-4dd3-aa16-4a715a31038c   \n",
       "12              0           0  b0b6face-798e-48e9-8f68-8a25feef0941   \n",
       "13              0           0  e0775deb-562f-4e1f-b4d8-519f7c7139cc   \n",
       "14              0           0  06d536f5-3414-4171-8d33-617d86c4ec57   \n",
       "15              0           0  10021066-0c38-47f8-a0ed-5863736ab2c1   \n",
       "16              0           0  5aebaffc-d091-4700-8af8-d70ac1c81d88   \n",
       "17              0           0  3159e21f-e045-4e6d-8bec-839d754c924d   \n",
       "18              0           0  f3b7260c-3e56-42e1-920e-887987a8711e   \n",
       "19              0           0  4a07f825-11d4-4847-b50e-e86246eb9c4a   \n",
       "\n",
       "    original_fitness  \n",
       "0           6.166850  \n",
       "1           6.150438  \n",
       "2           6.113151  \n",
       "3           6.110964  \n",
       "4           6.055729  \n",
       "5           5.851717  \n",
       "6           5.826341  \n",
       "7           5.778124  \n",
       "8           5.763522  \n",
       "9           5.754827  \n",
       "10          5.753190  \n",
       "11          5.720361  \n",
       "12          5.714757  \n",
       "13          5.713795  \n",
       "14          5.693247  \n",
       "15          5.688318  \n",
       "16          5.459376  \n",
       "17          5.421993  \n",
       "18          5.415599  \n",
       "19          5.401208  "
      ]
     },
     "execution_count": 5,
     "metadata": {},
     "output_type": "execute_result"
    }
   ],
   "source": [
    "print(f'top original fitnesses of run {run_id}')\n",
    "sql = '''\n",
    "    select generation_sn, species_sn, genome_id, original_fitness\n",
    "    from population\n",
    "    where run_id = %s\n",
    "    order by original_fitness desc\n",
    "    limit 20'''\n",
    "genomes = pd.read_sql(sql, con=conn, params=(run_id,))\n",
    "genomes"
   ]
  },
  {
   "cell_type": "code",
   "execution_count": 6,
   "metadata": {},
   "outputs": [
    {
     "name": "stderr",
     "output_type": "stream",
     "text": [
      "/usr/lib/python3.7/site-packages/altair/utils/core.py:284: FutureWarning: A future version of pandas will default to `skipna=True`. To silence this warning, pass `skipna=True|False` explicitly.\n",
      "  attrs['type'] = infer_vegalite_type(data[attrs['field']])\n"
     ]
    },
    {
     "data": {
      "application/vnd.vegalite.v2+json": {
       "$schema": "https://vega.github.io/schema/vega-lite/v2.6.0.json",
       "config": {
        "view": {
         "height": 300,
         "width": 400
        }
       },
       "datasets": {
        "data-033a4b0043750b3dfd0d665a90cb5e6f": [
         {
          "avg_original_fitness": 4,
          "generation_sn": 1,
          "species_sn": 71
         },
         {
          "avg_original_fitness": 4,
          "generation_sn": 4,
          "species_sn": 71
         },
         {
          "avg_original_fitness": 4,
          "generation_sn": 3,
          "species_sn": 71
         },
         {
          "avg_original_fitness": 4,
          "generation_sn": 5,
          "species_sn": 71
         },
         {
          "avg_original_fitness": 4,
          "generation_sn": 2,
          "species_sn": 71
         }
        ],
        "data-05a89da4bb70d8270d7bf7ef264719e0": [
         {
          "avg_original_fitness": 4,
          "generation_sn": 1,
          "species_sn": 48
         },
         {
          "avg_original_fitness": 4,
          "generation_sn": 2,
          "species_sn": 48
         },
         {
          "avg_original_fitness": 4,
          "generation_sn": 5,
          "species_sn": 48
         },
         {
          "avg_original_fitness": 4,
          "generation_sn": 3,
          "species_sn": 48
         },
         {
          "avg_original_fitness": 4,
          "generation_sn": 4,
          "species_sn": 48
         }
        ],
        "data-06f275cc8a4275a33f4e70169feec3b4": [
         {
          "avg_original_fitness": 4,
          "generation_sn": 4,
          "species_sn": 15
         },
         {
          "avg_original_fitness": 4,
          "generation_sn": 5,
          "species_sn": 15
         },
         {
          "avg_original_fitness": 4,
          "generation_sn": 2,
          "species_sn": 15
         },
         {
          "avg_original_fitness": 4,
          "generation_sn": 3,
          "species_sn": 15
         },
         {
          "avg_original_fitness": 4,
          "generation_sn": 1,
          "species_sn": 15
         }
        ],
        "data-0b82055c612442f6904467b5843dbddb": [
         {
          "avg_original_fitness": 4,
          "generation_sn": 3,
          "species_sn": 17
         },
         {
          "avg_original_fitness": 4,
          "generation_sn": 4,
          "species_sn": 17
         },
         {
          "avg_original_fitness": 4,
          "generation_sn": 2,
          "species_sn": 17
         },
         {
          "avg_original_fitness": 4.4477709,
          "generation_sn": 1,
          "species_sn": 17
         },
         {
          "avg_original_fitness": 4,
          "generation_sn": 5,
          "species_sn": 17
         }
        ],
        "data-15cc862bb389de835f5c5a4a602e1c70": [
         {
          "avg_original_fitness": 4,
          "generation_sn": 1,
          "species_sn": 73
         },
         {
          "avg_original_fitness": 4,
          "generation_sn": 3,
          "species_sn": 73
         },
         {
          "avg_original_fitness": 4,
          "generation_sn": 5,
          "species_sn": 73
         },
         {
          "avg_original_fitness": 4,
          "generation_sn": 2,
          "species_sn": 73
         },
         {
          "avg_original_fitness": 4,
          "generation_sn": 4,
          "species_sn": 73
         }
        ],
        "data-186de8343e6a1ecbf85b119f5e753215": [
         {
          "avg_original_fitness": 4,
          "generation_sn": 1,
          "species_sn": 57
         },
         {
          "avg_original_fitness": 4,
          "generation_sn": 3,
          "species_sn": 57
         },
         {
          "avg_original_fitness": 4,
          "generation_sn": 2,
          "species_sn": 57
         },
         {
          "avg_original_fitness": 4,
          "generation_sn": 4,
          "species_sn": 57
         },
         {
          "avg_original_fitness": 4,
          "generation_sn": 5,
          "species_sn": 57
         }
        ],
        "data-1b2cf379fc7f00961d1898a123a7f6e2": [
         {
          "avg_original_fitness": 4,
          "generation_sn": 5,
          "species_sn": 60
         },
         {
          "avg_original_fitness": 4,
          "generation_sn": 4,
          "species_sn": 60
         },
         {
          "avg_original_fitness": 4,
          "generation_sn": 1,
          "species_sn": 60
         },
         {
          "avg_original_fitness": 4,
          "generation_sn": 3,
          "species_sn": 60
         },
         {
          "avg_original_fitness": 4,
          "generation_sn": 2,
          "species_sn": 60
         }
        ],
        "data-1e1212c408ce391e2547997f16c47dab": [
         {
          "avg_original_fitness": 4,
          "generation_sn": 5,
          "species_sn": 94
         }
        ],
        "data-1e78ef5134285de82929be9b452b2b80": [
         {
          "avg_original_fitness": 4,
          "generation_sn": 3,
          "species_sn": 13
         },
         {
          "avg_original_fitness": 4,
          "generation_sn": 4,
          "species_sn": 13
         },
         {
          "avg_original_fitness": 4,
          "generation_sn": 5,
          "species_sn": 13
         },
         {
          "avg_original_fitness": 4,
          "generation_sn": 2,
          "species_sn": 13
         },
         {
          "avg_original_fitness": 4,
          "generation_sn": 1,
          "species_sn": 13
         }
        ],
        "data-25c23c4d9f26177a32b54e464f1656b2": [
         {
          "avg_original_fitness": 4,
          "generation_sn": 5,
          "species_sn": 92
         }
        ],
        "data-262929c7cb987704093f175088b38ad8": [
         {
          "avg_original_fitness": 4,
          "generation_sn": 1,
          "species_sn": 70
         },
         {
          "avg_original_fitness": 4,
          "generation_sn": 5,
          "species_sn": 70
         },
         {
          "avg_original_fitness": 4,
          "generation_sn": 3,
          "species_sn": 70
         },
         {
          "avg_original_fitness": 4,
          "generation_sn": 4,
          "species_sn": 70
         },
         {
          "avg_original_fitness": 4,
          "generation_sn": 2,
          "species_sn": 70
         }
        ],
        "data-27b496fb66e7a4b32a004ea2b68a6b9b": [
         {
          "avg_original_fitness": 4,
          "generation_sn": 4,
          "species_sn": 59
         },
         {
          "avg_original_fitness": 4,
          "generation_sn": 3,
          "species_sn": 59
         },
         {
          "avg_original_fitness": 4,
          "generation_sn": 5,
          "species_sn": 59
         },
         {
          "avg_original_fitness": 4,
          "generation_sn": 2,
          "species_sn": 59
         },
         {
          "avg_original_fitness": 4,
          "generation_sn": 1,
          "species_sn": 59
         }
        ],
        "data-280f30269a6ab1d67053ee601f867df9": [
         {
          "avg_original_fitness": 4,
          "generation_sn": 5,
          "species_sn": 43
         },
         {
          "avg_original_fitness": 4,
          "generation_sn": 2,
          "species_sn": 43
         },
         {
          "avg_original_fitness": 4,
          "generation_sn": 4,
          "species_sn": 43
         },
         {
          "avg_original_fitness": 4,
          "generation_sn": 3,
          "species_sn": 43
         },
         {
          "avg_original_fitness": 4,
          "generation_sn": 1,
          "species_sn": 43
         }
        ],
        "data-2932112a5cfdc2644de9616fbefcfea4": [
         {
          "avg_original_fitness": 4,
          "generation_sn": 4,
          "species_sn": 3
         },
         {
          "avg_original_fitness": 4,
          "generation_sn": 5,
          "species_sn": 3
         },
         {
          "avg_original_fitness": 4,
          "generation_sn": 2,
          "species_sn": 3
         },
         {
          "avg_original_fitness": 4,
          "generation_sn": 3,
          "species_sn": 3
         },
         {
          "avg_original_fitness": 4.2099355,
          "generation_sn": 1,
          "species_sn": 3
         }
        ],
        "data-2a08d5baf3bdfb5ab843d5775e07888f": [
         {
          "avg_original_fitness": 4,
          "generation_sn": 5,
          "species_sn": 16
         },
         {
          "avg_original_fitness": 4,
          "generation_sn": 4,
          "species_sn": 16
         },
         {
          "avg_original_fitness": 4,
          "generation_sn": 1,
          "species_sn": 16
         },
         {
          "avg_original_fitness": 4,
          "generation_sn": 3,
          "species_sn": 16
         },
         {
          "avg_original_fitness": 4,
          "generation_sn": 2,
          "species_sn": 16
         }
        ],
        "data-2eb156e053ac67647bc6e86401cc7c90": [
         {
          "avg_original_fitness": 4,
          "generation_sn": 3,
          "species_sn": 53
         },
         {
          "avg_original_fitness": 4,
          "generation_sn": 4,
          "species_sn": 53
         },
         {
          "avg_original_fitness": 4.923916,
          "generation_sn": 1,
          "species_sn": 53
         },
         {
          "avg_original_fitness": 4,
          "generation_sn": 5,
          "species_sn": 53
         },
         {
          "avg_original_fitness": 4,
          "generation_sn": 2,
          "species_sn": 53
         }
        ],
        "data-300cca6a65430479c15b920c94987e31": [
         {
          "avg_original_fitness": 4,
          "generation_sn": 3,
          "species_sn": 10
         },
         {
          "avg_original_fitness": 4,
          "generation_sn": 1,
          "species_sn": 10
         },
         {
          "avg_original_fitness": 4,
          "generation_sn": 4,
          "species_sn": 10
         },
         {
          "avg_original_fitness": 4,
          "generation_sn": 5,
          "species_sn": 10
         },
         {
          "avg_original_fitness": 4,
          "generation_sn": 2,
          "species_sn": 10
         }
        ],
        "data-30aa00f978e6c88cb91adf5d6e963a68": [
         {
          "avg_original_fitness": 4.2896415,
          "generation_sn": 1,
          "species_sn": 6
         },
         {
          "avg_original_fitness": 4,
          "generation_sn": 3,
          "species_sn": 6
         },
         {
          "avg_original_fitness": 4,
          "generation_sn": 2,
          "species_sn": 6
         },
         {
          "avg_original_fitness": 4,
          "generation_sn": 5,
          "species_sn": 6
         },
         {
          "avg_original_fitness": 4,
          "generation_sn": 4,
          "species_sn": 6
         }
        ],
        "data-39094bb4ba16ecbd21da0cac35ae8e3b": [
         {
          "avg_original_fitness": 4,
          "generation_sn": 1,
          "species_sn": 23
         },
         {
          "avg_original_fitness": 4,
          "generation_sn": 2,
          "species_sn": 23
         },
         {
          "avg_original_fitness": 4,
          "generation_sn": 4,
          "species_sn": 23
         },
         {
          "avg_original_fitness": 4,
          "generation_sn": 3,
          "species_sn": 23
         },
         {
          "avg_original_fitness": 4,
          "generation_sn": 5,
          "species_sn": 23
         }
        ],
        "data-3d35aaf34c38d53dc2f397ae0058c17a": [
         {
          "avg_original_fitness": 4,
          "generation_sn": 3,
          "species_sn": 39
         },
         {
          "avg_original_fitness": 4,
          "generation_sn": 2,
          "species_sn": 39
         },
         {
          "avg_original_fitness": 4,
          "generation_sn": 5,
          "species_sn": 39
         },
         {
          "avg_original_fitness": 4,
          "generation_sn": 1,
          "species_sn": 39
         },
         {
          "avg_original_fitness": 4,
          "generation_sn": 4,
          "species_sn": 39
         }
        ],
        "data-3d644b1845df51131f82141657c2b867": [
         {
          "avg_original_fitness": 4,
          "generation_sn": 5,
          "species_sn": 25
         },
         {
          "avg_original_fitness": 4,
          "generation_sn": 1,
          "species_sn": 25
         },
         {
          "avg_original_fitness": 4,
          "generation_sn": 2,
          "species_sn": 25
         },
         {
          "avg_original_fitness": 4,
          "generation_sn": 3,
          "species_sn": 25
         },
         {
          "avg_original_fitness": 4.04146533333333,
          "generation_sn": 4,
          "species_sn": 25
         }
        ],
        "data-3fee7414b6f9200d7ccfd2edfedfe2b1": [
         {
          "avg_original_fitness": 4,
          "generation_sn": 1,
          "species_sn": 29
         },
         {
          "avg_original_fitness": 4,
          "generation_sn": 2,
          "species_sn": 29
         },
         {
          "avg_original_fitness": 4,
          "generation_sn": 4,
          "species_sn": 29
         },
         {
          "avg_original_fitness": 4,
          "generation_sn": 3,
          "species_sn": 29
         },
         {
          "avg_original_fitness": 4,
          "generation_sn": 5,
          "species_sn": 29
         }
        ],
        "data-3ff5d83aff3a957c67f820148fcacc2a": [
         {
          "avg_original_fitness": 4,
          "generation_sn": 5,
          "species_sn": 63
         },
         {
          "avg_original_fitness": 4,
          "generation_sn": 1,
          "species_sn": 63
         },
         {
          "avg_original_fitness": 4,
          "generation_sn": 3,
          "species_sn": 63
         },
         {
          "avg_original_fitness": 4,
          "generation_sn": 4,
          "species_sn": 63
         },
         {
          "avg_original_fitness": 4,
          "generation_sn": 2,
          "species_sn": 63
         }
        ],
        "data-425ecbef2297bfa02fc3ef4b58b6e526": [
         {
          "avg_original_fitness": 4,
          "generation_sn": 5,
          "species_sn": 97
         }
        ],
        "data-435b89e2ed22708268a6d15db7e1a11f": [
         {
          "avg_original_fitness": 4,
          "generation_sn": 3,
          "species_sn": 75
         },
         {
          "avg_original_fitness": 4,
          "generation_sn": 2,
          "species_sn": 75
         },
         {
          "avg_original_fitness": 4,
          "generation_sn": 5,
          "species_sn": 75
         },
         {
          "avg_original_fitness": 4,
          "generation_sn": 1,
          "species_sn": 75
         },
         {
          "avg_original_fitness": 4,
          "generation_sn": 4,
          "species_sn": 75
         }
        ],
        "data-43f8bc26d5a59213e8f931b86f04b692": [
         {
          "avg_original_fitness": 4,
          "generation_sn": 4,
          "species_sn": 88
         }
        ],
        "data-4535db3a57d606ac0c1aa9129df051a7": [
         {
          "avg_original_fitness": 4,
          "generation_sn": 5,
          "species_sn": 45
         },
         {
          "avg_original_fitness": 4,
          "generation_sn": 2,
          "species_sn": 45
         },
         {
          "avg_original_fitness": 4,
          "generation_sn": 3,
          "species_sn": 45
         },
         {
          "avg_original_fitness": 4,
          "generation_sn": 1,
          "species_sn": 45
         },
         {
          "avg_original_fitness": 4,
          "generation_sn": 4,
          "species_sn": 45
         }
        ],
        "data-467a1e8c5c72da8312ea7c63c888b2ea": [
         {
          "avg_original_fitness": 4,
          "generation_sn": 1,
          "species_sn": 52
         },
         {
          "avg_original_fitness": 4,
          "generation_sn": 3,
          "species_sn": 52
         },
         {
          "avg_original_fitness": 4,
          "generation_sn": 2,
          "species_sn": 52
         },
         {
          "avg_original_fitness": 4,
          "generation_sn": 4,
          "species_sn": 52
         },
         {
          "avg_original_fitness": 4,
          "generation_sn": 5,
          "species_sn": 52
         }
        ],
        "data-4a0fa44271c53d39ea3228075b651f33": [
         {
          "avg_original_fitness": 4,
          "generation_sn": 2,
          "species_sn": 18
         },
         {
          "avg_original_fitness": 4,
          "generation_sn": 3,
          "species_sn": 18
         },
         {
          "avg_original_fitness": 4,
          "generation_sn": 4,
          "species_sn": 18
         },
         {
          "avg_original_fitness": 4,
          "generation_sn": 5,
          "species_sn": 18
         },
         {
          "avg_original_fitness": 4,
          "generation_sn": 1,
          "species_sn": 18
         }
        ],
        "data-4af51b048f415fd788ebeca43d59f1c2": [
         {
          "avg_original_fitness": 4,
          "generation_sn": 1,
          "species_sn": 54
         },
         {
          "avg_original_fitness": 4,
          "generation_sn": 2,
          "species_sn": 54
         },
         {
          "avg_original_fitness": 4,
          "generation_sn": 5,
          "species_sn": 54
         },
         {
          "avg_original_fitness": 4,
          "generation_sn": 3,
          "species_sn": 54
         },
         {
          "avg_original_fitness": 4,
          "generation_sn": 4,
          "species_sn": 54
         }
        ],
        "data-4e439948e3e512d8fa5618d40dec7200": [
         {
          "avg_original_fitness": 4,
          "generation_sn": 5,
          "species_sn": 12
         },
         {
          "avg_original_fitness": 4,
          "generation_sn": 2,
          "species_sn": 12
         },
         {
          "avg_original_fitness": 4,
          "generation_sn": 4,
          "species_sn": 12
         },
         {
          "avg_original_fitness": 4,
          "generation_sn": 1,
          "species_sn": 12
         },
         {
          "avg_original_fitness": 4,
          "generation_sn": 3,
          "species_sn": 12
         }
        ],
        "data-4e589aab50b3f4d814c13c7dbf57b1f7": [
         {
          "avg_original_fitness": 4,
          "generation_sn": 5,
          "species_sn": 27
         },
         {
          "avg_original_fitness": 4,
          "generation_sn": 1,
          "species_sn": 27
         },
         {
          "avg_original_fitness": 4,
          "generation_sn": 2,
          "species_sn": 27
         },
         {
          "avg_original_fitness": 4,
          "generation_sn": 4,
          "species_sn": 27
         },
         {
          "avg_original_fitness": 4,
          "generation_sn": 3,
          "species_sn": 27
         }
        ],
        "data-4ec37cb9ef0034f16619e082314d286f": [
         {
          "avg_original_fitness": 4,
          "generation_sn": 5,
          "species_sn": 65
         },
         {
          "avg_original_fitness": 4,
          "generation_sn": 3,
          "species_sn": 65
         },
         {
          "avg_original_fitness": 4,
          "generation_sn": 4,
          "species_sn": 65
         },
         {
          "avg_original_fitness": 4,
          "generation_sn": 2,
          "species_sn": 65
         },
         {
          "avg_original_fitness": 4,
          "generation_sn": 1,
          "species_sn": 65
         }
        ],
        "data-5227c240eda5725e08b56c89a3bbcca1": [
         {
          "avg_original_fitness": 4.6589274,
          "generation_sn": 1,
          "species_sn": 41
         },
         {
          "avg_original_fitness": 4,
          "generation_sn": 5,
          "species_sn": 41
         },
         {
          "avg_original_fitness": 4,
          "generation_sn": 4,
          "species_sn": 41
         },
         {
          "avg_original_fitness": 4,
          "generation_sn": 3,
          "species_sn": 41
         },
         {
          "avg_original_fitness": 4,
          "generation_sn": 2,
          "species_sn": 41
         }
        ],
        "data-52a10e98771a52728ab59903cf610c34": [
         {
          "avg_original_fitness": 4,
          "generation_sn": 4,
          "species_sn": 44
         },
         {
          "avg_original_fitness": 4,
          "generation_sn": 1,
          "species_sn": 44
         },
         {
          "avg_original_fitness": 4,
          "generation_sn": 5,
          "species_sn": 44
         },
         {
          "avg_original_fitness": 4,
          "generation_sn": 3,
          "species_sn": 44
         },
         {
          "avg_original_fitness": 4,
          "generation_sn": 2,
          "species_sn": 44
         }
        ],
        "data-53eaee662dc1d39a354cfecbab72f230": [
         {
          "avg_original_fitness": 4,
          "generation_sn": 1,
          "species_sn": 11
         },
         {
          "avg_original_fitness": 4,
          "generation_sn": 5,
          "species_sn": 11
         },
         {
          "avg_original_fitness": 4,
          "generation_sn": 2,
          "species_sn": 11
         },
         {
          "avg_original_fitness": 4,
          "generation_sn": 4,
          "species_sn": 11
         },
         {
          "avg_original_fitness": 4,
          "generation_sn": 3,
          "species_sn": 11
         }
        ],
        "data-57ed0f27ca509f24a72343f85d90be3c": [
         {
          "avg_original_fitness": 4,
          "generation_sn": 5,
          "species_sn": 98
         }
        ],
        "data-5f5f6e9a9b24a1b083a874fbf310eaba": [
         {
          "avg_original_fitness": 4,
          "generation_sn": 5,
          "species_sn": 34
         },
         {
          "avg_original_fitness": 4,
          "generation_sn": 3,
          "species_sn": 34
         },
         {
          "avg_original_fitness": 4,
          "generation_sn": 1,
          "species_sn": 34
         },
         {
          "avg_original_fitness": 4,
          "generation_sn": 2,
          "species_sn": 34
         },
         {
          "avg_original_fitness": 4,
          "generation_sn": 4,
          "species_sn": 34
         }
        ],
        "data-62bb9fa4de5b44a11636bebf898ace45": [
         {
          "avg_original_fitness": 4,
          "generation_sn": 3,
          "species_sn": 62
         },
         {
          "avg_original_fitness": 4,
          "generation_sn": 4,
          "species_sn": 62
         },
         {
          "avg_original_fitness": 4,
          "generation_sn": 5,
          "species_sn": 62
         },
         {
          "avg_original_fitness": 4,
          "generation_sn": 1,
          "species_sn": 62
         },
         {
          "avg_original_fitness": 4,
          "generation_sn": 2,
          "species_sn": 62
         }
        ],
        "data-635169254bab3777c5bb5c45654a7fab": [
         {
          "avg_original_fitness": 4,
          "generation_sn": 4,
          "species_sn": 49
         },
         {
          "avg_original_fitness": 4,
          "generation_sn": 3,
          "species_sn": 49
         },
         {
          "avg_original_fitness": 4,
          "generation_sn": 2,
          "species_sn": 49
         },
         {
          "avg_original_fitness": 4,
          "generation_sn": 5,
          "species_sn": 49
         },
         {
          "avg_original_fitness": 4,
          "generation_sn": 1,
          "species_sn": 49
         }
        ],
        "data-679ece2a7652816136ad3bfc5fae632e": [
         {
          "avg_original_fitness": 4,
          "generation_sn": 4,
          "species_sn": 64
         },
         {
          "avg_original_fitness": 4,
          "generation_sn": 5,
          "species_sn": 64
         },
         {
          "avg_original_fitness": 4,
          "generation_sn": 3,
          "species_sn": 64
         },
         {
          "avg_original_fitness": 4,
          "generation_sn": 2,
          "species_sn": 64
         },
         {
          "avg_original_fitness": 4,
          "generation_sn": 1,
          "species_sn": 64
         }
        ],
        "data-69f9f7ff62066d20e00b0849d1e6a385": [
         {
          "avg_original_fitness": 4,
          "generation_sn": 2,
          "species_sn": 30
         },
         {
          "avg_original_fitness": 4,
          "generation_sn": 1,
          "species_sn": 30
         },
         {
          "avg_original_fitness": 4,
          "generation_sn": 5,
          "species_sn": 30
         },
         {
          "avg_original_fitness": 4,
          "generation_sn": 3,
          "species_sn": 30
         },
         {
          "avg_original_fitness": 4,
          "generation_sn": 4,
          "species_sn": 30
         }
        ],
        "data-7264c43778c3095bcd4501c776fd850d": [
         {
          "avg_original_fitness": 4,
          "generation_sn": 2,
          "species_sn": 81
         },
         {
          "avg_original_fitness": 3.992458,
          "generation_sn": 1,
          "species_sn": 81
         },
         {
          "avg_original_fitness": 4,
          "generation_sn": 5,
          "species_sn": 81
         },
         {
          "avg_original_fitness": 4,
          "generation_sn": 4,
          "species_sn": 81
         },
         {
          "avg_original_fitness": 4,
          "generation_sn": 3,
          "species_sn": 81
         }
        ],
        "data-7663c11982d18589c527059d28afc1e8": [
         {
          "avg_original_fitness": 4,
          "generation_sn": 4,
          "species_sn": 50
         },
         {
          "avg_original_fitness": 4,
          "generation_sn": 3,
          "species_sn": 50
         },
         {
          "avg_original_fitness": 4,
          "generation_sn": 1,
          "species_sn": 50
         },
         {
          "avg_original_fitness": 4,
          "generation_sn": 2,
          "species_sn": 50
         },
         {
          "avg_original_fitness": 4,
          "generation_sn": 5,
          "species_sn": 50
         }
        ],
        "data-7ed84653aa373b17c16f488951a9505c": [
         {
          "avg_original_fitness": 4,
          "generation_sn": 2,
          "species_sn": 68
         },
         {
          "avg_original_fitness": 4,
          "generation_sn": 4,
          "species_sn": 68
         },
         {
          "avg_original_fitness": 4,
          "generation_sn": 3,
          "species_sn": 68
         },
         {
          "avg_original_fitness": 4,
          "generation_sn": 1,
          "species_sn": 68
         },
         {
          "avg_original_fitness": 4,
          "generation_sn": 5,
          "species_sn": 68
         }
        ],
        "data-8092c08f91c3e782ebfb62697d41047b": [
         {
          "avg_original_fitness": 4,
          "generation_sn": 3,
          "species_sn": 47
         },
         {
          "avg_original_fitness": 4,
          "generation_sn": 4,
          "species_sn": 47
         },
         {
          "avg_original_fitness": 4,
          "generation_sn": 5,
          "species_sn": 47
         },
         {
          "avg_original_fitness": 3.80729906666667,
          "generation_sn": 2,
          "species_sn": 47
         },
         {
          "avg_original_fitness": 4.87741325,
          "generation_sn": 1,
          "species_sn": 47
         }
        ],
        "data-8110ac3777120d0462662ded2fad6a5a": [
         {
          "avg_original_fitness": 4,
          "generation_sn": 2,
          "species_sn": 37
         },
         {
          "avg_original_fitness": 4,
          "generation_sn": 3,
          "species_sn": 37
         },
         {
          "avg_original_fitness": 4,
          "generation_sn": 5,
          "species_sn": 37
         },
         {
          "avg_original_fitness": 4,
          "generation_sn": 1,
          "species_sn": 37
         },
         {
          "avg_original_fitness": 4,
          "generation_sn": 4,
          "species_sn": 37
         }
        ],
        "data-822d9dd1c5dc97e263983a45c69a1941": [
         {
          "avg_original_fitness": 4,
          "generation_sn": 4,
          "species_sn": 90
         }
        ],
        "data-839c729124fb97da4b0fe7c5128c02c5": [
         {
          "avg_original_fitness": 4,
          "generation_sn": 1,
          "species_sn": 14
         },
         {
          "avg_original_fitness": 4,
          "generation_sn": 5,
          "species_sn": 14
         },
         {
          "avg_original_fitness": 4,
          "generation_sn": 3,
          "species_sn": 14
         },
         {
          "avg_original_fitness": 4,
          "generation_sn": 4,
          "species_sn": 14
         },
         {
          "avg_original_fitness": 4,
          "generation_sn": 2,
          "species_sn": 14
         }
        ],
        "data-856e8f07517bf3f894b4da20425a97ef": [
         {
          "avg_original_fitness": 4,
          "generation_sn": 5,
          "species_sn": 96
         }
        ],
        "data-8b085c06aca2dbd7f49c2149052e5588": [
         {
          "avg_original_fitness": 4,
          "generation_sn": 3,
          "species_sn": 0
         },
         {
          "avg_original_fitness": 4,
          "generation_sn": 1,
          "species_sn": 0
         },
         {
          "avg_original_fitness": 4,
          "generation_sn": 5,
          "species_sn": 0
         },
         {
          "avg_original_fitness": 4,
          "generation_sn": 2,
          "species_sn": 0
         },
         {
          "avg_original_fitness": 4,
          "generation_sn": 4,
          "species_sn": 0
         },
         {
          "avg_original_fitness": 4.13256911933334,
          "generation_sn": 0,
          "species_sn": 0
         }
        ],
        "data-8b9befe013f17ef355728bb9ccdd3b72": [
         {
          "avg_original_fitness": 4,
          "generation_sn": 5,
          "species_sn": 4
         },
         {
          "avg_original_fitness": 4,
          "generation_sn": 1,
          "species_sn": 4
         },
         {
          "avg_original_fitness": 4,
          "generation_sn": 3,
          "species_sn": 4
         },
         {
          "avg_original_fitness": 4,
          "generation_sn": 4,
          "species_sn": 4
         },
         {
          "avg_original_fitness": 4,
          "generation_sn": 2,
          "species_sn": 4
         }
        ],
        "data-8fd37626f6d822619ceab29f6d3a1fe7": [
         {
          "avg_original_fitness": 4,
          "generation_sn": 2,
          "species_sn": 31
         },
         {
          "avg_original_fitness": 4,
          "generation_sn": 5,
          "species_sn": 31
         },
         {
          "avg_original_fitness": 4,
          "generation_sn": 3,
          "species_sn": 31
         },
         {
          "avg_original_fitness": 4,
          "generation_sn": 1,
          "species_sn": 31
         },
         {
          "avg_original_fitness": 4,
          "generation_sn": 4,
          "species_sn": 31
         }
        ],
        "data-9005bf21fc95f7807906b865989dff12": [
         {
          "avg_original_fitness": 4,
          "generation_sn": 5,
          "species_sn": 8
         },
         {
          "avg_original_fitness": 4,
          "generation_sn": 4,
          "species_sn": 8
         },
         {
          "avg_original_fitness": 4,
          "generation_sn": 2,
          "species_sn": 8
         },
         {
          "avg_original_fitness": 4.41002233333333,
          "generation_sn": 1,
          "species_sn": 8
         },
         {
          "avg_original_fitness": 4,
          "generation_sn": 3,
          "species_sn": 8
         }
        ],
        "data-96ac851894385ba8f8d4dfd34c0b9a4e": [
         {
          "avg_original_fitness": 4,
          "generation_sn": 3,
          "species_sn": 32
         },
         {
          "avg_original_fitness": 4,
          "generation_sn": 4,
          "species_sn": 32
         },
         {
          "avg_original_fitness": 4,
          "generation_sn": 2,
          "species_sn": 32
         },
         {
          "avg_original_fitness": 4,
          "generation_sn": 5,
          "species_sn": 32
         },
         {
          "avg_original_fitness": 4,
          "generation_sn": 1,
          "species_sn": 32
         }
        ],
        "data-99673920125eaa4724c2450a54aa06e0": [
         {
          "avg_original_fitness": 4,
          "generation_sn": 4,
          "species_sn": 21
         },
         {
          "avg_original_fitness": 4,
          "generation_sn": 2,
          "species_sn": 21
         },
         {
          "avg_original_fitness": 4,
          "generation_sn": 1,
          "species_sn": 21
         },
         {
          "avg_original_fitness": 4,
          "generation_sn": 3,
          "species_sn": 21
         },
         {
          "avg_original_fitness": 4,
          "generation_sn": 5,
          "species_sn": 21
         }
        ],
        "data-9d0226b230120db62465f92b7d92ccfa": [
         {
          "avg_original_fitness": 4,
          "generation_sn": 2,
          "species_sn": 82
         },
         {
          "avg_original_fitness": 4,
          "generation_sn": 3,
          "species_sn": 82
         },
         {
          "avg_original_fitness": 4,
          "generation_sn": 5,
          "species_sn": 82
         },
         {
          "avg_original_fitness": 4,
          "generation_sn": 4,
          "species_sn": 82
         },
         {
          "avg_original_fitness": 4,
          "generation_sn": 1,
          "species_sn": 82
         }
        ],
        "data-9e89b52199f65d096e48d9a006e2cb61": [
         {
          "avg_original_fitness": 4,
          "generation_sn": 4,
          "species_sn": 89
         },
         {
          "avg_original_fitness": 4,
          "generation_sn": 5,
          "species_sn": 89
         }
        ],
        "data-9f15cc2537e91adbcaed50ae3ece5567": [
         {
          "avg_original_fitness": 4,
          "generation_sn": 2,
          "species_sn": 84
         },
         {
          "avg_original_fitness": 4,
          "generation_sn": 3,
          "species_sn": 84
         },
         {
          "avg_original_fitness": 4,
          "generation_sn": 4,
          "species_sn": 84
         },
         {
          "avg_original_fitness": 4,
          "generation_sn": 5,
          "species_sn": 84
         },
         {
          "avg_original_fitness": 4,
          "generation_sn": 1,
          "species_sn": 84
         }
        ],
        "data-a0eb36a27593f1d94f04442cd176ce9d": [
         {
          "avg_original_fitness": 4,
          "generation_sn": 1,
          "species_sn": 74
         },
         {
          "avg_original_fitness": 4,
          "generation_sn": 3,
          "species_sn": 74
         },
         {
          "avg_original_fitness": 4,
          "generation_sn": 5,
          "species_sn": 74
         },
         {
          "avg_original_fitness": 4,
          "generation_sn": 2,
          "species_sn": 74
         },
         {
          "avg_original_fitness": 4,
          "generation_sn": 4,
          "species_sn": 74
         }
        ],
        "data-a26718fb9694f1e42846e48e883fca51": [
         {
          "avg_original_fitness": 4,
          "generation_sn": 5,
          "species_sn": 91
         }
        ],
        "data-a432c8ba2ba05988917b1b324191f5bf": [
         {
          "avg_original_fitness": 4,
          "generation_sn": 2,
          "species_sn": 9
         },
         {
          "avg_original_fitness": 4,
          "generation_sn": 3,
          "species_sn": 9
         },
         {
          "avg_original_fitness": 4,
          "generation_sn": 5,
          "species_sn": 9
         },
         {
          "avg_original_fitness": 4,
          "generation_sn": 1,
          "species_sn": 9
         },
         {
          "avg_original_fitness": 4,
          "generation_sn": 4,
          "species_sn": 9
         }
        ],
        "data-a4eff1b76b38ea0f086c37339118587b": [
         {
          "avg_original_fitness": 4,
          "generation_sn": 1,
          "species_sn": 28
         },
         {
          "avg_original_fitness": 4,
          "generation_sn": 2,
          "species_sn": 28
         },
         {
          "avg_original_fitness": 4,
          "generation_sn": 3,
          "species_sn": 28
         },
         {
          "avg_original_fitness": 4,
          "generation_sn": 5,
          "species_sn": 28
         },
         {
          "avg_original_fitness": 4,
          "generation_sn": 4,
          "species_sn": 28
         }
        ],
        "data-a61cd1d3b399c708f04ea0b289124dd2": [
         {
          "avg_original_fitness": 4,
          "generation_sn": 3,
          "species_sn": 7
         },
         {
          "avg_original_fitness": 4,
          "generation_sn": 1,
          "species_sn": 7
         },
         {
          "avg_original_fitness": 4,
          "generation_sn": 2,
          "species_sn": 7
         },
         {
          "avg_original_fitness": 4,
          "generation_sn": 4,
          "species_sn": 7
         },
         {
          "avg_original_fitness": 4,
          "generation_sn": 5,
          "species_sn": 7
         }
        ],
        "data-a6adb394cf205d91bfd13d22effc0da2": [
         {
          "avg_original_fitness": 4,
          "generation_sn": 4,
          "species_sn": 2
         },
         {
          "avg_original_fitness": 4,
          "generation_sn": 3,
          "species_sn": 2
         },
         {
          "avg_original_fitness": 4,
          "generation_sn": 1,
          "species_sn": 2
         },
         {
          "avg_original_fitness": 4,
          "generation_sn": 2,
          "species_sn": 2
         },
         {
          "avg_original_fitness": 4,
          "generation_sn": 5,
          "species_sn": 2
         }
        ],
        "data-af8c1c4ab15b1bd7f81138876451f500": [
         {
          "avg_original_fitness": 4,
          "generation_sn": 2,
          "species_sn": 20
         },
         {
          "avg_original_fitness": 4,
          "generation_sn": 1,
          "species_sn": 20
         },
         {
          "avg_original_fitness": 4,
          "generation_sn": 4,
          "species_sn": 20
         },
         {
          "avg_original_fitness": 4,
          "generation_sn": 5,
          "species_sn": 20
         },
         {
          "avg_original_fitness": 4,
          "generation_sn": 3,
          "species_sn": 20
         }
        ],
        "data-b0405774602ca863d66e3aaffdb68a2f": [
         {
          "avg_original_fitness": 4,
          "generation_sn": 4,
          "species_sn": 42
         },
         {
          "avg_original_fitness": 4,
          "generation_sn": 3,
          "species_sn": 42
         },
         {
          "avg_original_fitness": 4,
          "generation_sn": 5,
          "species_sn": 42
         },
         {
          "avg_original_fitness": 4,
          "generation_sn": 2,
          "species_sn": 42
         },
         {
          "avg_original_fitness": 4,
          "generation_sn": 1,
          "species_sn": 42
         }
        ],
        "data-b25c9cbec0acec6525324aafca554d4e": [
         {
          "avg_original_fitness": 4,
          "generation_sn": 3,
          "species_sn": 58
         },
         {
          "avg_original_fitness": 4,
          "generation_sn": 5,
          "species_sn": 58
         },
         {
          "avg_original_fitness": 4,
          "generation_sn": 1,
          "species_sn": 58
         },
         {
          "avg_original_fitness": 4,
          "generation_sn": 2,
          "species_sn": 58
         },
         {
          "avg_original_fitness": 4,
          "generation_sn": 4,
          "species_sn": 58
         }
        ],
        "data-b26be4d46864f4a482e0e9789a66e48a": [
         {
          "avg_original_fitness": 4,
          "generation_sn": 2,
          "species_sn": 35
         },
         {
          "avg_original_fitness": 4,
          "generation_sn": 1,
          "species_sn": 35
         },
         {
          "avg_original_fitness": 4,
          "generation_sn": 4,
          "species_sn": 35
         },
         {
          "avg_original_fitness": 4,
          "generation_sn": 3,
          "species_sn": 35
         },
         {
          "avg_original_fitness": 4,
          "generation_sn": 5,
          "species_sn": 35
         }
        ],
        "data-b31743e8ea27c4320aa78cf3bd44d701": [
         {
          "avg_original_fitness": 4,
          "generation_sn": 2,
          "species_sn": 66
         },
         {
          "avg_original_fitness": 4,
          "generation_sn": 3,
          "species_sn": 66
         },
         {
          "avg_original_fitness": 4,
          "generation_sn": 5,
          "species_sn": 66
         },
         {
          "avg_original_fitness": 4,
          "generation_sn": 1,
          "species_sn": 66
         },
         {
          "avg_original_fitness": 4,
          "generation_sn": 4,
          "species_sn": 66
         }
        ],
        "data-b55f4441691df04679160e0e963e2291": [
         {
          "avg_original_fitness": 4,
          "generation_sn": 2,
          "species_sn": 46
         },
         {
          "avg_original_fitness": 4,
          "generation_sn": 5,
          "species_sn": 46
         },
         {
          "avg_original_fitness": 4.348967,
          "generation_sn": 1,
          "species_sn": 46
         },
         {
          "avg_original_fitness": 4,
          "generation_sn": 4,
          "species_sn": 46
         },
         {
          "avg_original_fitness": 4,
          "generation_sn": 3,
          "species_sn": 46
         }
        ],
        "data-bd5fb42888afeed2ebba24234d694908": [
         {
          "avg_original_fitness": 4,
          "generation_sn": 5,
          "species_sn": 85
         },
         {
          "avg_original_fitness": 4,
          "generation_sn": 4,
          "species_sn": 85
         },
         {
          "avg_original_fitness": 4,
          "generation_sn": 3,
          "species_sn": 85
         },
         {
          "avg_original_fitness": 4,
          "generation_sn": 2,
          "species_sn": 85
         },
         {
          "avg_original_fitness": 2.3192089,
          "generation_sn": 1,
          "species_sn": 85
         }
        ],
        "data-c103f09ae1fe4772db7088416f9d9c8d": [
         {
          "avg_original_fitness": 4,
          "generation_sn": 3,
          "species_sn": 72
         },
         {
          "avg_original_fitness": 4,
          "generation_sn": 2,
          "species_sn": 72
         },
         {
          "avg_original_fitness": 4,
          "generation_sn": 1,
          "species_sn": 72
         },
         {
          "avg_original_fitness": 4,
          "generation_sn": 5,
          "species_sn": 72
         },
         {
          "avg_original_fitness": 4,
          "generation_sn": 4,
          "species_sn": 72
         }
        ],
        "data-c175d57028d85de49548cec534347ac3": [
         {
          "avg_original_fitness": 4,
          "generation_sn": 1,
          "species_sn": 77
         },
         {
          "avg_original_fitness": 4,
          "generation_sn": 3,
          "species_sn": 77
         },
         {
          "avg_original_fitness": 4,
          "generation_sn": 5,
          "species_sn": 77
         },
         {
          "avg_original_fitness": 4,
          "generation_sn": 4,
          "species_sn": 77
         },
         {
          "avg_original_fitness": 4,
          "generation_sn": 2,
          "species_sn": 77
         }
        ],
        "data-c1d9e66a9ad698e41e3d25e50b9587de": [
         {
          "avg_original_fitness": 4,
          "generation_sn": 5,
          "species_sn": 51
         },
         {
          "avg_original_fitness": 4,
          "generation_sn": 1,
          "species_sn": 51
         },
         {
          "avg_original_fitness": 4,
          "generation_sn": 3,
          "species_sn": 51
         },
         {
          "avg_original_fitness": 4,
          "generation_sn": 2,
          "species_sn": 51
         },
         {
          "avg_original_fitness": 4,
          "generation_sn": 4,
          "species_sn": 51
         }
        ],
        "data-c2e1fb38a22d2749a3b31a3cf1c31153": [
         {
          "avg_original_fitness": 4,
          "generation_sn": 4,
          "species_sn": 86
         },
         {
          "avg_original_fitness": 4,
          "generation_sn": 3,
          "species_sn": 86
         },
         {
          "avg_original_fitness": 4,
          "generation_sn": 5,
          "species_sn": 86
         }
        ],
        "data-c95493d637cddd993eb694dcf7f94648": [
         {
          "avg_original_fitness": 4,
          "generation_sn": 5,
          "species_sn": 95
         }
        ],
        "data-ca630da557fc67622d2124f048a28dae": [
         {
          "avg_original_fitness": 4,
          "generation_sn": 1,
          "species_sn": 1
         },
         {
          "avg_original_fitness": 4,
          "generation_sn": 4,
          "species_sn": 1
         },
         {
          "avg_original_fitness": 4,
          "generation_sn": 5,
          "species_sn": 1
         },
         {
          "avg_original_fitness": 4,
          "generation_sn": 3,
          "species_sn": 1
         },
         {
          "avg_original_fitness": 4,
          "generation_sn": 2,
          "species_sn": 1
         }
        ],
        "data-ce50b81aaa97f852dcb6f7e182d36e94": [
         {
          "avg_original_fitness": 4,
          "generation_sn": 4,
          "species_sn": 56
         },
         {
          "avg_original_fitness": 4,
          "generation_sn": 5,
          "species_sn": 56
         },
         {
          "avg_original_fitness": 4,
          "generation_sn": 3,
          "species_sn": 56
         },
         {
          "avg_original_fitness": 4,
          "generation_sn": 1,
          "species_sn": 56
         },
         {
          "avg_original_fitness": 4,
          "generation_sn": 2,
          "species_sn": 56
         }
        ],
        "data-d0b45a2edd3438b805b082888d26daa5": [
         {
          "avg_original_fitness": 4,
          "generation_sn": 1,
          "species_sn": 61
         },
         {
          "avg_original_fitness": 4,
          "generation_sn": 5,
          "species_sn": 61
         },
         {
          "avg_original_fitness": 4,
          "generation_sn": 3,
          "species_sn": 61
         },
         {
          "avg_original_fitness": 4,
          "generation_sn": 4,
          "species_sn": 61
         },
         {
          "avg_original_fitness": 4,
          "generation_sn": 2,
          "species_sn": 61
         }
        ],
        "data-d4517fdf921b8d7f62737164bc6b59cf": [
         {
          "avg_original_fitness": 4,
          "generation_sn": 1,
          "species_sn": 5
         },
         {
          "avg_original_fitness": 4,
          "generation_sn": 4,
          "species_sn": 5
         },
         {
          "avg_original_fitness": 4,
          "generation_sn": 2,
          "species_sn": 5
         },
         {
          "avg_original_fitness": 4,
          "generation_sn": 5,
          "species_sn": 5
         },
         {
          "avg_original_fitness": 4,
          "generation_sn": 3,
          "species_sn": 5
         }
        ],
        "data-d45bbc8042bfd61b70deafe409672a69": [
         {
          "avg_original_fitness": 4.0068132,
          "generation_sn": 1,
          "species_sn": 19
         },
         {
          "avg_original_fitness": 4,
          "generation_sn": 4,
          "species_sn": 19
         },
         {
          "avg_original_fitness": 4,
          "generation_sn": 5,
          "species_sn": 19
         },
         {
          "avg_original_fitness": 4,
          "generation_sn": 2,
          "species_sn": 19
         },
         {
          "avg_original_fitness": 4,
          "generation_sn": 3,
          "species_sn": 19
         }
        ],
        "data-d7428836f2108d8252770fc0fe40832d": [
         {
          "avg_original_fitness": 4,
          "generation_sn": 1,
          "species_sn": 40
         },
         {
          "avg_original_fitness": 4,
          "generation_sn": 5,
          "species_sn": 40
         },
         {
          "avg_original_fitness": 4,
          "generation_sn": 4,
          "species_sn": 40
         },
         {
          "avg_original_fitness": 4,
          "generation_sn": 2,
          "species_sn": 40
         },
         {
          "avg_original_fitness": 4,
          "generation_sn": 3,
          "species_sn": 40
         }
        ],
        "data-d7d6efe6ad4c687ec4c9945981407142": [
         {
          "avg_original_fitness": 4,
          "generation_sn": 4,
          "species_sn": 24
         },
         {
          "avg_original_fitness": 4,
          "generation_sn": 1,
          "species_sn": 24
         },
         {
          "avg_original_fitness": 4,
          "generation_sn": 2,
          "species_sn": 24
         },
         {
          "avg_original_fitness": 4,
          "generation_sn": 3,
          "species_sn": 24
         },
         {
          "avg_original_fitness": 4,
          "generation_sn": 5,
          "species_sn": 24
         }
        ],
        "data-da5028150d36efb867fa68ac96618e58": [
         {
          "avg_original_fitness": 4,
          "generation_sn": 5,
          "species_sn": 93
         }
        ],
        "data-dcf51efbf71d3c657dca671221cb50d1": [
         {
          "avg_original_fitness": 4,
          "generation_sn": 4,
          "species_sn": 87
         }
        ],
        "data-de070506278b48c22aad606164b1d444": [
         {
          "avg_original_fitness": 4,
          "generation_sn": 5,
          "species_sn": 78
         },
         {
          "avg_original_fitness": 4,
          "generation_sn": 1,
          "species_sn": 78
         },
         {
          "avg_original_fitness": 4,
          "generation_sn": 4,
          "species_sn": 78
         },
         {
          "avg_original_fitness": 4,
          "generation_sn": 2,
          "species_sn": 78
         },
         {
          "avg_original_fitness": 4,
          "generation_sn": 3,
          "species_sn": 78
         }
        ],
        "data-df2a2867c1c77ce95b53b1232df361c1": [
         {
          "avg_original_fitness": 4,
          "generation_sn": 2,
          "species_sn": 26
         },
         {
          "avg_original_fitness": 4,
          "generation_sn": 4,
          "species_sn": 26
         },
         {
          "avg_original_fitness": 4,
          "generation_sn": 3,
          "species_sn": 26
         },
         {
          "avg_original_fitness": 4,
          "generation_sn": 1,
          "species_sn": 26
         },
         {
          "avg_original_fitness": 4,
          "generation_sn": 5,
          "species_sn": 26
         }
        ],
        "data-e83417f64245221d4d78446083cfb980": [
         {
          "avg_original_fitness": 4,
          "generation_sn": 4,
          "species_sn": 38
         },
         {
          "avg_original_fitness": 4,
          "generation_sn": 3,
          "species_sn": 38
         },
         {
          "avg_original_fitness": 4,
          "generation_sn": 2,
          "species_sn": 38
         },
         {
          "avg_original_fitness": 4,
          "generation_sn": 1,
          "species_sn": 38
         },
         {
          "avg_original_fitness": 4,
          "generation_sn": 5,
          "species_sn": 38
         }
        ],
        "data-eac4e01cf66dfca00905329569e457d2": [
         {
          "avg_original_fitness": 4,
          "generation_sn": 2,
          "species_sn": 83
         },
         {
          "avg_original_fitness": 4,
          "generation_sn": 4,
          "species_sn": 83
         },
         {
          "avg_original_fitness": 4,
          "generation_sn": 5,
          "species_sn": 83
         },
         {
          "avg_original_fitness": 4,
          "generation_sn": 3,
          "species_sn": 83
         },
         {
          "avg_original_fitness": 4,
          "generation_sn": 1,
          "species_sn": 83
         }
        ],
        "data-ed1af3169c63c13615c01c7a9a93f329": [
         {
          "avg_original_fitness": 4,
          "generation_sn": 4,
          "species_sn": 76
         },
         {
          "avg_original_fitness": 4,
          "generation_sn": 5,
          "species_sn": 76
         },
         {
          "avg_original_fitness": 4,
          "generation_sn": 1,
          "species_sn": 76
         },
         {
          "avg_original_fitness": 4,
          "generation_sn": 3,
          "species_sn": 76
         },
         {
          "avg_original_fitness": 4,
          "generation_sn": 2,
          "species_sn": 76
         }
        ],
        "data-f36e798c05afdc2382530f5db4f885cb": [
         {
          "avg_original_fitness": 4,
          "generation_sn": 3,
          "species_sn": 69
         },
         {
          "avg_original_fitness": 4,
          "generation_sn": 4,
          "species_sn": 69
         },
         {
          "avg_original_fitness": 4,
          "generation_sn": 5,
          "species_sn": 69
         },
         {
          "avg_original_fitness": 4,
          "generation_sn": 2,
          "species_sn": 69
         },
         {
          "avg_original_fitness": 4,
          "generation_sn": 1,
          "species_sn": 69
         }
        ],
        "data-f4924df6cf1543bd751c0af1e7441b86": [
         {
          "avg_original_fitness": 4.2987485,
          "generation_sn": 2,
          "species_sn": 36
         },
         {
          "avg_original_fitness": 4,
          "generation_sn": 1,
          "species_sn": 36
         },
         {
          "avg_original_fitness": 4,
          "generation_sn": 5,
          "species_sn": 36
         },
         {
          "avg_original_fitness": 4,
          "generation_sn": 4,
          "species_sn": 36
         },
         {
          "avg_original_fitness": 4,
          "generation_sn": 3,
          "species_sn": 36
         }
        ],
        "data-f75fcc2b3bcdad2fd7c818646e70caaf": [
         {
          "avg_original_fitness": 4,
          "generation_sn": 2,
          "species_sn": 80
         },
         {
          "avg_original_fitness": 4,
          "generation_sn": 5,
          "species_sn": 80
         },
         {
          "avg_original_fitness": 4,
          "generation_sn": 3,
          "species_sn": 80
         },
         {
          "avg_original_fitness": 4,
          "generation_sn": 4,
          "species_sn": 80
         },
         {
          "avg_original_fitness": 4,
          "generation_sn": 1,
          "species_sn": 80
         }
        ],
        "data-f907ea04b333f41a27d183c2e1166d07": [
         {
          "avg_original_fitness": 4,
          "generation_sn": 5,
          "species_sn": 22
         },
         {
          "avg_original_fitness": 3.85692465,
          "generation_sn": 1,
          "species_sn": 22
         },
         {
          "avg_original_fitness": 4,
          "generation_sn": 4,
          "species_sn": 22
         },
         {
          "avg_original_fitness": 4,
          "generation_sn": 3,
          "species_sn": 22
         },
         {
          "avg_original_fitness": 4,
          "generation_sn": 2,
          "species_sn": 22
         }
        ],
        "data-f9e2e0a10d5d55bda7c1124ac9eaf0fd": [
         {
          "avg_original_fitness": 4,
          "generation_sn": 2,
          "species_sn": 67
         },
         {
          "avg_original_fitness": 4,
          "generation_sn": 1,
          "species_sn": 67
         },
         {
          "avg_original_fitness": 4,
          "generation_sn": 5,
          "species_sn": 67
         },
         {
          "avg_original_fitness": 4,
          "generation_sn": 3,
          "species_sn": 67
         },
         {
          "avg_original_fitness": 4,
          "generation_sn": 4,
          "species_sn": 67
         }
        ],
        "data-fc2d2eaee7d51a6b0c54764fb86bbe93": [
         {
          "avg_original_fitness": 4,
          "generation_sn": 2,
          "species_sn": 55
         },
         {
          "avg_original_fitness": 4,
          "generation_sn": 1,
          "species_sn": 55
         },
         {
          "avg_original_fitness": 4,
          "generation_sn": 3,
          "species_sn": 55
         },
         {
          "avg_original_fitness": 4,
          "generation_sn": 5,
          "species_sn": 55
         },
         {
          "avg_original_fitness": 4,
          "generation_sn": 4,
          "species_sn": 55
         }
        ],
        "data-fd7fbbb1c7c139d7aea11ea747145594": [
         {
          "avg_original_fitness": 4,
          "generation_sn": 4,
          "species_sn": 79
         },
         {
          "avg_original_fitness": 4,
          "generation_sn": 5,
          "species_sn": 79
         },
         {
          "avg_original_fitness": 4,
          "generation_sn": 3,
          "species_sn": 79
         },
         {
          "avg_original_fitness": 4.881761,
          "generation_sn": 1,
          "species_sn": 79
         },
         {
          "avg_original_fitness": 4,
          "generation_sn": 2,
          "species_sn": 79
         }
        ],
        "data-fff202029461412d0787df07eb52d654": [
         {
          "avg_original_fitness": 4,
          "generation_sn": 3,
          "species_sn": 33
         },
         {
          "avg_original_fitness": 4,
          "generation_sn": 4,
          "species_sn": 33
         },
         {
          "avg_original_fitness": 4,
          "generation_sn": 5,
          "species_sn": 33
         },
         {
          "avg_original_fitness": 4,
          "generation_sn": 2,
          "species_sn": 33
         },
         {
          "avg_original_fitness": 4,
          "generation_sn": 1,
          "species_sn": 33
         }
        ]
       },
       "layer": [
        {
         "data": {
          "name": "data-8b085c06aca2dbd7f49c2149052e5588"
         },
         "encoding": {
          "color": {
           "field": "species_sn",
           "legend": null,
           "type": "nominal"
          },
          "opacity": {
           "condition": {
            "selection": "selector001",
            "value": 1
           },
           "value": 0
          },
          "tooltip": {
           "field": "species_sn",
           "type": "quantitative"
          },
          "x": {
           "field": "generation_sn",
           "type": "nominal"
          },
          "y": {
           "field": "avg_original_fitness",
           "type": "quantitative"
          }
         },
         "mark": "line",
         "selection": {
          "selector001": {
           "empty": "all",
           "fields": [
            "_vgsid_"
           ],
           "nearest": true,
           "on": "mouseover",
           "resolve": "global",
           "type": "single"
          },
          "selector100": {
           "bind": "scales",
           "encodings": [
            "x",
            "y"
           ],
           "mark": {
            "fill": "#333",
            "fillOpacity": 0.125,
            "stroke": "white"
           },
           "on": "[mousedown, window:mouseup] > window:mousemove!",
           "resolve": "global",
           "translate": "[mousedown, window:mouseup] > window:mousemove!",
           "type": "interval",
           "zoom": "wheel!"
          }
         },
         "title": "avg OF of species over generation"
        },
        {
         "data": {
          "name": "data-ca630da557fc67622d2124f048a28dae"
         },
         "encoding": {
          "color": {
           "field": "species_sn",
           "legend": null,
           "type": "nominal"
          },
          "opacity": {
           "condition": {
            "selection": "selector002",
            "value": 1
           },
           "value": 0
          },
          "tooltip": {
           "field": "species_sn",
           "type": "quantitative"
          },
          "x": {
           "field": "generation_sn",
           "type": "nominal"
          },
          "y": {
           "field": "avg_original_fitness",
           "type": "quantitative"
          }
         },
         "mark": "line",
         "selection": {
          "selector002": {
           "empty": "all",
           "fields": [
            "_vgsid_"
           ],
           "nearest": true,
           "on": "mouseover",
           "resolve": "global",
           "type": "single"
          }
         },
         "title": "avg OF of species over generation"
        },
        {
         "data": {
          "name": "data-a6adb394cf205d91bfd13d22effc0da2"
         },
         "encoding": {
          "color": {
           "field": "species_sn",
           "legend": null,
           "type": "nominal"
          },
          "opacity": {
           "condition": {
            "selection": "selector003",
            "value": 1
           },
           "value": 0
          },
          "tooltip": {
           "field": "species_sn",
           "type": "quantitative"
          },
          "x": {
           "field": "generation_sn",
           "type": "nominal"
          },
          "y": {
           "field": "avg_original_fitness",
           "type": "quantitative"
          }
         },
         "mark": "line",
         "selection": {
          "selector003": {
           "empty": "all",
           "fields": [
            "_vgsid_"
           ],
           "nearest": true,
           "on": "mouseover",
           "resolve": "global",
           "type": "single"
          }
         },
         "title": "avg OF of species over generation"
        },
        {
         "data": {
          "name": "data-2932112a5cfdc2644de9616fbefcfea4"
         },
         "encoding": {
          "color": {
           "field": "species_sn",
           "legend": null,
           "type": "nominal"
          },
          "opacity": {
           "condition": {
            "selection": "selector004",
            "value": 1
           },
           "value": 0
          },
          "tooltip": {
           "field": "species_sn",
           "type": "quantitative"
          },
          "x": {
           "field": "generation_sn",
           "type": "nominal"
          },
          "y": {
           "field": "avg_original_fitness",
           "type": "quantitative"
          }
         },
         "mark": "line",
         "selection": {
          "selector004": {
           "empty": "all",
           "fields": [
            "_vgsid_"
           ],
           "nearest": true,
           "on": "mouseover",
           "resolve": "global",
           "type": "single"
          }
         },
         "title": "avg OF of species over generation"
        },
        {
         "data": {
          "name": "data-8b9befe013f17ef355728bb9ccdd3b72"
         },
         "encoding": {
          "color": {
           "field": "species_sn",
           "legend": null,
           "type": "nominal"
          },
          "opacity": {
           "condition": {
            "selection": "selector005",
            "value": 1
           },
           "value": 0
          },
          "tooltip": {
           "field": "species_sn",
           "type": "quantitative"
          },
          "x": {
           "field": "generation_sn",
           "type": "nominal"
          },
          "y": {
           "field": "avg_original_fitness",
           "type": "quantitative"
          }
         },
         "mark": "line",
         "selection": {
          "selector005": {
           "empty": "all",
           "fields": [
            "_vgsid_"
           ],
           "nearest": true,
           "on": "mouseover",
           "resolve": "global",
           "type": "single"
          }
         },
         "title": "avg OF of species over generation"
        },
        {
         "data": {
          "name": "data-d4517fdf921b8d7f62737164bc6b59cf"
         },
         "encoding": {
          "color": {
           "field": "species_sn",
           "legend": null,
           "type": "nominal"
          },
          "opacity": {
           "condition": {
            "selection": "selector006",
            "value": 1
           },
           "value": 0
          },
          "tooltip": {
           "field": "species_sn",
           "type": "quantitative"
          },
          "x": {
           "field": "generation_sn",
           "type": "nominal"
          },
          "y": {
           "field": "avg_original_fitness",
           "type": "quantitative"
          }
         },
         "mark": "line",
         "selection": {
          "selector006": {
           "empty": "all",
           "fields": [
            "_vgsid_"
           ],
           "nearest": true,
           "on": "mouseover",
           "resolve": "global",
           "type": "single"
          }
         },
         "title": "avg OF of species over generation"
        },
        {
         "data": {
          "name": "data-30aa00f978e6c88cb91adf5d6e963a68"
         },
         "encoding": {
          "color": {
           "field": "species_sn",
           "legend": null,
           "type": "nominal"
          },
          "opacity": {
           "condition": {
            "selection": "selector007",
            "value": 1
           },
           "value": 0
          },
          "tooltip": {
           "field": "species_sn",
           "type": "quantitative"
          },
          "x": {
           "field": "generation_sn",
           "type": "nominal"
          },
          "y": {
           "field": "avg_original_fitness",
           "type": "quantitative"
          }
         },
         "mark": "line",
         "selection": {
          "selector007": {
           "empty": "all",
           "fields": [
            "_vgsid_"
           ],
           "nearest": true,
           "on": "mouseover",
           "resolve": "global",
           "type": "single"
          }
         },
         "title": "avg OF of species over generation"
        },
        {
         "data": {
          "name": "data-a61cd1d3b399c708f04ea0b289124dd2"
         },
         "encoding": {
          "color": {
           "field": "species_sn",
           "legend": null,
           "type": "nominal"
          },
          "opacity": {
           "condition": {
            "selection": "selector008",
            "value": 1
           },
           "value": 0
          },
          "tooltip": {
           "field": "species_sn",
           "type": "quantitative"
          },
          "x": {
           "field": "generation_sn",
           "type": "nominal"
          },
          "y": {
           "field": "avg_original_fitness",
           "type": "quantitative"
          }
         },
         "mark": "line",
         "selection": {
          "selector008": {
           "empty": "all",
           "fields": [
            "_vgsid_"
           ],
           "nearest": true,
           "on": "mouseover",
           "resolve": "global",
           "type": "single"
          }
         },
         "title": "avg OF of species over generation"
        },
        {
         "data": {
          "name": "data-9005bf21fc95f7807906b865989dff12"
         },
         "encoding": {
          "color": {
           "field": "species_sn",
           "legend": null,
           "type": "nominal"
          },
          "opacity": {
           "condition": {
            "selection": "selector009",
            "value": 1
           },
           "value": 0
          },
          "tooltip": {
           "field": "species_sn",
           "type": "quantitative"
          },
          "x": {
           "field": "generation_sn",
           "type": "nominal"
          },
          "y": {
           "field": "avg_original_fitness",
           "type": "quantitative"
          }
         },
         "mark": "line",
         "selection": {
          "selector009": {
           "empty": "all",
           "fields": [
            "_vgsid_"
           ],
           "nearest": true,
           "on": "mouseover",
           "resolve": "global",
           "type": "single"
          }
         },
         "title": "avg OF of species over generation"
        },
        {
         "data": {
          "name": "data-a432c8ba2ba05988917b1b324191f5bf"
         },
         "encoding": {
          "color": {
           "field": "species_sn",
           "legend": null,
           "type": "nominal"
          },
          "opacity": {
           "condition": {
            "selection": "selector010",
            "value": 1
           },
           "value": 0
          },
          "tooltip": {
           "field": "species_sn",
           "type": "quantitative"
          },
          "x": {
           "field": "generation_sn",
           "type": "nominal"
          },
          "y": {
           "field": "avg_original_fitness",
           "type": "quantitative"
          }
         },
         "mark": "line",
         "selection": {
          "selector010": {
           "empty": "all",
           "fields": [
            "_vgsid_"
           ],
           "nearest": true,
           "on": "mouseover",
           "resolve": "global",
           "type": "single"
          }
         },
         "title": "avg OF of species over generation"
        },
        {
         "data": {
          "name": "data-300cca6a65430479c15b920c94987e31"
         },
         "encoding": {
          "color": {
           "field": "species_sn",
           "legend": null,
           "type": "nominal"
          },
          "opacity": {
           "condition": {
            "selection": "selector011",
            "value": 1
           },
           "value": 0
          },
          "tooltip": {
           "field": "species_sn",
           "type": "quantitative"
          },
          "x": {
           "field": "generation_sn",
           "type": "nominal"
          },
          "y": {
           "field": "avg_original_fitness",
           "type": "quantitative"
          }
         },
         "mark": "line",
         "selection": {
          "selector011": {
           "empty": "all",
           "fields": [
            "_vgsid_"
           ],
           "nearest": true,
           "on": "mouseover",
           "resolve": "global",
           "type": "single"
          }
         },
         "title": "avg OF of species over generation"
        },
        {
         "data": {
          "name": "data-53eaee662dc1d39a354cfecbab72f230"
         },
         "encoding": {
          "color": {
           "field": "species_sn",
           "legend": null,
           "type": "nominal"
          },
          "opacity": {
           "condition": {
            "selection": "selector012",
            "value": 1
           },
           "value": 0
          },
          "tooltip": {
           "field": "species_sn",
           "type": "quantitative"
          },
          "x": {
           "field": "generation_sn",
           "type": "nominal"
          },
          "y": {
           "field": "avg_original_fitness",
           "type": "quantitative"
          }
         },
         "mark": "line",
         "selection": {
          "selector012": {
           "empty": "all",
           "fields": [
            "_vgsid_"
           ],
           "nearest": true,
           "on": "mouseover",
           "resolve": "global",
           "type": "single"
          }
         },
         "title": "avg OF of species over generation"
        },
        {
         "data": {
          "name": "data-4e439948e3e512d8fa5618d40dec7200"
         },
         "encoding": {
          "color": {
           "field": "species_sn",
           "legend": null,
           "type": "nominal"
          },
          "opacity": {
           "condition": {
            "selection": "selector013",
            "value": 1
           },
           "value": 0
          },
          "tooltip": {
           "field": "species_sn",
           "type": "quantitative"
          },
          "x": {
           "field": "generation_sn",
           "type": "nominal"
          },
          "y": {
           "field": "avg_original_fitness",
           "type": "quantitative"
          }
         },
         "mark": "line",
         "selection": {
          "selector013": {
           "empty": "all",
           "fields": [
            "_vgsid_"
           ],
           "nearest": true,
           "on": "mouseover",
           "resolve": "global",
           "type": "single"
          }
         },
         "title": "avg OF of species over generation"
        },
        {
         "data": {
          "name": "data-1e78ef5134285de82929be9b452b2b80"
         },
         "encoding": {
          "color": {
           "field": "species_sn",
           "legend": null,
           "type": "nominal"
          },
          "opacity": {
           "condition": {
            "selection": "selector014",
            "value": 1
           },
           "value": 0
          },
          "tooltip": {
           "field": "species_sn",
           "type": "quantitative"
          },
          "x": {
           "field": "generation_sn",
           "type": "nominal"
          },
          "y": {
           "field": "avg_original_fitness",
           "type": "quantitative"
          }
         },
         "mark": "line",
         "selection": {
          "selector014": {
           "empty": "all",
           "fields": [
            "_vgsid_"
           ],
           "nearest": true,
           "on": "mouseover",
           "resolve": "global",
           "type": "single"
          }
         },
         "title": "avg OF of species over generation"
        },
        {
         "data": {
          "name": "data-839c729124fb97da4b0fe7c5128c02c5"
         },
         "encoding": {
          "color": {
           "field": "species_sn",
           "legend": null,
           "type": "nominal"
          },
          "opacity": {
           "condition": {
            "selection": "selector015",
            "value": 1
           },
           "value": 0
          },
          "tooltip": {
           "field": "species_sn",
           "type": "quantitative"
          },
          "x": {
           "field": "generation_sn",
           "type": "nominal"
          },
          "y": {
           "field": "avg_original_fitness",
           "type": "quantitative"
          }
         },
         "mark": "line",
         "selection": {
          "selector015": {
           "empty": "all",
           "fields": [
            "_vgsid_"
           ],
           "nearest": true,
           "on": "mouseover",
           "resolve": "global",
           "type": "single"
          }
         },
         "title": "avg OF of species over generation"
        },
        {
         "data": {
          "name": "data-06f275cc8a4275a33f4e70169feec3b4"
         },
         "encoding": {
          "color": {
           "field": "species_sn",
           "legend": null,
           "type": "nominal"
          },
          "opacity": {
           "condition": {
            "selection": "selector016",
            "value": 1
           },
           "value": 0
          },
          "tooltip": {
           "field": "species_sn",
           "type": "quantitative"
          },
          "x": {
           "field": "generation_sn",
           "type": "nominal"
          },
          "y": {
           "field": "avg_original_fitness",
           "type": "quantitative"
          }
         },
         "mark": "line",
         "selection": {
          "selector016": {
           "empty": "all",
           "fields": [
            "_vgsid_"
           ],
           "nearest": true,
           "on": "mouseover",
           "resolve": "global",
           "type": "single"
          }
         },
         "title": "avg OF of species over generation"
        },
        {
         "data": {
          "name": "data-2a08d5baf3bdfb5ab843d5775e07888f"
         },
         "encoding": {
          "color": {
           "field": "species_sn",
           "legend": null,
           "type": "nominal"
          },
          "opacity": {
           "condition": {
            "selection": "selector017",
            "value": 1
           },
           "value": 0
          },
          "tooltip": {
           "field": "species_sn",
           "type": "quantitative"
          },
          "x": {
           "field": "generation_sn",
           "type": "nominal"
          },
          "y": {
           "field": "avg_original_fitness",
           "type": "quantitative"
          }
         },
         "mark": "line",
         "selection": {
          "selector017": {
           "empty": "all",
           "fields": [
            "_vgsid_"
           ],
           "nearest": true,
           "on": "mouseover",
           "resolve": "global",
           "type": "single"
          }
         },
         "title": "avg OF of species over generation"
        },
        {
         "data": {
          "name": "data-0b82055c612442f6904467b5843dbddb"
         },
         "encoding": {
          "color": {
           "field": "species_sn",
           "legend": null,
           "type": "nominal"
          },
          "opacity": {
           "condition": {
            "selection": "selector018",
            "value": 1
           },
           "value": 0
          },
          "tooltip": {
           "field": "species_sn",
           "type": "quantitative"
          },
          "x": {
           "field": "generation_sn",
           "type": "nominal"
          },
          "y": {
           "field": "avg_original_fitness",
           "type": "quantitative"
          }
         },
         "mark": "line",
         "selection": {
          "selector018": {
           "empty": "all",
           "fields": [
            "_vgsid_"
           ],
           "nearest": true,
           "on": "mouseover",
           "resolve": "global",
           "type": "single"
          }
         },
         "title": "avg OF of species over generation"
        },
        {
         "data": {
          "name": "data-4a0fa44271c53d39ea3228075b651f33"
         },
         "encoding": {
          "color": {
           "field": "species_sn",
           "legend": null,
           "type": "nominal"
          },
          "opacity": {
           "condition": {
            "selection": "selector019",
            "value": 1
           },
           "value": 0
          },
          "tooltip": {
           "field": "species_sn",
           "type": "quantitative"
          },
          "x": {
           "field": "generation_sn",
           "type": "nominal"
          },
          "y": {
           "field": "avg_original_fitness",
           "type": "quantitative"
          }
         },
         "mark": "line",
         "selection": {
          "selector019": {
           "empty": "all",
           "fields": [
            "_vgsid_"
           ],
           "nearest": true,
           "on": "mouseover",
           "resolve": "global",
           "type": "single"
          }
         },
         "title": "avg OF of species over generation"
        },
        {
         "data": {
          "name": "data-d45bbc8042bfd61b70deafe409672a69"
         },
         "encoding": {
          "color": {
           "field": "species_sn",
           "legend": null,
           "type": "nominal"
          },
          "opacity": {
           "condition": {
            "selection": "selector020",
            "value": 1
           },
           "value": 0
          },
          "tooltip": {
           "field": "species_sn",
           "type": "quantitative"
          },
          "x": {
           "field": "generation_sn",
           "type": "nominal"
          },
          "y": {
           "field": "avg_original_fitness",
           "type": "quantitative"
          }
         },
         "mark": "line",
         "selection": {
          "selector020": {
           "empty": "all",
           "fields": [
            "_vgsid_"
           ],
           "nearest": true,
           "on": "mouseover",
           "resolve": "global",
           "type": "single"
          }
         },
         "title": "avg OF of species over generation"
        },
        {
         "data": {
          "name": "data-af8c1c4ab15b1bd7f81138876451f500"
         },
         "encoding": {
          "color": {
           "field": "species_sn",
           "legend": null,
           "type": "nominal"
          },
          "opacity": {
           "condition": {
            "selection": "selector021",
            "value": 1
           },
           "value": 0
          },
          "tooltip": {
           "field": "species_sn",
           "type": "quantitative"
          },
          "x": {
           "field": "generation_sn",
           "type": "nominal"
          },
          "y": {
           "field": "avg_original_fitness",
           "type": "quantitative"
          }
         },
         "mark": "line",
         "selection": {
          "selector021": {
           "empty": "all",
           "fields": [
            "_vgsid_"
           ],
           "nearest": true,
           "on": "mouseover",
           "resolve": "global",
           "type": "single"
          }
         },
         "title": "avg OF of species over generation"
        },
        {
         "data": {
          "name": "data-99673920125eaa4724c2450a54aa06e0"
         },
         "encoding": {
          "color": {
           "field": "species_sn",
           "legend": null,
           "type": "nominal"
          },
          "opacity": {
           "condition": {
            "selection": "selector022",
            "value": 1
           },
           "value": 0
          },
          "tooltip": {
           "field": "species_sn",
           "type": "quantitative"
          },
          "x": {
           "field": "generation_sn",
           "type": "nominal"
          },
          "y": {
           "field": "avg_original_fitness",
           "type": "quantitative"
          }
         },
         "mark": "line",
         "selection": {
          "selector022": {
           "empty": "all",
           "fields": [
            "_vgsid_"
           ],
           "nearest": true,
           "on": "mouseover",
           "resolve": "global",
           "type": "single"
          }
         },
         "title": "avg OF of species over generation"
        },
        {
         "data": {
          "name": "data-f907ea04b333f41a27d183c2e1166d07"
         },
         "encoding": {
          "color": {
           "field": "species_sn",
           "legend": null,
           "type": "nominal"
          },
          "opacity": {
           "condition": {
            "selection": "selector023",
            "value": 1
           },
           "value": 0
          },
          "tooltip": {
           "field": "species_sn",
           "type": "quantitative"
          },
          "x": {
           "field": "generation_sn",
           "type": "nominal"
          },
          "y": {
           "field": "avg_original_fitness",
           "type": "quantitative"
          }
         },
         "mark": "line",
         "selection": {
          "selector023": {
           "empty": "all",
           "fields": [
            "_vgsid_"
           ],
           "nearest": true,
           "on": "mouseover",
           "resolve": "global",
           "type": "single"
          }
         },
         "title": "avg OF of species over generation"
        },
        {
         "data": {
          "name": "data-39094bb4ba16ecbd21da0cac35ae8e3b"
         },
         "encoding": {
          "color": {
           "field": "species_sn",
           "legend": null,
           "type": "nominal"
          },
          "opacity": {
           "condition": {
            "selection": "selector024",
            "value": 1
           },
           "value": 0
          },
          "tooltip": {
           "field": "species_sn",
           "type": "quantitative"
          },
          "x": {
           "field": "generation_sn",
           "type": "nominal"
          },
          "y": {
           "field": "avg_original_fitness",
           "type": "quantitative"
          }
         },
         "mark": "line",
         "selection": {
          "selector024": {
           "empty": "all",
           "fields": [
            "_vgsid_"
           ],
           "nearest": true,
           "on": "mouseover",
           "resolve": "global",
           "type": "single"
          }
         },
         "title": "avg OF of species over generation"
        },
        {
         "data": {
          "name": "data-d7d6efe6ad4c687ec4c9945981407142"
         },
         "encoding": {
          "color": {
           "field": "species_sn",
           "legend": null,
           "type": "nominal"
          },
          "opacity": {
           "condition": {
            "selection": "selector025",
            "value": 1
           },
           "value": 0
          },
          "tooltip": {
           "field": "species_sn",
           "type": "quantitative"
          },
          "x": {
           "field": "generation_sn",
           "type": "nominal"
          },
          "y": {
           "field": "avg_original_fitness",
           "type": "quantitative"
          }
         },
         "mark": "line",
         "selection": {
          "selector025": {
           "empty": "all",
           "fields": [
            "_vgsid_"
           ],
           "nearest": true,
           "on": "mouseover",
           "resolve": "global",
           "type": "single"
          }
         },
         "title": "avg OF of species over generation"
        },
        {
         "data": {
          "name": "data-3d644b1845df51131f82141657c2b867"
         },
         "encoding": {
          "color": {
           "field": "species_sn",
           "legend": null,
           "type": "nominal"
          },
          "opacity": {
           "condition": {
            "selection": "selector026",
            "value": 1
           },
           "value": 0
          },
          "tooltip": {
           "field": "species_sn",
           "type": "quantitative"
          },
          "x": {
           "field": "generation_sn",
           "type": "nominal"
          },
          "y": {
           "field": "avg_original_fitness",
           "type": "quantitative"
          }
         },
         "mark": "line",
         "selection": {
          "selector026": {
           "empty": "all",
           "fields": [
            "_vgsid_"
           ],
           "nearest": true,
           "on": "mouseover",
           "resolve": "global",
           "type": "single"
          }
         },
         "title": "avg OF of species over generation"
        },
        {
         "data": {
          "name": "data-df2a2867c1c77ce95b53b1232df361c1"
         },
         "encoding": {
          "color": {
           "field": "species_sn",
           "legend": null,
           "type": "nominal"
          },
          "opacity": {
           "condition": {
            "selection": "selector027",
            "value": 1
           },
           "value": 0
          },
          "tooltip": {
           "field": "species_sn",
           "type": "quantitative"
          },
          "x": {
           "field": "generation_sn",
           "type": "nominal"
          },
          "y": {
           "field": "avg_original_fitness",
           "type": "quantitative"
          }
         },
         "mark": "line",
         "selection": {
          "selector027": {
           "empty": "all",
           "fields": [
            "_vgsid_"
           ],
           "nearest": true,
           "on": "mouseover",
           "resolve": "global",
           "type": "single"
          }
         },
         "title": "avg OF of species over generation"
        },
        {
         "data": {
          "name": "data-4e589aab50b3f4d814c13c7dbf57b1f7"
         },
         "encoding": {
          "color": {
           "field": "species_sn",
           "legend": null,
           "type": "nominal"
          },
          "opacity": {
           "condition": {
            "selection": "selector028",
            "value": 1
           },
           "value": 0
          },
          "tooltip": {
           "field": "species_sn",
           "type": "quantitative"
          },
          "x": {
           "field": "generation_sn",
           "type": "nominal"
          },
          "y": {
           "field": "avg_original_fitness",
           "type": "quantitative"
          }
         },
         "mark": "line",
         "selection": {
          "selector028": {
           "empty": "all",
           "fields": [
            "_vgsid_"
           ],
           "nearest": true,
           "on": "mouseover",
           "resolve": "global",
           "type": "single"
          }
         },
         "title": "avg OF of species over generation"
        },
        {
         "data": {
          "name": "data-a4eff1b76b38ea0f086c37339118587b"
         },
         "encoding": {
          "color": {
           "field": "species_sn",
           "legend": null,
           "type": "nominal"
          },
          "opacity": {
           "condition": {
            "selection": "selector029",
            "value": 1
           },
           "value": 0
          },
          "tooltip": {
           "field": "species_sn",
           "type": "quantitative"
          },
          "x": {
           "field": "generation_sn",
           "type": "nominal"
          },
          "y": {
           "field": "avg_original_fitness",
           "type": "quantitative"
          }
         },
         "mark": "line",
         "selection": {
          "selector029": {
           "empty": "all",
           "fields": [
            "_vgsid_"
           ],
           "nearest": true,
           "on": "mouseover",
           "resolve": "global",
           "type": "single"
          }
         },
         "title": "avg OF of species over generation"
        },
        {
         "data": {
          "name": "data-3fee7414b6f9200d7ccfd2edfedfe2b1"
         },
         "encoding": {
          "color": {
           "field": "species_sn",
           "legend": null,
           "type": "nominal"
          },
          "opacity": {
           "condition": {
            "selection": "selector030",
            "value": 1
           },
           "value": 0
          },
          "tooltip": {
           "field": "species_sn",
           "type": "quantitative"
          },
          "x": {
           "field": "generation_sn",
           "type": "nominal"
          },
          "y": {
           "field": "avg_original_fitness",
           "type": "quantitative"
          }
         },
         "mark": "line",
         "selection": {
          "selector030": {
           "empty": "all",
           "fields": [
            "_vgsid_"
           ],
           "nearest": true,
           "on": "mouseover",
           "resolve": "global",
           "type": "single"
          }
         },
         "title": "avg OF of species over generation"
        },
        {
         "data": {
          "name": "data-69f9f7ff62066d20e00b0849d1e6a385"
         },
         "encoding": {
          "color": {
           "field": "species_sn",
           "legend": null,
           "type": "nominal"
          },
          "opacity": {
           "condition": {
            "selection": "selector031",
            "value": 1
           },
           "value": 0
          },
          "tooltip": {
           "field": "species_sn",
           "type": "quantitative"
          },
          "x": {
           "field": "generation_sn",
           "type": "nominal"
          },
          "y": {
           "field": "avg_original_fitness",
           "type": "quantitative"
          }
         },
         "mark": "line",
         "selection": {
          "selector031": {
           "empty": "all",
           "fields": [
            "_vgsid_"
           ],
           "nearest": true,
           "on": "mouseover",
           "resolve": "global",
           "type": "single"
          }
         },
         "title": "avg OF of species over generation"
        },
        {
         "data": {
          "name": "data-8fd37626f6d822619ceab29f6d3a1fe7"
         },
         "encoding": {
          "color": {
           "field": "species_sn",
           "legend": null,
           "type": "nominal"
          },
          "opacity": {
           "condition": {
            "selection": "selector032",
            "value": 1
           },
           "value": 0
          },
          "tooltip": {
           "field": "species_sn",
           "type": "quantitative"
          },
          "x": {
           "field": "generation_sn",
           "type": "nominal"
          },
          "y": {
           "field": "avg_original_fitness",
           "type": "quantitative"
          }
         },
         "mark": "line",
         "selection": {
          "selector032": {
           "empty": "all",
           "fields": [
            "_vgsid_"
           ],
           "nearest": true,
           "on": "mouseover",
           "resolve": "global",
           "type": "single"
          }
         },
         "title": "avg OF of species over generation"
        },
        {
         "data": {
          "name": "data-96ac851894385ba8f8d4dfd34c0b9a4e"
         },
         "encoding": {
          "color": {
           "field": "species_sn",
           "legend": null,
           "type": "nominal"
          },
          "opacity": {
           "condition": {
            "selection": "selector033",
            "value": 1
           },
           "value": 0
          },
          "tooltip": {
           "field": "species_sn",
           "type": "quantitative"
          },
          "x": {
           "field": "generation_sn",
           "type": "nominal"
          },
          "y": {
           "field": "avg_original_fitness",
           "type": "quantitative"
          }
         },
         "mark": "line",
         "selection": {
          "selector033": {
           "empty": "all",
           "fields": [
            "_vgsid_"
           ],
           "nearest": true,
           "on": "mouseover",
           "resolve": "global",
           "type": "single"
          }
         },
         "title": "avg OF of species over generation"
        },
        {
         "data": {
          "name": "data-fff202029461412d0787df07eb52d654"
         },
         "encoding": {
          "color": {
           "field": "species_sn",
           "legend": null,
           "type": "nominal"
          },
          "opacity": {
           "condition": {
            "selection": "selector034",
            "value": 1
           },
           "value": 0
          },
          "tooltip": {
           "field": "species_sn",
           "type": "quantitative"
          },
          "x": {
           "field": "generation_sn",
           "type": "nominal"
          },
          "y": {
           "field": "avg_original_fitness",
           "type": "quantitative"
          }
         },
         "mark": "line",
         "selection": {
          "selector034": {
           "empty": "all",
           "fields": [
            "_vgsid_"
           ],
           "nearest": true,
           "on": "mouseover",
           "resolve": "global",
           "type": "single"
          }
         },
         "title": "avg OF of species over generation"
        },
        {
         "data": {
          "name": "data-5f5f6e9a9b24a1b083a874fbf310eaba"
         },
         "encoding": {
          "color": {
           "field": "species_sn",
           "legend": null,
           "type": "nominal"
          },
          "opacity": {
           "condition": {
            "selection": "selector035",
            "value": 1
           },
           "value": 0
          },
          "tooltip": {
           "field": "species_sn",
           "type": "quantitative"
          },
          "x": {
           "field": "generation_sn",
           "type": "nominal"
          },
          "y": {
           "field": "avg_original_fitness",
           "type": "quantitative"
          }
         },
         "mark": "line",
         "selection": {
          "selector035": {
           "empty": "all",
           "fields": [
            "_vgsid_"
           ],
           "nearest": true,
           "on": "mouseover",
           "resolve": "global",
           "type": "single"
          }
         },
         "title": "avg OF of species over generation"
        },
        {
         "data": {
          "name": "data-b26be4d46864f4a482e0e9789a66e48a"
         },
         "encoding": {
          "color": {
           "field": "species_sn",
           "legend": null,
           "type": "nominal"
          },
          "opacity": {
           "condition": {
            "selection": "selector036",
            "value": 1
           },
           "value": 0
          },
          "tooltip": {
           "field": "species_sn",
           "type": "quantitative"
          },
          "x": {
           "field": "generation_sn",
           "type": "nominal"
          },
          "y": {
           "field": "avg_original_fitness",
           "type": "quantitative"
          }
         },
         "mark": "line",
         "selection": {
          "selector036": {
           "empty": "all",
           "fields": [
            "_vgsid_"
           ],
           "nearest": true,
           "on": "mouseover",
           "resolve": "global",
           "type": "single"
          }
         },
         "title": "avg OF of species over generation"
        },
        {
         "data": {
          "name": "data-f4924df6cf1543bd751c0af1e7441b86"
         },
         "encoding": {
          "color": {
           "field": "species_sn",
           "legend": null,
           "type": "nominal"
          },
          "opacity": {
           "condition": {
            "selection": "selector037",
            "value": 1
           },
           "value": 0
          },
          "tooltip": {
           "field": "species_sn",
           "type": "quantitative"
          },
          "x": {
           "field": "generation_sn",
           "type": "nominal"
          },
          "y": {
           "field": "avg_original_fitness",
           "type": "quantitative"
          }
         },
         "mark": "line",
         "selection": {
          "selector037": {
           "empty": "all",
           "fields": [
            "_vgsid_"
           ],
           "nearest": true,
           "on": "mouseover",
           "resolve": "global",
           "type": "single"
          }
         },
         "title": "avg OF of species over generation"
        },
        {
         "data": {
          "name": "data-8110ac3777120d0462662ded2fad6a5a"
         },
         "encoding": {
          "color": {
           "field": "species_sn",
           "legend": null,
           "type": "nominal"
          },
          "opacity": {
           "condition": {
            "selection": "selector038",
            "value": 1
           },
           "value": 0
          },
          "tooltip": {
           "field": "species_sn",
           "type": "quantitative"
          },
          "x": {
           "field": "generation_sn",
           "type": "nominal"
          },
          "y": {
           "field": "avg_original_fitness",
           "type": "quantitative"
          }
         },
         "mark": "line",
         "selection": {
          "selector038": {
           "empty": "all",
           "fields": [
            "_vgsid_"
           ],
           "nearest": true,
           "on": "mouseover",
           "resolve": "global",
           "type": "single"
          }
         },
         "title": "avg OF of species over generation"
        },
        {
         "data": {
          "name": "data-e83417f64245221d4d78446083cfb980"
         },
         "encoding": {
          "color": {
           "field": "species_sn",
           "legend": null,
           "type": "nominal"
          },
          "opacity": {
           "condition": {
            "selection": "selector039",
            "value": 1
           },
           "value": 0
          },
          "tooltip": {
           "field": "species_sn",
           "type": "quantitative"
          },
          "x": {
           "field": "generation_sn",
           "type": "nominal"
          },
          "y": {
           "field": "avg_original_fitness",
           "type": "quantitative"
          }
         },
         "mark": "line",
         "selection": {
          "selector039": {
           "empty": "all",
           "fields": [
            "_vgsid_"
           ],
           "nearest": true,
           "on": "mouseover",
           "resolve": "global",
           "type": "single"
          }
         },
         "title": "avg OF of species over generation"
        },
        {
         "data": {
          "name": "data-3d35aaf34c38d53dc2f397ae0058c17a"
         },
         "encoding": {
          "color": {
           "field": "species_sn",
           "legend": null,
           "type": "nominal"
          },
          "opacity": {
           "condition": {
            "selection": "selector040",
            "value": 1
           },
           "value": 0
          },
          "tooltip": {
           "field": "species_sn",
           "type": "quantitative"
          },
          "x": {
           "field": "generation_sn",
           "type": "nominal"
          },
          "y": {
           "field": "avg_original_fitness",
           "type": "quantitative"
          }
         },
         "mark": "line",
         "selection": {
          "selector040": {
           "empty": "all",
           "fields": [
            "_vgsid_"
           ],
           "nearest": true,
           "on": "mouseover",
           "resolve": "global",
           "type": "single"
          }
         },
         "title": "avg OF of species over generation"
        },
        {
         "data": {
          "name": "data-d7428836f2108d8252770fc0fe40832d"
         },
         "encoding": {
          "color": {
           "field": "species_sn",
           "legend": null,
           "type": "nominal"
          },
          "opacity": {
           "condition": {
            "selection": "selector041",
            "value": 1
           },
           "value": 0
          },
          "tooltip": {
           "field": "species_sn",
           "type": "quantitative"
          },
          "x": {
           "field": "generation_sn",
           "type": "nominal"
          },
          "y": {
           "field": "avg_original_fitness",
           "type": "quantitative"
          }
         },
         "mark": "line",
         "selection": {
          "selector041": {
           "empty": "all",
           "fields": [
            "_vgsid_"
           ],
           "nearest": true,
           "on": "mouseover",
           "resolve": "global",
           "type": "single"
          }
         },
         "title": "avg OF of species over generation"
        },
        {
         "data": {
          "name": "data-5227c240eda5725e08b56c89a3bbcca1"
         },
         "encoding": {
          "color": {
           "field": "species_sn",
           "legend": null,
           "type": "nominal"
          },
          "opacity": {
           "condition": {
            "selection": "selector042",
            "value": 1
           },
           "value": 0
          },
          "tooltip": {
           "field": "species_sn",
           "type": "quantitative"
          },
          "x": {
           "field": "generation_sn",
           "type": "nominal"
          },
          "y": {
           "field": "avg_original_fitness",
           "type": "quantitative"
          }
         },
         "mark": "line",
         "selection": {
          "selector042": {
           "empty": "all",
           "fields": [
            "_vgsid_"
           ],
           "nearest": true,
           "on": "mouseover",
           "resolve": "global",
           "type": "single"
          }
         },
         "title": "avg OF of species over generation"
        },
        {
         "data": {
          "name": "data-b0405774602ca863d66e3aaffdb68a2f"
         },
         "encoding": {
          "color": {
           "field": "species_sn",
           "legend": null,
           "type": "nominal"
          },
          "opacity": {
           "condition": {
            "selection": "selector043",
            "value": 1
           },
           "value": 0
          },
          "tooltip": {
           "field": "species_sn",
           "type": "quantitative"
          },
          "x": {
           "field": "generation_sn",
           "type": "nominal"
          },
          "y": {
           "field": "avg_original_fitness",
           "type": "quantitative"
          }
         },
         "mark": "line",
         "selection": {
          "selector043": {
           "empty": "all",
           "fields": [
            "_vgsid_"
           ],
           "nearest": true,
           "on": "mouseover",
           "resolve": "global",
           "type": "single"
          }
         },
         "title": "avg OF of species over generation"
        },
        {
         "data": {
          "name": "data-280f30269a6ab1d67053ee601f867df9"
         },
         "encoding": {
          "color": {
           "field": "species_sn",
           "legend": null,
           "type": "nominal"
          },
          "opacity": {
           "condition": {
            "selection": "selector044",
            "value": 1
           },
           "value": 0
          },
          "tooltip": {
           "field": "species_sn",
           "type": "quantitative"
          },
          "x": {
           "field": "generation_sn",
           "type": "nominal"
          },
          "y": {
           "field": "avg_original_fitness",
           "type": "quantitative"
          }
         },
         "mark": "line",
         "selection": {
          "selector044": {
           "empty": "all",
           "fields": [
            "_vgsid_"
           ],
           "nearest": true,
           "on": "mouseover",
           "resolve": "global",
           "type": "single"
          }
         },
         "title": "avg OF of species over generation"
        },
        {
         "data": {
          "name": "data-52a10e98771a52728ab59903cf610c34"
         },
         "encoding": {
          "color": {
           "field": "species_sn",
           "legend": null,
           "type": "nominal"
          },
          "opacity": {
           "condition": {
            "selection": "selector045",
            "value": 1
           },
           "value": 0
          },
          "tooltip": {
           "field": "species_sn",
           "type": "quantitative"
          },
          "x": {
           "field": "generation_sn",
           "type": "nominal"
          },
          "y": {
           "field": "avg_original_fitness",
           "type": "quantitative"
          }
         },
         "mark": "line",
         "selection": {
          "selector045": {
           "empty": "all",
           "fields": [
            "_vgsid_"
           ],
           "nearest": true,
           "on": "mouseover",
           "resolve": "global",
           "type": "single"
          }
         },
         "title": "avg OF of species over generation"
        },
        {
         "data": {
          "name": "data-4535db3a57d606ac0c1aa9129df051a7"
         },
         "encoding": {
          "color": {
           "field": "species_sn",
           "legend": null,
           "type": "nominal"
          },
          "opacity": {
           "condition": {
            "selection": "selector046",
            "value": 1
           },
           "value": 0
          },
          "tooltip": {
           "field": "species_sn",
           "type": "quantitative"
          },
          "x": {
           "field": "generation_sn",
           "type": "nominal"
          },
          "y": {
           "field": "avg_original_fitness",
           "type": "quantitative"
          }
         },
         "mark": "line",
         "selection": {
          "selector046": {
           "empty": "all",
           "fields": [
            "_vgsid_"
           ],
           "nearest": true,
           "on": "mouseover",
           "resolve": "global",
           "type": "single"
          }
         },
         "title": "avg OF of species over generation"
        },
        {
         "data": {
          "name": "data-b55f4441691df04679160e0e963e2291"
         },
         "encoding": {
          "color": {
           "field": "species_sn",
           "legend": null,
           "type": "nominal"
          },
          "opacity": {
           "condition": {
            "selection": "selector047",
            "value": 1
           },
           "value": 0
          },
          "tooltip": {
           "field": "species_sn",
           "type": "quantitative"
          },
          "x": {
           "field": "generation_sn",
           "type": "nominal"
          },
          "y": {
           "field": "avg_original_fitness",
           "type": "quantitative"
          }
         },
         "mark": "line",
         "selection": {
          "selector047": {
           "empty": "all",
           "fields": [
            "_vgsid_"
           ],
           "nearest": true,
           "on": "mouseover",
           "resolve": "global",
           "type": "single"
          }
         },
         "title": "avg OF of species over generation"
        },
        {
         "data": {
          "name": "data-8092c08f91c3e782ebfb62697d41047b"
         },
         "encoding": {
          "color": {
           "field": "species_sn",
           "legend": null,
           "type": "nominal"
          },
          "opacity": {
           "condition": {
            "selection": "selector048",
            "value": 1
           },
           "value": 0
          },
          "tooltip": {
           "field": "species_sn",
           "type": "quantitative"
          },
          "x": {
           "field": "generation_sn",
           "type": "nominal"
          },
          "y": {
           "field": "avg_original_fitness",
           "type": "quantitative"
          }
         },
         "mark": "line",
         "selection": {
          "selector048": {
           "empty": "all",
           "fields": [
            "_vgsid_"
           ],
           "nearest": true,
           "on": "mouseover",
           "resolve": "global",
           "type": "single"
          }
         },
         "title": "avg OF of species over generation"
        },
        {
         "data": {
          "name": "data-05a89da4bb70d8270d7bf7ef264719e0"
         },
         "encoding": {
          "color": {
           "field": "species_sn",
           "legend": null,
           "type": "nominal"
          },
          "opacity": {
           "condition": {
            "selection": "selector049",
            "value": 1
           },
           "value": 0
          },
          "tooltip": {
           "field": "species_sn",
           "type": "quantitative"
          },
          "x": {
           "field": "generation_sn",
           "type": "nominal"
          },
          "y": {
           "field": "avg_original_fitness",
           "type": "quantitative"
          }
         },
         "mark": "line",
         "selection": {
          "selector049": {
           "empty": "all",
           "fields": [
            "_vgsid_"
           ],
           "nearest": true,
           "on": "mouseover",
           "resolve": "global",
           "type": "single"
          }
         },
         "title": "avg OF of species over generation"
        },
        {
         "data": {
          "name": "data-635169254bab3777c5bb5c45654a7fab"
         },
         "encoding": {
          "color": {
           "field": "species_sn",
           "legend": null,
           "type": "nominal"
          },
          "opacity": {
           "condition": {
            "selection": "selector050",
            "value": 1
           },
           "value": 0
          },
          "tooltip": {
           "field": "species_sn",
           "type": "quantitative"
          },
          "x": {
           "field": "generation_sn",
           "type": "nominal"
          },
          "y": {
           "field": "avg_original_fitness",
           "type": "quantitative"
          }
         },
         "mark": "line",
         "selection": {
          "selector050": {
           "empty": "all",
           "fields": [
            "_vgsid_"
           ],
           "nearest": true,
           "on": "mouseover",
           "resolve": "global",
           "type": "single"
          }
         },
         "title": "avg OF of species over generation"
        },
        {
         "data": {
          "name": "data-7663c11982d18589c527059d28afc1e8"
         },
         "encoding": {
          "color": {
           "field": "species_sn",
           "legend": null,
           "type": "nominal"
          },
          "opacity": {
           "condition": {
            "selection": "selector051",
            "value": 1
           },
           "value": 0
          },
          "tooltip": {
           "field": "species_sn",
           "type": "quantitative"
          },
          "x": {
           "field": "generation_sn",
           "type": "nominal"
          },
          "y": {
           "field": "avg_original_fitness",
           "type": "quantitative"
          }
         },
         "mark": "line",
         "selection": {
          "selector051": {
           "empty": "all",
           "fields": [
            "_vgsid_"
           ],
           "nearest": true,
           "on": "mouseover",
           "resolve": "global",
           "type": "single"
          }
         },
         "title": "avg OF of species over generation"
        },
        {
         "data": {
          "name": "data-c1d9e66a9ad698e41e3d25e50b9587de"
         },
         "encoding": {
          "color": {
           "field": "species_sn",
           "legend": null,
           "type": "nominal"
          },
          "opacity": {
           "condition": {
            "selection": "selector052",
            "value": 1
           },
           "value": 0
          },
          "tooltip": {
           "field": "species_sn",
           "type": "quantitative"
          },
          "x": {
           "field": "generation_sn",
           "type": "nominal"
          },
          "y": {
           "field": "avg_original_fitness",
           "type": "quantitative"
          }
         },
         "mark": "line",
         "selection": {
          "selector052": {
           "empty": "all",
           "fields": [
            "_vgsid_"
           ],
           "nearest": true,
           "on": "mouseover",
           "resolve": "global",
           "type": "single"
          }
         },
         "title": "avg OF of species over generation"
        },
        {
         "data": {
          "name": "data-467a1e8c5c72da8312ea7c63c888b2ea"
         },
         "encoding": {
          "color": {
           "field": "species_sn",
           "legend": null,
           "type": "nominal"
          },
          "opacity": {
           "condition": {
            "selection": "selector053",
            "value": 1
           },
           "value": 0
          },
          "tooltip": {
           "field": "species_sn",
           "type": "quantitative"
          },
          "x": {
           "field": "generation_sn",
           "type": "nominal"
          },
          "y": {
           "field": "avg_original_fitness",
           "type": "quantitative"
          }
         },
         "mark": "line",
         "selection": {
          "selector053": {
           "empty": "all",
           "fields": [
            "_vgsid_"
           ],
           "nearest": true,
           "on": "mouseover",
           "resolve": "global",
           "type": "single"
          }
         },
         "title": "avg OF of species over generation"
        },
        {
         "data": {
          "name": "data-2eb156e053ac67647bc6e86401cc7c90"
         },
         "encoding": {
          "color": {
           "field": "species_sn",
           "legend": null,
           "type": "nominal"
          },
          "opacity": {
           "condition": {
            "selection": "selector054",
            "value": 1
           },
           "value": 0
          },
          "tooltip": {
           "field": "species_sn",
           "type": "quantitative"
          },
          "x": {
           "field": "generation_sn",
           "type": "nominal"
          },
          "y": {
           "field": "avg_original_fitness",
           "type": "quantitative"
          }
         },
         "mark": "line",
         "selection": {
          "selector054": {
           "empty": "all",
           "fields": [
            "_vgsid_"
           ],
           "nearest": true,
           "on": "mouseover",
           "resolve": "global",
           "type": "single"
          }
         },
         "title": "avg OF of species over generation"
        },
        {
         "data": {
          "name": "data-4af51b048f415fd788ebeca43d59f1c2"
         },
         "encoding": {
          "color": {
           "field": "species_sn",
           "legend": null,
           "type": "nominal"
          },
          "opacity": {
           "condition": {
            "selection": "selector055",
            "value": 1
           },
           "value": 0
          },
          "tooltip": {
           "field": "species_sn",
           "type": "quantitative"
          },
          "x": {
           "field": "generation_sn",
           "type": "nominal"
          },
          "y": {
           "field": "avg_original_fitness",
           "type": "quantitative"
          }
         },
         "mark": "line",
         "selection": {
          "selector055": {
           "empty": "all",
           "fields": [
            "_vgsid_"
           ],
           "nearest": true,
           "on": "mouseover",
           "resolve": "global",
           "type": "single"
          }
         },
         "title": "avg OF of species over generation"
        },
        {
         "data": {
          "name": "data-fc2d2eaee7d51a6b0c54764fb86bbe93"
         },
         "encoding": {
          "color": {
           "field": "species_sn",
           "legend": null,
           "type": "nominal"
          },
          "opacity": {
           "condition": {
            "selection": "selector056",
            "value": 1
           },
           "value": 0
          },
          "tooltip": {
           "field": "species_sn",
           "type": "quantitative"
          },
          "x": {
           "field": "generation_sn",
           "type": "nominal"
          },
          "y": {
           "field": "avg_original_fitness",
           "type": "quantitative"
          }
         },
         "mark": "line",
         "selection": {
          "selector056": {
           "empty": "all",
           "fields": [
            "_vgsid_"
           ],
           "nearest": true,
           "on": "mouseover",
           "resolve": "global",
           "type": "single"
          }
         },
         "title": "avg OF of species over generation"
        },
        {
         "data": {
          "name": "data-ce50b81aaa97f852dcb6f7e182d36e94"
         },
         "encoding": {
          "color": {
           "field": "species_sn",
           "legend": null,
           "type": "nominal"
          },
          "opacity": {
           "condition": {
            "selection": "selector057",
            "value": 1
           },
           "value": 0
          },
          "tooltip": {
           "field": "species_sn",
           "type": "quantitative"
          },
          "x": {
           "field": "generation_sn",
           "type": "nominal"
          },
          "y": {
           "field": "avg_original_fitness",
           "type": "quantitative"
          }
         },
         "mark": "line",
         "selection": {
          "selector057": {
           "empty": "all",
           "fields": [
            "_vgsid_"
           ],
           "nearest": true,
           "on": "mouseover",
           "resolve": "global",
           "type": "single"
          }
         },
         "title": "avg OF of species over generation"
        },
        {
         "data": {
          "name": "data-186de8343e6a1ecbf85b119f5e753215"
         },
         "encoding": {
          "color": {
           "field": "species_sn",
           "legend": null,
           "type": "nominal"
          },
          "opacity": {
           "condition": {
            "selection": "selector058",
            "value": 1
           },
           "value": 0
          },
          "tooltip": {
           "field": "species_sn",
           "type": "quantitative"
          },
          "x": {
           "field": "generation_sn",
           "type": "nominal"
          },
          "y": {
           "field": "avg_original_fitness",
           "type": "quantitative"
          }
         },
         "mark": "line",
         "selection": {
          "selector058": {
           "empty": "all",
           "fields": [
            "_vgsid_"
           ],
           "nearest": true,
           "on": "mouseover",
           "resolve": "global",
           "type": "single"
          }
         },
         "title": "avg OF of species over generation"
        },
        {
         "data": {
          "name": "data-b25c9cbec0acec6525324aafca554d4e"
         },
         "encoding": {
          "color": {
           "field": "species_sn",
           "legend": null,
           "type": "nominal"
          },
          "opacity": {
           "condition": {
            "selection": "selector059",
            "value": 1
           },
           "value": 0
          },
          "tooltip": {
           "field": "species_sn",
           "type": "quantitative"
          },
          "x": {
           "field": "generation_sn",
           "type": "nominal"
          },
          "y": {
           "field": "avg_original_fitness",
           "type": "quantitative"
          }
         },
         "mark": "line",
         "selection": {
          "selector059": {
           "empty": "all",
           "fields": [
            "_vgsid_"
           ],
           "nearest": true,
           "on": "mouseover",
           "resolve": "global",
           "type": "single"
          }
         },
         "title": "avg OF of species over generation"
        },
        {
         "data": {
          "name": "data-27b496fb66e7a4b32a004ea2b68a6b9b"
         },
         "encoding": {
          "color": {
           "field": "species_sn",
           "legend": null,
           "type": "nominal"
          },
          "opacity": {
           "condition": {
            "selection": "selector060",
            "value": 1
           },
           "value": 0
          },
          "tooltip": {
           "field": "species_sn",
           "type": "quantitative"
          },
          "x": {
           "field": "generation_sn",
           "type": "nominal"
          },
          "y": {
           "field": "avg_original_fitness",
           "type": "quantitative"
          }
         },
         "mark": "line",
         "selection": {
          "selector060": {
           "empty": "all",
           "fields": [
            "_vgsid_"
           ],
           "nearest": true,
           "on": "mouseover",
           "resolve": "global",
           "type": "single"
          }
         },
         "title": "avg OF of species over generation"
        },
        {
         "data": {
          "name": "data-1b2cf379fc7f00961d1898a123a7f6e2"
         },
         "encoding": {
          "color": {
           "field": "species_sn",
           "legend": null,
           "type": "nominal"
          },
          "opacity": {
           "condition": {
            "selection": "selector061",
            "value": 1
           },
           "value": 0
          },
          "tooltip": {
           "field": "species_sn",
           "type": "quantitative"
          },
          "x": {
           "field": "generation_sn",
           "type": "nominal"
          },
          "y": {
           "field": "avg_original_fitness",
           "type": "quantitative"
          }
         },
         "mark": "line",
         "selection": {
          "selector061": {
           "empty": "all",
           "fields": [
            "_vgsid_"
           ],
           "nearest": true,
           "on": "mouseover",
           "resolve": "global",
           "type": "single"
          }
         },
         "title": "avg OF of species over generation"
        },
        {
         "data": {
          "name": "data-d0b45a2edd3438b805b082888d26daa5"
         },
         "encoding": {
          "color": {
           "field": "species_sn",
           "legend": null,
           "type": "nominal"
          },
          "opacity": {
           "condition": {
            "selection": "selector062",
            "value": 1
           },
           "value": 0
          },
          "tooltip": {
           "field": "species_sn",
           "type": "quantitative"
          },
          "x": {
           "field": "generation_sn",
           "type": "nominal"
          },
          "y": {
           "field": "avg_original_fitness",
           "type": "quantitative"
          }
         },
         "mark": "line",
         "selection": {
          "selector062": {
           "empty": "all",
           "fields": [
            "_vgsid_"
           ],
           "nearest": true,
           "on": "mouseover",
           "resolve": "global",
           "type": "single"
          }
         },
         "title": "avg OF of species over generation"
        },
        {
         "data": {
          "name": "data-62bb9fa4de5b44a11636bebf898ace45"
         },
         "encoding": {
          "color": {
           "field": "species_sn",
           "legend": null,
           "type": "nominal"
          },
          "opacity": {
           "condition": {
            "selection": "selector063",
            "value": 1
           },
           "value": 0
          },
          "tooltip": {
           "field": "species_sn",
           "type": "quantitative"
          },
          "x": {
           "field": "generation_sn",
           "type": "nominal"
          },
          "y": {
           "field": "avg_original_fitness",
           "type": "quantitative"
          }
         },
         "mark": "line",
         "selection": {
          "selector063": {
           "empty": "all",
           "fields": [
            "_vgsid_"
           ],
           "nearest": true,
           "on": "mouseover",
           "resolve": "global",
           "type": "single"
          }
         },
         "title": "avg OF of species over generation"
        },
        {
         "data": {
          "name": "data-3ff5d83aff3a957c67f820148fcacc2a"
         },
         "encoding": {
          "color": {
           "field": "species_sn",
           "legend": null,
           "type": "nominal"
          },
          "opacity": {
           "condition": {
            "selection": "selector064",
            "value": 1
           },
           "value": 0
          },
          "tooltip": {
           "field": "species_sn",
           "type": "quantitative"
          },
          "x": {
           "field": "generation_sn",
           "type": "nominal"
          },
          "y": {
           "field": "avg_original_fitness",
           "type": "quantitative"
          }
         },
         "mark": "line",
         "selection": {
          "selector064": {
           "empty": "all",
           "fields": [
            "_vgsid_"
           ],
           "nearest": true,
           "on": "mouseover",
           "resolve": "global",
           "type": "single"
          }
         },
         "title": "avg OF of species over generation"
        },
        {
         "data": {
          "name": "data-679ece2a7652816136ad3bfc5fae632e"
         },
         "encoding": {
          "color": {
           "field": "species_sn",
           "legend": null,
           "type": "nominal"
          },
          "opacity": {
           "condition": {
            "selection": "selector065",
            "value": 1
           },
           "value": 0
          },
          "tooltip": {
           "field": "species_sn",
           "type": "quantitative"
          },
          "x": {
           "field": "generation_sn",
           "type": "nominal"
          },
          "y": {
           "field": "avg_original_fitness",
           "type": "quantitative"
          }
         },
         "mark": "line",
         "selection": {
          "selector065": {
           "empty": "all",
           "fields": [
            "_vgsid_"
           ],
           "nearest": true,
           "on": "mouseover",
           "resolve": "global",
           "type": "single"
          }
         },
         "title": "avg OF of species over generation"
        },
        {
         "data": {
          "name": "data-4ec37cb9ef0034f16619e082314d286f"
         },
         "encoding": {
          "color": {
           "field": "species_sn",
           "legend": null,
           "type": "nominal"
          },
          "opacity": {
           "condition": {
            "selection": "selector066",
            "value": 1
           },
           "value": 0
          },
          "tooltip": {
           "field": "species_sn",
           "type": "quantitative"
          },
          "x": {
           "field": "generation_sn",
           "type": "nominal"
          },
          "y": {
           "field": "avg_original_fitness",
           "type": "quantitative"
          }
         },
         "mark": "line",
         "selection": {
          "selector066": {
           "empty": "all",
           "fields": [
            "_vgsid_"
           ],
           "nearest": true,
           "on": "mouseover",
           "resolve": "global",
           "type": "single"
          }
         },
         "title": "avg OF of species over generation"
        },
        {
         "data": {
          "name": "data-b31743e8ea27c4320aa78cf3bd44d701"
         },
         "encoding": {
          "color": {
           "field": "species_sn",
           "legend": null,
           "type": "nominal"
          },
          "opacity": {
           "condition": {
            "selection": "selector067",
            "value": 1
           },
           "value": 0
          },
          "tooltip": {
           "field": "species_sn",
           "type": "quantitative"
          },
          "x": {
           "field": "generation_sn",
           "type": "nominal"
          },
          "y": {
           "field": "avg_original_fitness",
           "type": "quantitative"
          }
         },
         "mark": "line",
         "selection": {
          "selector067": {
           "empty": "all",
           "fields": [
            "_vgsid_"
           ],
           "nearest": true,
           "on": "mouseover",
           "resolve": "global",
           "type": "single"
          }
         },
         "title": "avg OF of species over generation"
        },
        {
         "data": {
          "name": "data-f9e2e0a10d5d55bda7c1124ac9eaf0fd"
         },
         "encoding": {
          "color": {
           "field": "species_sn",
           "legend": null,
           "type": "nominal"
          },
          "opacity": {
           "condition": {
            "selection": "selector068",
            "value": 1
           },
           "value": 0
          },
          "tooltip": {
           "field": "species_sn",
           "type": "quantitative"
          },
          "x": {
           "field": "generation_sn",
           "type": "nominal"
          },
          "y": {
           "field": "avg_original_fitness",
           "type": "quantitative"
          }
         },
         "mark": "line",
         "selection": {
          "selector068": {
           "empty": "all",
           "fields": [
            "_vgsid_"
           ],
           "nearest": true,
           "on": "mouseover",
           "resolve": "global",
           "type": "single"
          }
         },
         "title": "avg OF of species over generation"
        },
        {
         "data": {
          "name": "data-7ed84653aa373b17c16f488951a9505c"
         },
         "encoding": {
          "color": {
           "field": "species_sn",
           "legend": null,
           "type": "nominal"
          },
          "opacity": {
           "condition": {
            "selection": "selector069",
            "value": 1
           },
           "value": 0
          },
          "tooltip": {
           "field": "species_sn",
           "type": "quantitative"
          },
          "x": {
           "field": "generation_sn",
           "type": "nominal"
          },
          "y": {
           "field": "avg_original_fitness",
           "type": "quantitative"
          }
         },
         "mark": "line",
         "selection": {
          "selector069": {
           "empty": "all",
           "fields": [
            "_vgsid_"
           ],
           "nearest": true,
           "on": "mouseover",
           "resolve": "global",
           "type": "single"
          }
         },
         "title": "avg OF of species over generation"
        },
        {
         "data": {
          "name": "data-f36e798c05afdc2382530f5db4f885cb"
         },
         "encoding": {
          "color": {
           "field": "species_sn",
           "legend": null,
           "type": "nominal"
          },
          "opacity": {
           "condition": {
            "selection": "selector070",
            "value": 1
           },
           "value": 0
          },
          "tooltip": {
           "field": "species_sn",
           "type": "quantitative"
          },
          "x": {
           "field": "generation_sn",
           "type": "nominal"
          },
          "y": {
           "field": "avg_original_fitness",
           "type": "quantitative"
          }
         },
         "mark": "line",
         "selection": {
          "selector070": {
           "empty": "all",
           "fields": [
            "_vgsid_"
           ],
           "nearest": true,
           "on": "mouseover",
           "resolve": "global",
           "type": "single"
          }
         },
         "title": "avg OF of species over generation"
        },
        {
         "data": {
          "name": "data-262929c7cb987704093f175088b38ad8"
         },
         "encoding": {
          "color": {
           "field": "species_sn",
           "legend": null,
           "type": "nominal"
          },
          "opacity": {
           "condition": {
            "selection": "selector071",
            "value": 1
           },
           "value": 0
          },
          "tooltip": {
           "field": "species_sn",
           "type": "quantitative"
          },
          "x": {
           "field": "generation_sn",
           "type": "nominal"
          },
          "y": {
           "field": "avg_original_fitness",
           "type": "quantitative"
          }
         },
         "mark": "line",
         "selection": {
          "selector071": {
           "empty": "all",
           "fields": [
            "_vgsid_"
           ],
           "nearest": true,
           "on": "mouseover",
           "resolve": "global",
           "type": "single"
          }
         },
         "title": "avg OF of species over generation"
        },
        {
         "data": {
          "name": "data-033a4b0043750b3dfd0d665a90cb5e6f"
         },
         "encoding": {
          "color": {
           "field": "species_sn",
           "legend": null,
           "type": "nominal"
          },
          "opacity": {
           "condition": {
            "selection": "selector072",
            "value": 1
           },
           "value": 0
          },
          "tooltip": {
           "field": "species_sn",
           "type": "quantitative"
          },
          "x": {
           "field": "generation_sn",
           "type": "nominal"
          },
          "y": {
           "field": "avg_original_fitness",
           "type": "quantitative"
          }
         },
         "mark": "line",
         "selection": {
          "selector072": {
           "empty": "all",
           "fields": [
            "_vgsid_"
           ],
           "nearest": true,
           "on": "mouseover",
           "resolve": "global",
           "type": "single"
          }
         },
         "title": "avg OF of species over generation"
        },
        {
         "data": {
          "name": "data-c103f09ae1fe4772db7088416f9d9c8d"
         },
         "encoding": {
          "color": {
           "field": "species_sn",
           "legend": null,
           "type": "nominal"
          },
          "opacity": {
           "condition": {
            "selection": "selector073",
            "value": 1
           },
           "value": 0
          },
          "tooltip": {
           "field": "species_sn",
           "type": "quantitative"
          },
          "x": {
           "field": "generation_sn",
           "type": "nominal"
          },
          "y": {
           "field": "avg_original_fitness",
           "type": "quantitative"
          }
         },
         "mark": "line",
         "selection": {
          "selector073": {
           "empty": "all",
           "fields": [
            "_vgsid_"
           ],
           "nearest": true,
           "on": "mouseover",
           "resolve": "global",
           "type": "single"
          }
         },
         "title": "avg OF of species over generation"
        },
        {
         "data": {
          "name": "data-15cc862bb389de835f5c5a4a602e1c70"
         },
         "encoding": {
          "color": {
           "field": "species_sn",
           "legend": null,
           "type": "nominal"
          },
          "opacity": {
           "condition": {
            "selection": "selector074",
            "value": 1
           },
           "value": 0
          },
          "tooltip": {
           "field": "species_sn",
           "type": "quantitative"
          },
          "x": {
           "field": "generation_sn",
           "type": "nominal"
          },
          "y": {
           "field": "avg_original_fitness",
           "type": "quantitative"
          }
         },
         "mark": "line",
         "selection": {
          "selector074": {
           "empty": "all",
           "fields": [
            "_vgsid_"
           ],
           "nearest": true,
           "on": "mouseover",
           "resolve": "global",
           "type": "single"
          }
         },
         "title": "avg OF of species over generation"
        },
        {
         "data": {
          "name": "data-a0eb36a27593f1d94f04442cd176ce9d"
         },
         "encoding": {
          "color": {
           "field": "species_sn",
           "legend": null,
           "type": "nominal"
          },
          "opacity": {
           "condition": {
            "selection": "selector075",
            "value": 1
           },
           "value": 0
          },
          "tooltip": {
           "field": "species_sn",
           "type": "quantitative"
          },
          "x": {
           "field": "generation_sn",
           "type": "nominal"
          },
          "y": {
           "field": "avg_original_fitness",
           "type": "quantitative"
          }
         },
         "mark": "line",
         "selection": {
          "selector075": {
           "empty": "all",
           "fields": [
            "_vgsid_"
           ],
           "nearest": true,
           "on": "mouseover",
           "resolve": "global",
           "type": "single"
          }
         },
         "title": "avg OF of species over generation"
        },
        {
         "data": {
          "name": "data-435b89e2ed22708268a6d15db7e1a11f"
         },
         "encoding": {
          "color": {
           "field": "species_sn",
           "legend": null,
           "type": "nominal"
          },
          "opacity": {
           "condition": {
            "selection": "selector076",
            "value": 1
           },
           "value": 0
          },
          "tooltip": {
           "field": "species_sn",
           "type": "quantitative"
          },
          "x": {
           "field": "generation_sn",
           "type": "nominal"
          },
          "y": {
           "field": "avg_original_fitness",
           "type": "quantitative"
          }
         },
         "mark": "line",
         "selection": {
          "selector076": {
           "empty": "all",
           "fields": [
            "_vgsid_"
           ],
           "nearest": true,
           "on": "mouseover",
           "resolve": "global",
           "type": "single"
          }
         },
         "title": "avg OF of species over generation"
        },
        {
         "data": {
          "name": "data-ed1af3169c63c13615c01c7a9a93f329"
         },
         "encoding": {
          "color": {
           "field": "species_sn",
           "legend": null,
           "type": "nominal"
          },
          "opacity": {
           "condition": {
            "selection": "selector077",
            "value": 1
           },
           "value": 0
          },
          "tooltip": {
           "field": "species_sn",
           "type": "quantitative"
          },
          "x": {
           "field": "generation_sn",
           "type": "nominal"
          },
          "y": {
           "field": "avg_original_fitness",
           "type": "quantitative"
          }
         },
         "mark": "line",
         "selection": {
          "selector077": {
           "empty": "all",
           "fields": [
            "_vgsid_"
           ],
           "nearest": true,
           "on": "mouseover",
           "resolve": "global",
           "type": "single"
          }
         },
         "title": "avg OF of species over generation"
        },
        {
         "data": {
          "name": "data-c175d57028d85de49548cec534347ac3"
         },
         "encoding": {
          "color": {
           "field": "species_sn",
           "legend": null,
           "type": "nominal"
          },
          "opacity": {
           "condition": {
            "selection": "selector078",
            "value": 1
           },
           "value": 0
          },
          "tooltip": {
           "field": "species_sn",
           "type": "quantitative"
          },
          "x": {
           "field": "generation_sn",
           "type": "nominal"
          },
          "y": {
           "field": "avg_original_fitness",
           "type": "quantitative"
          }
         },
         "mark": "line",
         "selection": {
          "selector078": {
           "empty": "all",
           "fields": [
            "_vgsid_"
           ],
           "nearest": true,
           "on": "mouseover",
           "resolve": "global",
           "type": "single"
          }
         },
         "title": "avg OF of species over generation"
        },
        {
         "data": {
          "name": "data-de070506278b48c22aad606164b1d444"
         },
         "encoding": {
          "color": {
           "field": "species_sn",
           "legend": null,
           "type": "nominal"
          },
          "opacity": {
           "condition": {
            "selection": "selector079",
            "value": 1
           },
           "value": 0
          },
          "tooltip": {
           "field": "species_sn",
           "type": "quantitative"
          },
          "x": {
           "field": "generation_sn",
           "type": "nominal"
          },
          "y": {
           "field": "avg_original_fitness",
           "type": "quantitative"
          }
         },
         "mark": "line",
         "selection": {
          "selector079": {
           "empty": "all",
           "fields": [
            "_vgsid_"
           ],
           "nearest": true,
           "on": "mouseover",
           "resolve": "global",
           "type": "single"
          }
         },
         "title": "avg OF of species over generation"
        },
        {
         "data": {
          "name": "data-fd7fbbb1c7c139d7aea11ea747145594"
         },
         "encoding": {
          "color": {
           "field": "species_sn",
           "legend": null,
           "type": "nominal"
          },
          "opacity": {
           "condition": {
            "selection": "selector080",
            "value": 1
           },
           "value": 0
          },
          "tooltip": {
           "field": "species_sn",
           "type": "quantitative"
          },
          "x": {
           "field": "generation_sn",
           "type": "nominal"
          },
          "y": {
           "field": "avg_original_fitness",
           "type": "quantitative"
          }
         },
         "mark": "line",
         "selection": {
          "selector080": {
           "empty": "all",
           "fields": [
            "_vgsid_"
           ],
           "nearest": true,
           "on": "mouseover",
           "resolve": "global",
           "type": "single"
          }
         },
         "title": "avg OF of species over generation"
        },
        {
         "data": {
          "name": "data-f75fcc2b3bcdad2fd7c818646e70caaf"
         },
         "encoding": {
          "color": {
           "field": "species_sn",
           "legend": null,
           "type": "nominal"
          },
          "opacity": {
           "condition": {
            "selection": "selector081",
            "value": 1
           },
           "value": 0
          },
          "tooltip": {
           "field": "species_sn",
           "type": "quantitative"
          },
          "x": {
           "field": "generation_sn",
           "type": "nominal"
          },
          "y": {
           "field": "avg_original_fitness",
           "type": "quantitative"
          }
         },
         "mark": "line",
         "selection": {
          "selector081": {
           "empty": "all",
           "fields": [
            "_vgsid_"
           ],
           "nearest": true,
           "on": "mouseover",
           "resolve": "global",
           "type": "single"
          }
         },
         "title": "avg OF of species over generation"
        },
        {
         "data": {
          "name": "data-7264c43778c3095bcd4501c776fd850d"
         },
         "encoding": {
          "color": {
           "field": "species_sn",
           "legend": null,
           "type": "nominal"
          },
          "opacity": {
           "condition": {
            "selection": "selector082",
            "value": 1
           },
           "value": 0
          },
          "tooltip": {
           "field": "species_sn",
           "type": "quantitative"
          },
          "x": {
           "field": "generation_sn",
           "type": "nominal"
          },
          "y": {
           "field": "avg_original_fitness",
           "type": "quantitative"
          }
         },
         "mark": "line",
         "selection": {
          "selector082": {
           "empty": "all",
           "fields": [
            "_vgsid_"
           ],
           "nearest": true,
           "on": "mouseover",
           "resolve": "global",
           "type": "single"
          }
         },
         "title": "avg OF of species over generation"
        },
        {
         "data": {
          "name": "data-9d0226b230120db62465f92b7d92ccfa"
         },
         "encoding": {
          "color": {
           "field": "species_sn",
           "legend": null,
           "type": "nominal"
          },
          "opacity": {
           "condition": {
            "selection": "selector083",
            "value": 1
           },
           "value": 0
          },
          "tooltip": {
           "field": "species_sn",
           "type": "quantitative"
          },
          "x": {
           "field": "generation_sn",
           "type": "nominal"
          },
          "y": {
           "field": "avg_original_fitness",
           "type": "quantitative"
          }
         },
         "mark": "line",
         "selection": {
          "selector083": {
           "empty": "all",
           "fields": [
            "_vgsid_"
           ],
           "nearest": true,
           "on": "mouseover",
           "resolve": "global",
           "type": "single"
          }
         },
         "title": "avg OF of species over generation"
        },
        {
         "data": {
          "name": "data-eac4e01cf66dfca00905329569e457d2"
         },
         "encoding": {
          "color": {
           "field": "species_sn",
           "legend": null,
           "type": "nominal"
          },
          "opacity": {
           "condition": {
            "selection": "selector084",
            "value": 1
           },
           "value": 0
          },
          "tooltip": {
           "field": "species_sn",
           "type": "quantitative"
          },
          "x": {
           "field": "generation_sn",
           "type": "nominal"
          },
          "y": {
           "field": "avg_original_fitness",
           "type": "quantitative"
          }
         },
         "mark": "line",
         "selection": {
          "selector084": {
           "empty": "all",
           "fields": [
            "_vgsid_"
           ],
           "nearest": true,
           "on": "mouseover",
           "resolve": "global",
           "type": "single"
          }
         },
         "title": "avg OF of species over generation"
        },
        {
         "data": {
          "name": "data-9f15cc2537e91adbcaed50ae3ece5567"
         },
         "encoding": {
          "color": {
           "field": "species_sn",
           "legend": null,
           "type": "nominal"
          },
          "opacity": {
           "condition": {
            "selection": "selector085",
            "value": 1
           },
           "value": 0
          },
          "tooltip": {
           "field": "species_sn",
           "type": "quantitative"
          },
          "x": {
           "field": "generation_sn",
           "type": "nominal"
          },
          "y": {
           "field": "avg_original_fitness",
           "type": "quantitative"
          }
         },
         "mark": "line",
         "selection": {
          "selector085": {
           "empty": "all",
           "fields": [
            "_vgsid_"
           ],
           "nearest": true,
           "on": "mouseover",
           "resolve": "global",
           "type": "single"
          }
         },
         "title": "avg OF of species over generation"
        },
        {
         "data": {
          "name": "data-bd5fb42888afeed2ebba24234d694908"
         },
         "encoding": {
          "color": {
           "field": "species_sn",
           "legend": null,
           "type": "nominal"
          },
          "opacity": {
           "condition": {
            "selection": "selector086",
            "value": 1
           },
           "value": 0
          },
          "tooltip": {
           "field": "species_sn",
           "type": "quantitative"
          },
          "x": {
           "field": "generation_sn",
           "type": "nominal"
          },
          "y": {
           "field": "avg_original_fitness",
           "type": "quantitative"
          }
         },
         "mark": "line",
         "selection": {
          "selector086": {
           "empty": "all",
           "fields": [
            "_vgsid_"
           ],
           "nearest": true,
           "on": "mouseover",
           "resolve": "global",
           "type": "single"
          }
         },
         "title": "avg OF of species over generation"
        },
        {
         "data": {
          "name": "data-c2e1fb38a22d2749a3b31a3cf1c31153"
         },
         "encoding": {
          "color": {
           "field": "species_sn",
           "legend": null,
           "type": "nominal"
          },
          "opacity": {
           "condition": {
            "selection": "selector087",
            "value": 1
           },
           "value": 0
          },
          "tooltip": {
           "field": "species_sn",
           "type": "quantitative"
          },
          "x": {
           "field": "generation_sn",
           "type": "nominal"
          },
          "y": {
           "field": "avg_original_fitness",
           "type": "quantitative"
          }
         },
         "mark": "line",
         "selection": {
          "selector087": {
           "empty": "all",
           "fields": [
            "_vgsid_"
           ],
           "nearest": true,
           "on": "mouseover",
           "resolve": "global",
           "type": "single"
          }
         },
         "title": "avg OF of species over generation"
        },
        {
         "data": {
          "name": "data-dcf51efbf71d3c657dca671221cb50d1"
         },
         "encoding": {
          "color": {
           "field": "species_sn",
           "legend": null,
           "type": "nominal"
          },
          "opacity": {
           "condition": {
            "selection": "selector088",
            "value": 1
           },
           "value": 0
          },
          "tooltip": {
           "field": "species_sn",
           "type": "quantitative"
          },
          "x": {
           "field": "generation_sn",
           "type": "nominal"
          },
          "y": {
           "field": "avg_original_fitness",
           "type": "quantitative"
          }
         },
         "mark": "line",
         "selection": {
          "selector088": {
           "empty": "all",
           "fields": [
            "_vgsid_"
           ],
           "nearest": true,
           "on": "mouseover",
           "resolve": "global",
           "type": "single"
          }
         },
         "title": "avg OF of species over generation"
        },
        {
         "data": {
          "name": "data-43f8bc26d5a59213e8f931b86f04b692"
         },
         "encoding": {
          "color": {
           "field": "species_sn",
           "legend": null,
           "type": "nominal"
          },
          "opacity": {
           "condition": {
            "selection": "selector089",
            "value": 1
           },
           "value": 0
          },
          "tooltip": {
           "field": "species_sn",
           "type": "quantitative"
          },
          "x": {
           "field": "generation_sn",
           "type": "nominal"
          },
          "y": {
           "field": "avg_original_fitness",
           "type": "quantitative"
          }
         },
         "mark": "line",
         "selection": {
          "selector089": {
           "empty": "all",
           "fields": [
            "_vgsid_"
           ],
           "nearest": true,
           "on": "mouseover",
           "resolve": "global",
           "type": "single"
          }
         },
         "title": "avg OF of species over generation"
        },
        {
         "data": {
          "name": "data-9e89b52199f65d096e48d9a006e2cb61"
         },
         "encoding": {
          "color": {
           "field": "species_sn",
           "legend": null,
           "type": "nominal"
          },
          "opacity": {
           "condition": {
            "selection": "selector090",
            "value": 1
           },
           "value": 0
          },
          "tooltip": {
           "field": "species_sn",
           "type": "quantitative"
          },
          "x": {
           "field": "generation_sn",
           "type": "nominal"
          },
          "y": {
           "field": "avg_original_fitness",
           "type": "quantitative"
          }
         },
         "mark": "line",
         "selection": {
          "selector090": {
           "empty": "all",
           "fields": [
            "_vgsid_"
           ],
           "nearest": true,
           "on": "mouseover",
           "resolve": "global",
           "type": "single"
          }
         },
         "title": "avg OF of species over generation"
        },
        {
         "data": {
          "name": "data-822d9dd1c5dc97e263983a45c69a1941"
         },
         "encoding": {
          "color": {
           "field": "species_sn",
           "legend": null,
           "type": "nominal"
          },
          "opacity": {
           "condition": {
            "selection": "selector091",
            "value": 1
           },
           "value": 0
          },
          "tooltip": {
           "field": "species_sn",
           "type": "quantitative"
          },
          "x": {
           "field": "generation_sn",
           "type": "nominal"
          },
          "y": {
           "field": "avg_original_fitness",
           "type": "quantitative"
          }
         },
         "mark": "line",
         "selection": {
          "selector091": {
           "empty": "all",
           "fields": [
            "_vgsid_"
           ],
           "nearest": true,
           "on": "mouseover",
           "resolve": "global",
           "type": "single"
          }
         },
         "title": "avg OF of species over generation"
        },
        {
         "data": {
          "name": "data-a26718fb9694f1e42846e48e883fca51"
         },
         "encoding": {
          "color": {
           "field": "species_sn",
           "legend": null,
           "type": "nominal"
          },
          "opacity": {
           "condition": {
            "selection": "selector092",
            "value": 1
           },
           "value": 0
          },
          "tooltip": {
           "field": "species_sn",
           "type": "quantitative"
          },
          "x": {
           "field": "generation_sn",
           "type": "nominal"
          },
          "y": {
           "field": "avg_original_fitness",
           "type": "quantitative"
          }
         },
         "mark": "line",
         "selection": {
          "selector092": {
           "empty": "all",
           "fields": [
            "_vgsid_"
           ],
           "nearest": true,
           "on": "mouseover",
           "resolve": "global",
           "type": "single"
          }
         },
         "title": "avg OF of species over generation"
        },
        {
         "data": {
          "name": "data-25c23c4d9f26177a32b54e464f1656b2"
         },
         "encoding": {
          "color": {
           "field": "species_sn",
           "legend": null,
           "type": "nominal"
          },
          "opacity": {
           "condition": {
            "selection": "selector093",
            "value": 1
           },
           "value": 0
          },
          "tooltip": {
           "field": "species_sn",
           "type": "quantitative"
          },
          "x": {
           "field": "generation_sn",
           "type": "nominal"
          },
          "y": {
           "field": "avg_original_fitness",
           "type": "quantitative"
          }
         },
         "mark": "line",
         "selection": {
          "selector093": {
           "empty": "all",
           "fields": [
            "_vgsid_"
           ],
           "nearest": true,
           "on": "mouseover",
           "resolve": "global",
           "type": "single"
          }
         },
         "title": "avg OF of species over generation"
        },
        {
         "data": {
          "name": "data-da5028150d36efb867fa68ac96618e58"
         },
         "encoding": {
          "color": {
           "field": "species_sn",
           "legend": null,
           "type": "nominal"
          },
          "opacity": {
           "condition": {
            "selection": "selector094",
            "value": 1
           },
           "value": 0
          },
          "tooltip": {
           "field": "species_sn",
           "type": "quantitative"
          },
          "x": {
           "field": "generation_sn",
           "type": "nominal"
          },
          "y": {
           "field": "avg_original_fitness",
           "type": "quantitative"
          }
         },
         "mark": "line",
         "selection": {
          "selector094": {
           "empty": "all",
           "fields": [
            "_vgsid_"
           ],
           "nearest": true,
           "on": "mouseover",
           "resolve": "global",
           "type": "single"
          }
         },
         "title": "avg OF of species over generation"
        },
        {
         "data": {
          "name": "data-1e1212c408ce391e2547997f16c47dab"
         },
         "encoding": {
          "color": {
           "field": "species_sn",
           "legend": null,
           "type": "nominal"
          },
          "opacity": {
           "condition": {
            "selection": "selector095",
            "value": 1
           },
           "value": 0
          },
          "tooltip": {
           "field": "species_sn",
           "type": "quantitative"
          },
          "x": {
           "field": "generation_sn",
           "type": "nominal"
          },
          "y": {
           "field": "avg_original_fitness",
           "type": "quantitative"
          }
         },
         "mark": "line",
         "selection": {
          "selector095": {
           "empty": "all",
           "fields": [
            "_vgsid_"
           ],
           "nearest": true,
           "on": "mouseover",
           "resolve": "global",
           "type": "single"
          }
         },
         "title": "avg OF of species over generation"
        },
        {
         "data": {
          "name": "data-c95493d637cddd993eb694dcf7f94648"
         },
         "encoding": {
          "color": {
           "field": "species_sn",
           "legend": null,
           "type": "nominal"
          },
          "opacity": {
           "condition": {
            "selection": "selector096",
            "value": 1
           },
           "value": 0
          },
          "tooltip": {
           "field": "species_sn",
           "type": "quantitative"
          },
          "x": {
           "field": "generation_sn",
           "type": "nominal"
          },
          "y": {
           "field": "avg_original_fitness",
           "type": "quantitative"
          }
         },
         "mark": "line",
         "selection": {
          "selector096": {
           "empty": "all",
           "fields": [
            "_vgsid_"
           ],
           "nearest": true,
           "on": "mouseover",
           "resolve": "global",
           "type": "single"
          }
         },
         "title": "avg OF of species over generation"
        },
        {
         "data": {
          "name": "data-856e8f07517bf3f894b4da20425a97ef"
         },
         "encoding": {
          "color": {
           "field": "species_sn",
           "legend": null,
           "type": "nominal"
          },
          "opacity": {
           "condition": {
            "selection": "selector097",
            "value": 1
           },
           "value": 0
          },
          "tooltip": {
           "field": "species_sn",
           "type": "quantitative"
          },
          "x": {
           "field": "generation_sn",
           "type": "nominal"
          },
          "y": {
           "field": "avg_original_fitness",
           "type": "quantitative"
          }
         },
         "mark": "line",
         "selection": {
          "selector097": {
           "empty": "all",
           "fields": [
            "_vgsid_"
           ],
           "nearest": true,
           "on": "mouseover",
           "resolve": "global",
           "type": "single"
          }
         },
         "title": "avg OF of species over generation"
        },
        {
         "data": {
          "name": "data-425ecbef2297bfa02fc3ef4b58b6e526"
         },
         "encoding": {
          "color": {
           "field": "species_sn",
           "legend": null,
           "type": "nominal"
          },
          "opacity": {
           "condition": {
            "selection": "selector098",
            "value": 1
           },
           "value": 0
          },
          "tooltip": {
           "field": "species_sn",
           "type": "quantitative"
          },
          "x": {
           "field": "generation_sn",
           "type": "nominal"
          },
          "y": {
           "field": "avg_original_fitness",
           "type": "quantitative"
          }
         },
         "mark": "line",
         "selection": {
          "selector098": {
           "empty": "all",
           "fields": [
            "_vgsid_"
           ],
           "nearest": true,
           "on": "mouseover",
           "resolve": "global",
           "type": "single"
          }
         },
         "title": "avg OF of species over generation"
        },
        {
         "data": {
          "name": "data-57ed0f27ca509f24a72343f85d90be3c"
         },
         "encoding": {
          "color": {
           "field": "species_sn",
           "legend": null,
           "type": "nominal"
          },
          "opacity": {
           "condition": {
            "selection": "selector099",
            "value": 1
           },
           "value": 0
          },
          "tooltip": {
           "field": "species_sn",
           "type": "quantitative"
          },
          "x": {
           "field": "generation_sn",
           "type": "nominal"
          },
          "y": {
           "field": "avg_original_fitness",
           "type": "quantitative"
          }
         },
         "mark": "line",
         "selection": {
          "selector099": {
           "empty": "all",
           "fields": [
            "_vgsid_"
           ],
           "nearest": true,
           "on": "mouseover",
           "resolve": "global",
           "type": "single"
          }
         },
         "title": "avg OF of species over generation"
        }
       ],
       "width": 600
      },
      "image/png": "[encoded data removed]",
      "text/plain": [
       "<VegaLite 2 object>\n",
       "\n",
       "If you see this message, it means the renderer has not been properly enabled\n",
       "for the frontend that you are using. For more information, see\n",
       "https://altair-viz.github.io/user_guide/troubleshooting.html\n"
      ]
     },
     "execution_count": 6,
     "metadata": {},
     "output_type": "execute_result"
    }
   ],
   "source": [
    "sql = '''\n",
    "  select generation_sn, species_sn, avg(original_fitness) as avg_original_fitness\n",
    "  from population\n",
    "  where run_id = %s\n",
    "  group by (generation_sn, species_sn)\n",
    "  '''\n",
    "\n",
    "avg_ofes = pd.read_sql(sql=sql, con=conn, params=(run_id,))\n",
    "avg_ofes.head()\n",
    "\n",
    "charts = []\n",
    "for i in range(num_species):\n",
    "    highlight = altair.selection(\n",
    "        type='single',\n",
    "        on='mouseover',\n",
    "        nearest=True)\n",
    "    chart = altair.Chart(\n",
    "        avg_ofes.query('species_sn == @i'),\n",
    "        title='avg OF of species over generation'\n",
    "    ).mark_line().encode(\n",
    "        x='generation_sn:N',\n",
    "        y='avg_original_fitness:Q',\n",
    "        color=altair.Color('species_sn:N', legend=None),\n",
    "        tooltip='species_sn',\n",
    "        opacity=altair.condition(highlight, altair.value(1), altair.value(0))\n",
    "    ).add_selection(highlight)\n",
    "    charts.append(chart)\n",
    "\n",
    "altair.layer(*charts).properties(width=600).interactive()"
   ]
  },
  {
   "cell_type": "code",
   "execution_count": 7,
   "metadata": {},
   "outputs": [
    {
     "data": {
      "application/vnd.vegalite.v2+json": {
       "$schema": "https://vega.github.io/schema/vega-lite/v2.6.0.json",
       "config": {
        "view": {
         "height": 300,
         "width": 400
        }
       },
       "datasets": {
        "data-0190df08925076732c60fbc9e2583c1b": [
         {
          "generation_sn": 4,
          "num_genomes": 3,
          "species_sn": 56
         },
         {
          "generation_sn": 5,
          "num_genomes": 3,
          "species_sn": 56
         },
         {
          "generation_sn": 3,
          "num_genomes": 3,
          "species_sn": 56
         },
         {
          "generation_sn": 1,
          "num_genomes": 1,
          "species_sn": 56
         },
         {
          "generation_sn": 2,
          "num_genomes": 2,
          "species_sn": 56
         }
        ],
        "data-067c07393caf95babba617c7f79be7a5": [
         {
          "generation_sn": 5,
          "num_genomes": 1,
          "species_sn": 91
         }
        ],
        "data-080a5130a1bd9779f692858ccc10cec5": [
         {
          "generation_sn": 5,
          "num_genomes": 3,
          "species_sn": 78
         },
         {
          "generation_sn": 1,
          "num_genomes": 1,
          "species_sn": 78
         },
         {
          "generation_sn": 4,
          "num_genomes": 3,
          "species_sn": 78
         },
         {
          "generation_sn": 2,
          "num_genomes": 2,
          "species_sn": 78
         },
         {
          "generation_sn": 3,
          "num_genomes": 3,
          "species_sn": 78
         }
        ],
        "data-0879620caad0742342d69ed9ef87d032": [
         {
          "generation_sn": 1,
          "num_genomes": 1,
          "species_sn": 48
         },
         {
          "generation_sn": 2,
          "num_genomes": 2,
          "species_sn": 48
         },
         {
          "generation_sn": 5,
          "num_genomes": 3,
          "species_sn": 48
         },
         {
          "generation_sn": 3,
          "num_genomes": 3,
          "species_sn": 48
         },
         {
          "generation_sn": 4,
          "num_genomes": 3,
          "species_sn": 48
         }
        ],
        "data-08d8087888b35e84669c41743a78b894": [
         {
          "generation_sn": 2,
          "num_genomes": 2,
          "species_sn": 84
         },
         {
          "generation_sn": 3,
          "num_genomes": 3,
          "species_sn": 84
         },
         {
          "generation_sn": 4,
          "num_genomes": 3,
          "species_sn": 84
         },
         {
          "generation_sn": 5,
          "num_genomes": 3,
          "species_sn": 84
         },
         {
          "generation_sn": 1,
          "num_genomes": 1,
          "species_sn": 84
         }
        ],
        "data-0c804d5b1c847bce32c7f238ac694a7f": [
         {
          "generation_sn": 3,
          "num_genomes": 3,
          "species_sn": 13
         },
         {
          "generation_sn": 4,
          "num_genomes": 3,
          "species_sn": 13
         },
         {
          "generation_sn": 5,
          "num_genomes": 1,
          "species_sn": 13
         },
         {
          "generation_sn": 2,
          "num_genomes": 2,
          "species_sn": 13
         },
         {
          "generation_sn": 1,
          "num_genomes": 1,
          "species_sn": 13
         }
        ],
        "data-0daa6f04009e0b57ff8ae4ce99cf2b63": [
         {
          "generation_sn": 2,
          "num_genomes": 2,
          "species_sn": 83
         },
         {
          "generation_sn": 4,
          "num_genomes": 3,
          "species_sn": 83
         },
         {
          "generation_sn": 5,
          "num_genomes": 3,
          "species_sn": 83
         },
         {
          "generation_sn": 3,
          "num_genomes": 3,
          "species_sn": 83
         },
         {
          "generation_sn": 1,
          "num_genomes": 1,
          "species_sn": 83
         }
        ],
        "data-0fc1177e8f172670d1f351d974b1c346": [
         {
          "generation_sn": 3,
          "num_genomes": 3,
          "species_sn": 69
         },
         {
          "generation_sn": 4,
          "num_genomes": 3,
          "species_sn": 69
         },
         {
          "generation_sn": 5,
          "num_genomes": 3,
          "species_sn": 69
         },
         {
          "generation_sn": 2,
          "num_genomes": 2,
          "species_sn": 69
         },
         {
          "generation_sn": 1,
          "num_genomes": 1,
          "species_sn": 69
         }
        ],
        "data-12b18ad6666a8d25aacc20f45374c219": [
         {
          "generation_sn": 5,
          "num_genomes": 3,
          "species_sn": 22
         },
         {
          "generation_sn": 1,
          "num_genomes": 2,
          "species_sn": 22
         },
         {
          "generation_sn": 4,
          "num_genomes": 3,
          "species_sn": 22
         },
         {
          "generation_sn": 3,
          "num_genomes": 3,
          "species_sn": 22
         },
         {
          "generation_sn": 2,
          "num_genomes": 2,
          "species_sn": 22
         }
        ],
        "data-13559052277bf5cfb335f9aba6dff76d": [
         {
          "generation_sn": 4,
          "num_genomes": 1,
          "species_sn": 89
         },
         {
          "generation_sn": 5,
          "num_genomes": 3,
          "species_sn": 89
         }
        ],
        "data-1636d3251c0e966907fa502f444e410f": [
         {
          "generation_sn": 1,
          "num_genomes": 3,
          "species_sn": 54
         },
         {
          "generation_sn": 2,
          "num_genomes": 2,
          "species_sn": 54
         },
         {
          "generation_sn": 5,
          "num_genomes": 3,
          "species_sn": 54
         },
         {
          "generation_sn": 3,
          "num_genomes": 3,
          "species_sn": 54
         },
         {
          "generation_sn": 4,
          "num_genomes": 3,
          "species_sn": 54
         }
        ],
        "data-1879f27e65c93b21195ce0d8332eeaa0": [
         {
          "generation_sn": 4,
          "num_genomes": 3,
          "species_sn": 21
         },
         {
          "generation_sn": 2,
          "num_genomes": 2,
          "species_sn": 21
         },
         {
          "generation_sn": 1,
          "num_genomes": 1,
          "species_sn": 21
         },
         {
          "generation_sn": 3,
          "num_genomes": 3,
          "species_sn": 21
         },
         {
          "generation_sn": 5,
          "num_genomes": 3,
          "species_sn": 21
         }
        ],
        "data-197da42996458507ccfe222bd319c986": [
         {
          "generation_sn": 3,
          "num_genomes": 3,
          "species_sn": 39
         },
         {
          "generation_sn": 2,
          "num_genomes": 2,
          "species_sn": 39
         },
         {
          "generation_sn": 5,
          "num_genomes": 3,
          "species_sn": 39
         },
         {
          "generation_sn": 1,
          "num_genomes": 1,
          "species_sn": 39
         },
         {
          "generation_sn": 4,
          "num_genomes": 3,
          "species_sn": 39
         }
        ],
        "data-1a780118da6eefc2f212acad7e281764": [
         {
          "generation_sn": 5,
          "num_genomes": 3,
          "species_sn": 43
         },
         {
          "generation_sn": 2,
          "num_genomes": 2,
          "species_sn": 43
         },
         {
          "generation_sn": 4,
          "num_genomes": 3,
          "species_sn": 43
         },
         {
          "generation_sn": 3,
          "num_genomes": 3,
          "species_sn": 43
         },
         {
          "generation_sn": 1,
          "num_genomes": 1,
          "species_sn": 43
         }
        ],
        "data-1b4d5d410b38ae43b81caa63cc35dd7f": [
         {
          "generation_sn": 2,
          "num_genomes": 2,
          "species_sn": 82
         },
         {
          "generation_sn": 3,
          "num_genomes": 3,
          "species_sn": 82
         },
         {
          "generation_sn": 5,
          "num_genomes": 3,
          "species_sn": 82
         },
         {
          "generation_sn": 4,
          "num_genomes": 3,
          "species_sn": 82
         },
         {
          "generation_sn": 1,
          "num_genomes": 1,
          "species_sn": 82
         }
        ],
        "data-232824bbe3e5c13f82424e0c6a6d645c": [
         {
          "generation_sn": 2,
          "num_genomes": 2,
          "species_sn": 35
         },
         {
          "generation_sn": 1,
          "num_genomes": 1,
          "species_sn": 35
         },
         {
          "generation_sn": 4,
          "num_genomes": 3,
          "species_sn": 35
         },
         {
          "generation_sn": 3,
          "num_genomes": 3,
          "species_sn": 35
         },
         {
          "generation_sn": 5,
          "num_genomes": 3,
          "species_sn": 35
         }
        ],
        "data-252c3b1cea0bf4d570e6fc8e4086bab6": [
         {
          "generation_sn": 5,
          "num_genomes": 1,
          "species_sn": 93
         }
        ],
        "data-2698d0cadfd01d8df0fb313aed55eb15": [
         {
          "generation_sn": 3,
          "num_genomes": 3,
          "species_sn": 53
         },
         {
          "generation_sn": 4,
          "num_genomes": 3,
          "species_sn": 53
         },
         {
          "generation_sn": 1,
          "num_genomes": 1,
          "species_sn": 53
         },
         {
          "generation_sn": 5,
          "num_genomes": 3,
          "species_sn": 53
         },
         {
          "generation_sn": 2,
          "num_genomes": 3,
          "species_sn": 53
         }
        ],
        "data-278afd9d7bb99de5f0aef18cb16759bb": [
         {
          "generation_sn": 1,
          "num_genomes": 1,
          "species_sn": 5
         },
         {
          "generation_sn": 4,
          "num_genomes": 3,
          "species_sn": 5
         },
         {
          "generation_sn": 2,
          "num_genomes": 2,
          "species_sn": 5
         },
         {
          "generation_sn": 5,
          "num_genomes": 3,
          "species_sn": 5
         },
         {
          "generation_sn": 3,
          "num_genomes": 3,
          "species_sn": 5
         }
        ],
        "data-29fbad9081b433ae990b2aedc5b1fceb": [
         {
          "generation_sn": 3,
          "num_genomes": 3,
          "species_sn": 75
         },
         {
          "generation_sn": 2,
          "num_genomes": 2,
          "species_sn": 75
         },
         {
          "generation_sn": 5,
          "num_genomes": 3,
          "species_sn": 75
         },
         {
          "generation_sn": 1,
          "num_genomes": 1,
          "species_sn": 75
         },
         {
          "generation_sn": 4,
          "num_genomes": 3,
          "species_sn": 75
         }
        ],
        "data-2adae1a26c6926a1d72686f29e76de05": [
         {
          "generation_sn": 3,
          "num_genomes": 3,
          "species_sn": 32
         },
         {
          "generation_sn": 4,
          "num_genomes": 3,
          "species_sn": 32
         },
         {
          "generation_sn": 2,
          "num_genomes": 2,
          "species_sn": 32
         },
         {
          "generation_sn": 5,
          "num_genomes": 3,
          "species_sn": 32
         },
         {
          "generation_sn": 1,
          "num_genomes": 3,
          "species_sn": 32
         }
        ],
        "data-2f8a9268fb3b863deaba70f2380770f6": [
         {
          "generation_sn": 5,
          "num_genomes": 3,
          "species_sn": 60
         },
         {
          "generation_sn": 4,
          "num_genomes": 3,
          "species_sn": 60
         },
         {
          "generation_sn": 1,
          "num_genomes": 2,
          "species_sn": 60
         },
         {
          "generation_sn": 3,
          "num_genomes": 3,
          "species_sn": 60
         },
         {
          "generation_sn": 2,
          "num_genomes": 2,
          "species_sn": 60
         }
        ],
        "data-2f8de0ba1a85e088d200381349dafcd6": [
         {
          "generation_sn": 1,
          "num_genomes": 3,
          "species_sn": 19
         },
         {
          "generation_sn": 4,
          "num_genomes": 3,
          "species_sn": 19
         },
         {
          "generation_sn": 5,
          "num_genomes": 3,
          "species_sn": 19
         },
         {
          "generation_sn": 2,
          "num_genomes": 2,
          "species_sn": 19
         },
         {
          "generation_sn": 3,
          "num_genomes": 3,
          "species_sn": 19
         }
        ],
        "data-3094df7cee9fb8ebbb8b52859bee6a65": [
         {
          "generation_sn": 4,
          "num_genomes": 3,
          "species_sn": 38
         },
         {
          "generation_sn": 3,
          "num_genomes": 3,
          "species_sn": 38
         },
         {
          "generation_sn": 2,
          "num_genomes": 2,
          "species_sn": 38
         },
         {
          "generation_sn": 1,
          "num_genomes": 2,
          "species_sn": 38
         },
         {
          "generation_sn": 5,
          "num_genomes": 3,
          "species_sn": 38
         }
        ],
        "data-30ad068a600b8049bb919b840fab76c0": [
         {
          "generation_sn": 2,
          "num_genomes": 2,
          "species_sn": 80
         },
         {
          "generation_sn": 5,
          "num_genomes": 3,
          "species_sn": 80
         },
         {
          "generation_sn": 3,
          "num_genomes": 3,
          "species_sn": 80
         },
         {
          "generation_sn": 4,
          "num_genomes": 3,
          "species_sn": 80
         },
         {
          "generation_sn": 1,
          "num_genomes": 1,
          "species_sn": 80
         }
        ],
        "data-31a44dd918a3fa8f14e8dcc71160606c": [
         {
          "generation_sn": 5,
          "num_genomes": 3,
          "species_sn": 4
         },
         {
          "generation_sn": 1,
          "num_genomes": 1,
          "species_sn": 4
         },
         {
          "generation_sn": 3,
          "num_genomes": 3,
          "species_sn": 4
         },
         {
          "generation_sn": 4,
          "num_genomes": 3,
          "species_sn": 4
         },
         {
          "generation_sn": 2,
          "num_genomes": 2,
          "species_sn": 4
         }
        ],
        "data-371179eea69a13ce8bc7fa8eac9fc7d4": [
         {
          "generation_sn": 2,
          "num_genomes": 2,
          "species_sn": 9
         },
         {
          "generation_sn": 3,
          "num_genomes": 3,
          "species_sn": 9
         },
         {
          "generation_sn": 5,
          "num_genomes": 3,
          "species_sn": 9
         },
         {
          "generation_sn": 1,
          "num_genomes": 1,
          "species_sn": 9
         },
         {
          "generation_sn": 4,
          "num_genomes": 3,
          "species_sn": 9
         }
        ],
        "data-377f3d466c3f057153cfb69a54aa9f18": [
         {
          "generation_sn": 5,
          "num_genomes": 3,
          "species_sn": 16
         },
         {
          "generation_sn": 4,
          "num_genomes": 3,
          "species_sn": 16
         },
         {
          "generation_sn": 1,
          "num_genomes": 2,
          "species_sn": 16
         },
         {
          "generation_sn": 3,
          "num_genomes": 3,
          "species_sn": 16
         },
         {
          "generation_sn": 2,
          "num_genomes": 2,
          "species_sn": 16
         }
        ],
        "data-3cf8862fb6fad4091aabc7671a01a006": [
         {
          "generation_sn": 5,
          "num_genomes": 1,
          "species_sn": 96
         }
        ],
        "data-3d15c5475e3509152f9cfe752204bac0": [
         {
          "generation_sn": 4,
          "num_genomes": 3,
          "species_sn": 76
         },
         {
          "generation_sn": 5,
          "num_genomes": 3,
          "species_sn": 76
         },
         {
          "generation_sn": 1,
          "num_genomes": 1,
          "species_sn": 76
         },
         {
          "generation_sn": 3,
          "num_genomes": 3,
          "species_sn": 76
         },
         {
          "generation_sn": 2,
          "num_genomes": 2,
          "species_sn": 76
         }
        ],
        "data-40ad3ae377652cd8c7f01dc49108c42c": [
         {
          "generation_sn": 5,
          "num_genomes": 3,
          "species_sn": 51
         },
         {
          "generation_sn": 1,
          "num_genomes": 1,
          "species_sn": 51
         },
         {
          "generation_sn": 3,
          "num_genomes": 3,
          "species_sn": 51
         },
         {
          "generation_sn": 2,
          "num_genomes": 2,
          "species_sn": 51
         },
         {
          "generation_sn": 4,
          "num_genomes": 3,
          "species_sn": 51
         }
        ],
        "data-4294862049b404f300e8a2d2e95c1847": [
         {
          "generation_sn": 4,
          "num_genomes": 2,
          "species_sn": 24
         },
         {
          "generation_sn": 1,
          "num_genomes": 2,
          "species_sn": 24
         },
         {
          "generation_sn": 2,
          "num_genomes": 2,
          "species_sn": 24
         },
         {
          "generation_sn": 3,
          "num_genomes": 3,
          "species_sn": 24
         },
         {
          "generation_sn": 5,
          "num_genomes": 6,
          "species_sn": 24
         }
        ],
        "data-432d0bfdf30e36d439228c1665f7c881": [
         {
          "generation_sn": 5,
          "num_genomes": 3,
          "species_sn": 63
         },
         {
          "generation_sn": 1,
          "num_genomes": 3,
          "species_sn": 63
         },
         {
          "generation_sn": 3,
          "num_genomes": 3,
          "species_sn": 63
         },
         {
          "generation_sn": 4,
          "num_genomes": 3,
          "species_sn": 63
         },
         {
          "generation_sn": 2,
          "num_genomes": 2,
          "species_sn": 63
         }
        ],
        "data-44305f86716eed3a24c0f7686fef36a9": [
         {
          "generation_sn": 2,
          "num_genomes": 2,
          "species_sn": 81
         },
         {
          "generation_sn": 1,
          "num_genomes": 1,
          "species_sn": 81
         },
         {
          "generation_sn": 5,
          "num_genomes": 3,
          "species_sn": 81
         },
         {
          "generation_sn": 4,
          "num_genomes": 3,
          "species_sn": 81
         },
         {
          "generation_sn": 3,
          "num_genomes": 3,
          "species_sn": 81
         }
        ],
        "data-48235606e215c33c4940728cd01c32ed": [
         {
          "generation_sn": 5,
          "num_genomes": 1,
          "species_sn": 94
         }
        ],
        "data-4a54b5dc71ec223442d29f870ee45900": [
         {
          "generation_sn": 1,
          "num_genomes": 1,
          "species_sn": 70
         },
         {
          "generation_sn": 5,
          "num_genomes": 3,
          "species_sn": 70
         },
         {
          "generation_sn": 3,
          "num_genomes": 3,
          "species_sn": 70
         },
         {
          "generation_sn": 4,
          "num_genomes": 3,
          "species_sn": 70
         },
         {
          "generation_sn": 2,
          "num_genomes": 2,
          "species_sn": 70
         }
        ],
        "data-4b6c579904a064044bf5a78664eb2ee4": [
         {
          "generation_sn": 5,
          "num_genomes": 1,
          "species_sn": 92
         }
        ],
        "data-4bda2d79c2463cf11d3b67951eac871f": [
         {
          "generation_sn": 3,
          "num_genomes": 3,
          "species_sn": 58
         },
         {
          "generation_sn": 5,
          "num_genomes": 3,
          "species_sn": 58
         },
         {
          "generation_sn": 1,
          "num_genomes": 3,
          "species_sn": 58
         },
         {
          "generation_sn": 2,
          "num_genomes": 2,
          "species_sn": 58
         },
         {
          "generation_sn": 4,
          "num_genomes": 3,
          "species_sn": 58
         }
        ],
        "data-4fd984e3274692807ea23e9859694d76": [
         {
          "generation_sn": 1,
          "num_genomes": 2,
          "species_sn": 23
         },
         {
          "generation_sn": 2,
          "num_genomes": 2,
          "species_sn": 23
         },
         {
          "generation_sn": 4,
          "num_genomes": 3,
          "species_sn": 23
         },
         {
          "generation_sn": 3,
          "num_genomes": 3,
          "species_sn": 23
         },
         {
          "generation_sn": 5,
          "num_genomes": 3,
          "species_sn": 23
         }
        ],
        "data-529571b9d8d05150f9fc985c656129a0": [
         {
          "generation_sn": 5,
          "num_genomes": 3,
          "species_sn": 34
         },
         {
          "generation_sn": 3,
          "num_genomes": 3,
          "species_sn": 34
         },
         {
          "generation_sn": 1,
          "num_genomes": 3,
          "species_sn": 34
         },
         {
          "generation_sn": 2,
          "num_genomes": 2,
          "species_sn": 34
         },
         {
          "generation_sn": 4,
          "num_genomes": 3,
          "species_sn": 34
         }
        ],
        "data-549b3a64bf0e022d56bbd53884d140eb": [
         {
          "generation_sn": 5,
          "num_genomes": 3,
          "species_sn": 8
         },
         {
          "generation_sn": 4,
          "num_genomes": 3,
          "species_sn": 8
         },
         {
          "generation_sn": 2,
          "num_genomes": 2,
          "species_sn": 8
         },
         {
          "generation_sn": 1,
          "num_genomes": 3,
          "species_sn": 8
         },
         {
          "generation_sn": 3,
          "num_genomes": 3,
          "species_sn": 8
         }
        ],
        "data-596be752c530cb71eeb0101f6e8cd34a": [
         {
          "generation_sn": 1,
          "num_genomes": 1,
          "species_sn": 40
         },
         {
          "generation_sn": 5,
          "num_genomes": 3,
          "species_sn": 40
         },
         {
          "generation_sn": 4,
          "num_genomes": 3,
          "species_sn": 40
         },
         {
          "generation_sn": 2,
          "num_genomes": 2,
          "species_sn": 40
         },
         {
          "generation_sn": 3,
          "num_genomes": 3,
          "species_sn": 40
         }
        ],
        "data-5bea82a77f3815ab09aab444cde43e86": [
         {
          "generation_sn": 2,
          "num_genomes": 2,
          "species_sn": 36
         },
         {
          "generation_sn": 1,
          "num_genomes": 4,
          "species_sn": 36
         },
         {
          "generation_sn": 5,
          "num_genomes": 3,
          "species_sn": 36
         },
         {
          "generation_sn": 4,
          "num_genomes": 3,
          "species_sn": 36
         },
         {
          "generation_sn": 3,
          "num_genomes": 3,
          "species_sn": 36
         }
        ],
        "data-648e2a5eef313f44bc7fcd03061ce704": [
         {
          "generation_sn": 4,
          "num_genomes": 3,
          "species_sn": 3
         },
         {
          "generation_sn": 5,
          "num_genomes": 3,
          "species_sn": 3
         },
         {
          "generation_sn": 2,
          "num_genomes": 2,
          "species_sn": 3
         },
         {
          "generation_sn": 3,
          "num_genomes": 3,
          "species_sn": 3
         },
         {
          "generation_sn": 1,
          "num_genomes": 4,
          "species_sn": 3
         }
        ],
        "data-67f77d6c73c2a26fa6401b788a3b27b6": [
         {
          "generation_sn": 2,
          "num_genomes": 2,
          "species_sn": 18
         },
         {
          "generation_sn": 3,
          "num_genomes": 3,
          "species_sn": 18
         },
         {
          "generation_sn": 4,
          "num_genomes": 3,
          "species_sn": 18
         },
         {
          "generation_sn": 5,
          "num_genomes": 3,
          "species_sn": 18
         },
         {
          "generation_sn": 1,
          "num_genomes": 1,
          "species_sn": 18
         }
        ],
        "data-67fd064198eea34671c6c9c091f9d707": [
         {
          "generation_sn": 4,
          "num_genomes": 3,
          "species_sn": 64
         },
         {
          "generation_sn": 5,
          "num_genomes": 3,
          "species_sn": 64
         },
         {
          "generation_sn": 3,
          "num_genomes": 3,
          "species_sn": 64
         },
         {
          "generation_sn": 2,
          "num_genomes": 2,
          "species_sn": 64
         },
         {
          "generation_sn": 1,
          "num_genomes": 2,
          "species_sn": 64
         }
        ],
        "data-6a658760edb07ef64466d295d2878195": [
         {
          "generation_sn": 4,
          "num_genomes": 1,
          "species_sn": 90
         }
        ],
        "data-6ad7eb942cc72ba4ba86ae46c710381c": [
         {
          "generation_sn": 4,
          "num_genomes": 3,
          "species_sn": 50
         },
         {
          "generation_sn": 3,
          "num_genomes": 3,
          "species_sn": 50
         },
         {
          "generation_sn": 1,
          "num_genomes": 2,
          "species_sn": 50
         },
         {
          "generation_sn": 2,
          "num_genomes": 2,
          "species_sn": 50
         },
         {
          "generation_sn": 5,
          "num_genomes": 3,
          "species_sn": 50
         }
        ],
        "data-6b4113d18bfb630febd2a0098cea408a": [
         {
          "generation_sn": 2,
          "num_genomes": 2,
          "species_sn": 26
         },
         {
          "generation_sn": 4,
          "num_genomes": 3,
          "species_sn": 26
         },
         {
          "generation_sn": 3,
          "num_genomes": 3,
          "species_sn": 26
         },
         {
          "generation_sn": 1,
          "num_genomes": 2,
          "species_sn": 26
         },
         {
          "generation_sn": 5,
          "num_genomes": 3,
          "species_sn": 26
         }
        ],
        "data-7057b6c78881ee8774182987bf9664be": [
         {
          "generation_sn": 1,
          "num_genomes": 1,
          "species_sn": 28
         },
         {
          "generation_sn": 2,
          "num_genomes": 2,
          "species_sn": 28
         },
         {
          "generation_sn": 3,
          "num_genomes": 3,
          "species_sn": 28
         },
         {
          "generation_sn": 5,
          "num_genomes": 3,
          "species_sn": 28
         },
         {
          "generation_sn": 4,
          "num_genomes": 3,
          "species_sn": 28
         }
        ],
        "data-71f5a297a4f211309549a960d0e990a7": [
         {
          "generation_sn": 4,
          "num_genomes": 3,
          "species_sn": 79
         },
         {
          "generation_sn": 5,
          "num_genomes": 3,
          "species_sn": 79
         },
         {
          "generation_sn": 3,
          "num_genomes": 3,
          "species_sn": 79
         },
         {
          "generation_sn": 1,
          "num_genomes": 2,
          "species_sn": 79
         },
         {
          "generation_sn": 2,
          "num_genomes": 3,
          "species_sn": 79
         }
        ],
        "data-761e34b8e99b1c1fbd3548bff7e1a41b": [
         {
          "generation_sn": 5,
          "num_genomes": 1,
          "species_sn": 97
         }
        ],
        "data-761eecf65afbe1d46568702705574a17": [
         {
          "generation_sn": 1,
          "num_genomes": 1,
          "species_sn": 73
         },
         {
          "generation_sn": 3,
          "num_genomes": 3,
          "species_sn": 73
         },
         {
          "generation_sn": 5,
          "num_genomes": 3,
          "species_sn": 73
         },
         {
          "generation_sn": 2,
          "num_genomes": 2,
          "species_sn": 73
         },
         {
          "generation_sn": 4,
          "num_genomes": 3,
          "species_sn": 73
         }
        ],
        "data-78fb82ed6532179018e69f28b815a932": [
         {
          "generation_sn": 1,
          "num_genomes": 2,
          "species_sn": 6
         },
         {
          "generation_sn": 3,
          "num_genomes": 3,
          "species_sn": 6
         },
         {
          "generation_sn": 2,
          "num_genomes": 2,
          "species_sn": 6
         },
         {
          "generation_sn": 5,
          "num_genomes": 3,
          "species_sn": 6
         },
         {
          "generation_sn": 4,
          "num_genomes": 3,
          "species_sn": 6
         }
        ],
        "data-7c26669ffb5c17bbe0219c2fa29f9f7a": [
         {
          "generation_sn": 2,
          "num_genomes": 2,
          "species_sn": 46
         },
         {
          "generation_sn": 5,
          "num_genomes": 3,
          "species_sn": 46
         },
         {
          "generation_sn": 1,
          "num_genomes": 1,
          "species_sn": 46
         },
         {
          "generation_sn": 4,
          "num_genomes": 3,
          "species_sn": 46
         },
         {
          "generation_sn": 3,
          "num_genomes": 3,
          "species_sn": 46
         }
        ],
        "data-7daa8dd94728e603b6c91c46ab327a1c": [
         {
          "generation_sn": 4,
          "num_genomes": 3,
          "species_sn": 15
         },
         {
          "generation_sn": 5,
          "num_genomes": 3,
          "species_sn": 15
         },
         {
          "generation_sn": 2,
          "num_genomes": 2,
          "species_sn": 15
         },
         {
          "generation_sn": 3,
          "num_genomes": 3,
          "species_sn": 15
         },
         {
          "generation_sn": 1,
          "num_genomes": 1,
          "species_sn": 15
         }
        ],
        "data-7dbaf2864da7becf8fe8767142922359": [
         {
          "generation_sn": 1,
          "num_genomes": 1,
          "species_sn": 11
         },
         {
          "generation_sn": 5,
          "num_genomes": 3,
          "species_sn": 11
         },
         {
          "generation_sn": 2,
          "num_genomes": 2,
          "species_sn": 11
         },
         {
          "generation_sn": 4,
          "num_genomes": 3,
          "species_sn": 11
         },
         {
          "generation_sn": 3,
          "num_genomes": 3,
          "species_sn": 11
         }
        ],
        "data-8218fdf34f0f617e53190bd95fed9fb1": [
         {
          "generation_sn": 1,
          "num_genomes": 2,
          "species_sn": 29
         },
         {
          "generation_sn": 2,
          "num_genomes": 2,
          "species_sn": 29
         },
         {
          "generation_sn": 4,
          "num_genomes": 3,
          "species_sn": 29
         },
         {
          "generation_sn": 3,
          "num_genomes": 3,
          "species_sn": 29
         },
         {
          "generation_sn": 5,
          "num_genomes": 3,
          "species_sn": 29
         }
        ],
        "data-821b2cad7d05097b91633f1d9c297047": [
         {
          "generation_sn": 1,
          "num_genomes": 1,
          "species_sn": 61
         },
         {
          "generation_sn": 5,
          "num_genomes": 2,
          "species_sn": 61
         },
         {
          "generation_sn": 3,
          "num_genomes": 3,
          "species_sn": 61
         },
         {
          "generation_sn": 4,
          "num_genomes": 3,
          "species_sn": 61
         },
         {
          "generation_sn": 2,
          "num_genomes": 2,
          "species_sn": 61
         }
        ],
        "data-8512774156d599bf15a58512e6d6bf2c": [
         {
          "generation_sn": 3,
          "num_genomes": 3,
          "species_sn": 72
         },
         {
          "generation_sn": 2,
          "num_genomes": 2,
          "species_sn": 72
         },
         {
          "generation_sn": 1,
          "num_genomes": 1,
          "species_sn": 72
         },
         {
          "generation_sn": 5,
          "num_genomes": 3,
          "species_sn": 72
         },
         {
          "generation_sn": 4,
          "num_genomes": 3,
          "species_sn": 72
         }
        ],
        "data-877ecfbf12079e4d646405ccb3c049be": [
         {
          "generation_sn": 1,
          "num_genomes": 1,
          "species_sn": 1
         },
         {
          "generation_sn": 4,
          "num_genomes": 3,
          "species_sn": 1
         },
         {
          "generation_sn": 5,
          "num_genomes": 3,
          "species_sn": 1
         },
         {
          "generation_sn": 3,
          "num_genomes": 3,
          "species_sn": 1
         },
         {
          "generation_sn": 2,
          "num_genomes": 2,
          "species_sn": 1
         }
        ],
        "data-8b79b77c1f284982d2b4f5cb14e85f03": [
         {
          "generation_sn": 5,
          "num_genomes": 3,
          "species_sn": 12
         },
         {
          "generation_sn": 2,
          "num_genomes": 2,
          "species_sn": 12
         },
         {
          "generation_sn": 4,
          "num_genomes": 3,
          "species_sn": 12
         },
         {
          "generation_sn": 1,
          "num_genomes": 2,
          "species_sn": 12
         },
         {
          "generation_sn": 3,
          "num_genomes": 3,
          "species_sn": 12
         }
        ],
        "data-8bb494c1459309dae48282c8535028d0": [
         {
          "generation_sn": 1,
          "num_genomes": 1,
          "species_sn": 77
         },
         {
          "generation_sn": 3,
          "num_genomes": 3,
          "species_sn": 77
         },
         {
          "generation_sn": 5,
          "num_genomes": 3,
          "species_sn": 77
         },
         {
          "generation_sn": 4,
          "num_genomes": 3,
          "species_sn": 77
         },
         {
          "generation_sn": 2,
          "num_genomes": 2,
          "species_sn": 77
         }
        ],
        "data-907d2bc921b6d871eaff3c52806e7ca9": [
         {
          "generation_sn": 4,
          "num_genomes": 3,
          "species_sn": 59
         },
         {
          "generation_sn": 3,
          "num_genomes": 3,
          "species_sn": 59
         },
         {
          "generation_sn": 5,
          "num_genomes": 3,
          "species_sn": 59
         },
         {
          "generation_sn": 2,
          "num_genomes": 2,
          "species_sn": 59
         },
         {
          "generation_sn": 1,
          "num_genomes": 3,
          "species_sn": 59
         }
        ],
        "data-907da52991376250efdfb4f393e78f7e": [
         {
          "generation_sn": 4,
          "num_genomes": 3,
          "species_sn": 2
         },
         {
          "generation_sn": 3,
          "num_genomes": 3,
          "species_sn": 2
         },
         {
          "generation_sn": 1,
          "num_genomes": 3,
          "species_sn": 2
         },
         {
          "generation_sn": 2,
          "num_genomes": 2,
          "species_sn": 2
         },
         {
          "generation_sn": 5,
          "num_genomes": 3,
          "species_sn": 2
         }
        ],
        "data-927870fd2d325f0894c68bb1d70ab25b": [
         {
          "generation_sn": 2,
          "num_genomes": 2,
          "species_sn": 66
         },
         {
          "generation_sn": 3,
          "num_genomes": 3,
          "species_sn": 66
         },
         {
          "generation_sn": 5,
          "num_genomes": 3,
          "species_sn": 66
         },
         {
          "generation_sn": 1,
          "num_genomes": 3,
          "species_sn": 66
         },
         {
          "generation_sn": 4,
          "num_genomes": 3,
          "species_sn": 66
         }
        ],
        "data-929f427409da5d1cdef275431b6f57da": [
         {
          "generation_sn": 2,
          "num_genomes": 2,
          "species_sn": 37
         },
         {
          "generation_sn": 3,
          "num_genomes": 3,
          "species_sn": 37
         },
         {
          "generation_sn": 5,
          "num_genomes": 3,
          "species_sn": 37
         },
         {
          "generation_sn": 1,
          "num_genomes": 3,
          "species_sn": 37
         },
         {
          "generation_sn": 4,
          "num_genomes": 3,
          "species_sn": 37
         }
        ],
        "data-93c9d963d277aaf92a8e0135a89eee7d": [
         {
          "generation_sn": 3,
          "num_genomes": 3,
          "species_sn": 10
         },
         {
          "generation_sn": 1,
          "num_genomes": 1,
          "species_sn": 10
         },
         {
          "generation_sn": 4,
          "num_genomes": 3,
          "species_sn": 10
         },
         {
          "generation_sn": 5,
          "num_genomes": 3,
          "species_sn": 10
         },
         {
          "generation_sn": 2,
          "num_genomes": 2,
          "species_sn": 10
         }
        ],
        "data-a7cf1ca91c4414d1e10b72d52f557204": [
         {
          "generation_sn": 3,
          "num_genomes": 3,
          "species_sn": 62
         },
         {
          "generation_sn": 4,
          "num_genomes": 3,
          "species_sn": 62
         },
         {
          "generation_sn": 5,
          "num_genomes": 3,
          "species_sn": 62
         },
         {
          "generation_sn": 1,
          "num_genomes": 1,
          "species_sn": 62
         },
         {
          "generation_sn": 2,
          "num_genomes": 2,
          "species_sn": 62
         }
        ],
        "data-acbae11baec61fc58949d4f0f490fe52": [
         {
          "generation_sn": 2,
          "num_genomes": 2,
          "species_sn": 20
         },
         {
          "generation_sn": 1,
          "num_genomes": 1,
          "species_sn": 20
         },
         {
          "generation_sn": 4,
          "num_genomes": 3,
          "species_sn": 20
         },
         {
          "generation_sn": 5,
          "num_genomes": 3,
          "species_sn": 20
         },
         {
          "generation_sn": 3,
          "num_genomes": 3,
          "species_sn": 20
         }
        ],
        "data-ad3340cb130c87550f7db7accf0004e8": [
         {
          "generation_sn": 1,
          "num_genomes": 1,
          "species_sn": 41
         },
         {
          "generation_sn": 5,
          "num_genomes": 3,
          "species_sn": 41
         },
         {
          "generation_sn": 4,
          "num_genomes": 3,
          "species_sn": 41
         },
         {
          "generation_sn": 3,
          "num_genomes": 3,
          "species_sn": 41
         },
         {
          "generation_sn": 2,
          "num_genomes": 3,
          "species_sn": 41
         }
        ],
        "data-aec8737aa250bca9d87418952044886b": [
         {
          "generation_sn": 2,
          "num_genomes": 2,
          "species_sn": 55
         },
         {
          "generation_sn": 1,
          "num_genomes": 1,
          "species_sn": 55
         },
         {
          "generation_sn": 3,
          "num_genomes": 3,
          "species_sn": 55
         },
         {
          "generation_sn": 5,
          "num_genomes": 3,
          "species_sn": 55
         },
         {
          "generation_sn": 4,
          "num_genomes": 3,
          "species_sn": 55
         }
        ],
        "data-b2a90e9019759f684117eaaa8173fb06": [
         {
          "generation_sn": 5,
          "num_genomes": 2,
          "species_sn": 65
         },
         {
          "generation_sn": 3,
          "num_genomes": 3,
          "species_sn": 65
         },
         {
          "generation_sn": 4,
          "num_genomes": 3,
          "species_sn": 65
         },
         {
          "generation_sn": 2,
          "num_genomes": 2,
          "species_sn": 65
         },
         {
          "generation_sn": 1,
          "num_genomes": 1,
          "species_sn": 65
         }
        ],
        "data-b856e9f15385036e9f42e228dab79050": [
         {
          "generation_sn": 3,
          "num_genomes": 3,
          "species_sn": 7
         },
         {
          "generation_sn": 1,
          "num_genomes": 2,
          "species_sn": 7
         },
         {
          "generation_sn": 2,
          "num_genomes": 2,
          "species_sn": 7
         },
         {
          "generation_sn": 4,
          "num_genomes": 3,
          "species_sn": 7
         },
         {
          "generation_sn": 5,
          "num_genomes": 3,
          "species_sn": 7
         }
        ],
        "data-bc850ea3d9f6c44d11cfd5a79afd015d": [
         {
          "generation_sn": 2,
          "num_genomes": 2,
          "species_sn": 67
         },
         {
          "generation_sn": 1,
          "num_genomes": 1,
          "species_sn": 67
         },
         {
          "generation_sn": 5,
          "num_genomes": 3,
          "species_sn": 67
         },
         {
          "generation_sn": 3,
          "num_genomes": 2,
          "species_sn": 67
         },
         {
          "generation_sn": 4,
          "num_genomes": 3,
          "species_sn": 67
         }
        ],
        "data-c11961d09fccb13138d9dfec0bf01d12": [
         {
          "generation_sn": 3,
          "num_genomes": 3,
          "species_sn": 0
         },
         {
          "generation_sn": 1,
          "num_genomes": 4,
          "species_sn": 0
         },
         {
          "generation_sn": 5,
          "num_genomes": 3,
          "species_sn": 0
         },
         {
          "generation_sn": 2,
          "num_genomes": 2,
          "species_sn": 0
         },
         {
          "generation_sn": 4,
          "num_genomes": 3,
          "species_sn": 0
         },
         {
          "generation_sn": 0,
          "num_genomes": 150,
          "species_sn": 0
         }
        ],
        "data-c5886e991102cf88e34f362d35773527": [
         {
          "generation_sn": 2,
          "num_genomes": 2,
          "species_sn": 68
         },
         {
          "generation_sn": 4,
          "num_genomes": 3,
          "species_sn": 68
         },
         {
          "generation_sn": 3,
          "num_genomes": 3,
          "species_sn": 68
         },
         {
          "generation_sn": 1,
          "num_genomes": 2,
          "species_sn": 68
         },
         {
          "generation_sn": 5,
          "num_genomes": 3,
          "species_sn": 68
         }
        ],
        "data-c7ff5f82a9fa7c49260cdfdee92f5bc7": [
         {
          "generation_sn": 2,
          "num_genomes": 2,
          "species_sn": 31
         },
         {
          "generation_sn": 5,
          "num_genomes": 3,
          "species_sn": 31
         },
         {
          "generation_sn": 3,
          "num_genomes": 3,
          "species_sn": 31
         },
         {
          "generation_sn": 1,
          "num_genomes": 2,
          "species_sn": 31
         },
         {
          "generation_sn": 4,
          "num_genomes": 3,
          "species_sn": 31
         }
        ],
        "data-c8a9ea1f942d2ee2d9334e5f4ce677ed": [
         {
          "generation_sn": 3,
          "num_genomes": 2,
          "species_sn": 47
         },
         {
          "generation_sn": 4,
          "num_genomes": 3,
          "species_sn": 47
         },
         {
          "generation_sn": 5,
          "num_genomes": 3,
          "species_sn": 47
         },
         {
          "generation_sn": 2,
          "num_genomes": 3,
          "species_sn": 47
         },
         {
          "generation_sn": 1,
          "num_genomes": 2,
          "species_sn": 47
         }
        ],
        "data-cbf6f44b1df39bad38fbb1f14f769546": [
         {
          "generation_sn": 5,
          "num_genomes": 1,
          "species_sn": 45
         },
         {
          "generation_sn": 2,
          "num_genomes": 2,
          "species_sn": 45
         },
         {
          "generation_sn": 3,
          "num_genomes": 3,
          "species_sn": 45
         },
         {
          "generation_sn": 1,
          "num_genomes": 1,
          "species_sn": 45
         },
         {
          "generation_sn": 4,
          "num_genomes": 3,
          "species_sn": 45
         }
        ],
        "data-d0e231eaa6f2237cdfe5cba0345f463f": [
         {
          "generation_sn": 3,
          "num_genomes": 3,
          "species_sn": 33
         },
         {
          "generation_sn": 4,
          "num_genomes": 3,
          "species_sn": 33
         },
         {
          "generation_sn": 5,
          "num_genomes": 3,
          "species_sn": 33
         },
         {
          "generation_sn": 2,
          "num_genomes": 2,
          "species_sn": 33
         },
         {
          "generation_sn": 1,
          "num_genomes": 3,
          "species_sn": 33
         }
        ],
        "data-d246c3b90431d3ce08e5f9e856e99d98": [
         {
          "generation_sn": 5,
          "num_genomes": 1,
          "species_sn": 98
         }
        ],
        "data-d2e509ffd96c8d87d3f152c65e83e7b7": [
         {
          "generation_sn": 5,
          "num_genomes": 3,
          "species_sn": 27
         },
         {
          "generation_sn": 1,
          "num_genomes": 5,
          "species_sn": 27
         },
         {
          "generation_sn": 2,
          "num_genomes": 2,
          "species_sn": 27
         },
         {
          "generation_sn": 4,
          "num_genomes": 3,
          "species_sn": 27
         },
         {
          "generation_sn": 3,
          "num_genomes": 3,
          "species_sn": 27
         }
        ],
        "data-d34556a1a48ed2cc3f3ecc310d0cb0ec": [
         {
          "generation_sn": 4,
          "num_genomes": 3,
          "species_sn": 86
         },
         {
          "generation_sn": 3,
          "num_genomes": 1,
          "species_sn": 86
         },
         {
          "generation_sn": 5,
          "num_genomes": 2,
          "species_sn": 86
         }
        ],
        "data-d4cf5082ffa310812053c610815425ec": [
         {
          "generation_sn": 1,
          "num_genomes": 1,
          "species_sn": 57
         },
         {
          "generation_sn": 3,
          "num_genomes": 3,
          "species_sn": 57
         },
         {
          "generation_sn": 2,
          "num_genomes": 2,
          "species_sn": 57
         },
         {
          "generation_sn": 4,
          "num_genomes": 2,
          "species_sn": 57
         },
         {
          "generation_sn": 5,
          "num_genomes": 6,
          "species_sn": 57
         }
        ],
        "data-d9c5b342c5157d28f40ac0b626fbced6": [
         {
          "generation_sn": 4,
          "num_genomes": 1,
          "species_sn": 88
         }
        ],
        "data-debd365ccb4313360d4a1c45817b32a1": [
         {
          "generation_sn": 1,
          "num_genomes": 1,
          "species_sn": 14
         },
         {
          "generation_sn": 5,
          "num_genomes": 3,
          "species_sn": 14
         },
         {
          "generation_sn": 3,
          "num_genomes": 3,
          "species_sn": 14
         },
         {
          "generation_sn": 4,
          "num_genomes": 3,
          "species_sn": 14
         },
         {
          "generation_sn": 2,
          "num_genomes": 2,
          "species_sn": 14
         }
        ],
        "data-df590f2b236a294b4217b6dd31c000cf": [
         {
          "generation_sn": 4,
          "num_genomes": 3,
          "species_sn": 49
         },
         {
          "generation_sn": 3,
          "num_genomes": 3,
          "species_sn": 49
         },
         {
          "generation_sn": 2,
          "num_genomes": 2,
          "species_sn": 49
         },
         {
          "generation_sn": 5,
          "num_genomes": 3,
          "species_sn": 49
         },
         {
          "generation_sn": 1,
          "num_genomes": 1,
          "species_sn": 49
         }
        ],
        "data-e332ae52e1f31e6930b1a793f8ffaecf": [
         {
          "generation_sn": 5,
          "num_genomes": 3,
          "species_sn": 85
         },
         {
          "generation_sn": 4,
          "num_genomes": 3,
          "species_sn": 85
         },
         {
          "generation_sn": 3,
          "num_genomes": 3,
          "species_sn": 85
         },
         {
          "generation_sn": 2,
          "num_genomes": 2,
          "species_sn": 85
         },
         {
          "generation_sn": 1,
          "num_genomes": 1,
          "species_sn": 85
         }
        ],
        "data-e4d454b6a48d63121860a4d4522c3dd4": [
         {
          "generation_sn": 4,
          "num_genomes": 3,
          "species_sn": 44
         },
         {
          "generation_sn": 1,
          "num_genomes": 3,
          "species_sn": 44
         },
         {
          "generation_sn": 5,
          "num_genomes": 2,
          "species_sn": 44
         },
         {
          "generation_sn": 3,
          "num_genomes": 3,
          "species_sn": 44
         },
         {
          "generation_sn": 2,
          "num_genomes": 2,
          "species_sn": 44
         }
        ],
        "data-e6caef3acd12f21f3100f30f660d3f19": [
         {
          "generation_sn": 5,
          "num_genomes": 2,
          "species_sn": 25
         },
         {
          "generation_sn": 1,
          "num_genomes": 3,
          "species_sn": 25
         },
         {
          "generation_sn": 2,
          "num_genomes": 2,
          "species_sn": 25
         },
         {
          "generation_sn": 3,
          "num_genomes": 3,
          "species_sn": 25
         },
         {
          "generation_sn": 4,
          "num_genomes": 3,
          "species_sn": 25
         }
        ],
        "data-ebd5930d22740726b82c2250e5aae1dc": [
         {
          "generation_sn": 2,
          "num_genomes": 2,
          "species_sn": 30
         },
         {
          "generation_sn": 1,
          "num_genomes": 2,
          "species_sn": 30
         },
         {
          "generation_sn": 5,
          "num_genomes": 6,
          "species_sn": 30
         },
         {
          "generation_sn": 3,
          "num_genomes": 3,
          "species_sn": 30
         },
         {
          "generation_sn": 4,
          "num_genomes": 2,
          "species_sn": 30
         }
        ],
        "data-ecba719fa66672214bafae3d554bc430": [
         {
          "generation_sn": 1,
          "num_genomes": 1,
          "species_sn": 71
         },
         {
          "generation_sn": 4,
          "num_genomes": 3,
          "species_sn": 71
         },
         {
          "generation_sn": 3,
          "num_genomes": 3,
          "species_sn": 71
         },
         {
          "generation_sn": 5,
          "num_genomes": 3,
          "species_sn": 71
         },
         {
          "generation_sn": 2,
          "num_genomes": 2,
          "species_sn": 71
         }
        ],
        "data-ecd0819e19258908925243f19cd4c593": [
         {
          "generation_sn": 1,
          "num_genomes": 1,
          "species_sn": 74
         },
         {
          "generation_sn": 3,
          "num_genomes": 3,
          "species_sn": 74
         },
         {
          "generation_sn": 5,
          "num_genomes": 3,
          "species_sn": 74
         },
         {
          "generation_sn": 2,
          "num_genomes": 2,
          "species_sn": 74
         },
         {
          "generation_sn": 4,
          "num_genomes": 3,
          "species_sn": 74
         }
        ],
        "data-edfe18c9a07c15c447c0767f8900d7a1": [
         {
          "generation_sn": 5,
          "num_genomes": 2,
          "species_sn": 95
         }
        ],
        "data-f90efcf01c90fb720126a6d8693db5ca": [
         {
          "generation_sn": 1,
          "num_genomes": 2,
          "species_sn": 52
         },
         {
          "generation_sn": 3,
          "num_genomes": 3,
          "species_sn": 52
         },
         {
          "generation_sn": 2,
          "num_genomes": 2,
          "species_sn": 52
         },
         {
          "generation_sn": 4,
          "num_genomes": 2,
          "species_sn": 52
         },
         {
          "generation_sn": 5,
          "num_genomes": 3,
          "species_sn": 52
         }
        ],
        "data-f99db2de42bab2628781bc4a32a48b05": [
         {
          "generation_sn": 4,
          "num_genomes": 3,
          "species_sn": 42
         },
         {
          "generation_sn": 3,
          "num_genomes": 3,
          "species_sn": 42
         },
         {
          "generation_sn": 5,
          "num_genomes": 3,
          "species_sn": 42
         },
         {
          "generation_sn": 2,
          "num_genomes": 2,
          "species_sn": 42
         },
         {
          "generation_sn": 1,
          "num_genomes": 4,
          "species_sn": 42
         }
        ],
        "data-fc488b4ef5eb58dd1c354247d9f2fb7d": [
         {
          "generation_sn": 3,
          "num_genomes": 3,
          "species_sn": 17
         },
         {
          "generation_sn": 4,
          "num_genomes": 3,
          "species_sn": 17
         },
         {
          "generation_sn": 2,
          "num_genomes": 2,
          "species_sn": 17
         },
         {
          "generation_sn": 1,
          "num_genomes": 3,
          "species_sn": 17
         },
         {
          "generation_sn": 5,
          "num_genomes": 3,
          "species_sn": 17
         }
        ],
        "data-ff7d037ca98f6eee52e6532d4b4188fa": [
         {
          "generation_sn": 4,
          "num_genomes": 1,
          "species_sn": 87
         }
        ]
       },
       "layer": [
        {
         "data": {
          "name": "data-c11961d09fccb13138d9dfec0bf01d12"
         },
         "encoding": {
          "color": {
           "field": "species_sn",
           "legend": null,
           "type": "nominal"
          },
          "opacity": {
           "condition": {
            "selection": "selector101",
            "value": 1
           },
           "value": 0
          },
          "tooltip": {
           "field": "species_sn",
           "type": "quantitative"
          },
          "x": {
           "field": "generation_sn",
           "type": "nominal"
          },
          "y": {
           "field": "num_genomes",
           "type": "quantitative"
          }
         },
         "mark": "line",
         "selection": {
          "selector101": {
           "empty": "all",
           "fields": [
            "_vgsid_"
           ],
           "nearest": true,
           "on": "mouseover",
           "resolve": "global",
           "type": "single"
          },
          "selector200": {
           "bind": "scales",
           "encodings": [
            "x",
            "y"
           ],
           "mark": {
            "fill": "#333",
            "fillOpacity": 0.125,
            "stroke": "white"
           },
           "on": "[mousedown, window:mouseup] > window:mousemove!",
           "resolve": "global",
           "translate": "[mousedown, window:mouseup] > window:mousemove!",
           "type": "interval",
           "zoom": "wheel!"
          }
         },
         "title": "population of species over generation"
        },
        {
         "data": {
          "name": "data-877ecfbf12079e4d646405ccb3c049be"
         },
         "encoding": {
          "color": {
           "field": "species_sn",
           "legend": null,
           "type": "nominal"
          },
          "opacity": {
           "condition": {
            "selection": "selector102",
            "value": 1
           },
           "value": 0
          },
          "tooltip": {
           "field": "species_sn",
           "type": "quantitative"
          },
          "x": {
           "field": "generation_sn",
           "type": "nominal"
          },
          "y": {
           "field": "num_genomes",
           "type": "quantitative"
          }
         },
         "mark": "line",
         "selection": {
          "selector102": {
           "empty": "all",
           "fields": [
            "_vgsid_"
           ],
           "nearest": true,
           "on": "mouseover",
           "resolve": "global",
           "type": "single"
          }
         },
         "title": "population of species over generation"
        },
        {
         "data": {
          "name": "data-907da52991376250efdfb4f393e78f7e"
         },
         "encoding": {
          "color": {
           "field": "species_sn",
           "legend": null,
           "type": "nominal"
          },
          "opacity": {
           "condition": {
            "selection": "selector103",
            "value": 1
           },
           "value": 0
          },
          "tooltip": {
           "field": "species_sn",
           "type": "quantitative"
          },
          "x": {
           "field": "generation_sn",
           "type": "nominal"
          },
          "y": {
           "field": "num_genomes",
           "type": "quantitative"
          }
         },
         "mark": "line",
         "selection": {
          "selector103": {
           "empty": "all",
           "fields": [
            "_vgsid_"
           ],
           "nearest": true,
           "on": "mouseover",
           "resolve": "global",
           "type": "single"
          }
         },
         "title": "population of species over generation"
        },
        {
         "data": {
          "name": "data-648e2a5eef313f44bc7fcd03061ce704"
         },
         "encoding": {
          "color": {
           "field": "species_sn",
           "legend": null,
           "type": "nominal"
          },
          "opacity": {
           "condition": {
            "selection": "selector104",
            "value": 1
           },
           "value": 0
          },
          "tooltip": {
           "field": "species_sn",
           "type": "quantitative"
          },
          "x": {
           "field": "generation_sn",
           "type": "nominal"
          },
          "y": {
           "field": "num_genomes",
           "type": "quantitative"
          }
         },
         "mark": "line",
         "selection": {
          "selector104": {
           "empty": "all",
           "fields": [
            "_vgsid_"
           ],
           "nearest": true,
           "on": "mouseover",
           "resolve": "global",
           "type": "single"
          }
         },
         "title": "population of species over generation"
        },
        {
         "data": {
          "name": "data-31a44dd918a3fa8f14e8dcc71160606c"
         },
         "encoding": {
          "color": {
           "field": "species_sn",
           "legend": null,
           "type": "nominal"
          },
          "opacity": {
           "condition": {
            "selection": "selector105",
            "value": 1
           },
           "value": 0
          },
          "tooltip": {
           "field": "species_sn",
           "type": "quantitative"
          },
          "x": {
           "field": "generation_sn",
           "type": "nominal"
          },
          "y": {
           "field": "num_genomes",
           "type": "quantitative"
          }
         },
         "mark": "line",
         "selection": {
          "selector105": {
           "empty": "all",
           "fields": [
            "_vgsid_"
           ],
           "nearest": true,
           "on": "mouseover",
           "resolve": "global",
           "type": "single"
          }
         },
         "title": "population of species over generation"
        },
        {
         "data": {
          "name": "data-278afd9d7bb99de5f0aef18cb16759bb"
         },
         "encoding": {
          "color": {
           "field": "species_sn",
           "legend": null,
           "type": "nominal"
          },
          "opacity": {
           "condition": {
            "selection": "selector106",
            "value": 1
           },
           "value": 0
          },
          "tooltip": {
           "field": "species_sn",
           "type": "quantitative"
          },
          "x": {
           "field": "generation_sn",
           "type": "nominal"
          },
          "y": {
           "field": "num_genomes",
           "type": "quantitative"
          }
         },
         "mark": "line",
         "selection": {
          "selector106": {
           "empty": "all",
           "fields": [
            "_vgsid_"
           ],
           "nearest": true,
           "on": "mouseover",
           "resolve": "global",
           "type": "single"
          }
         },
         "title": "population of species over generation"
        },
        {
         "data": {
          "name": "data-78fb82ed6532179018e69f28b815a932"
         },
         "encoding": {
          "color": {
           "field": "species_sn",
           "legend": null,
           "type": "nominal"
          },
          "opacity": {
           "condition": {
            "selection": "selector107",
            "value": 1
           },
           "value": 0
          },
          "tooltip": {
           "field": "species_sn",
           "type": "quantitative"
          },
          "x": {
           "field": "generation_sn",
           "type": "nominal"
          },
          "y": {
           "field": "num_genomes",
           "type": "quantitative"
          }
         },
         "mark": "line",
         "selection": {
          "selector107": {
           "empty": "all",
           "fields": [
            "_vgsid_"
           ],
           "nearest": true,
           "on": "mouseover",
           "resolve": "global",
           "type": "single"
          }
         },
         "title": "population of species over generation"
        },
        {
         "data": {
          "name": "data-b856e9f15385036e9f42e228dab79050"
         },
         "encoding": {
          "color": {
           "field": "species_sn",
           "legend": null,
           "type": "nominal"
          },
          "opacity": {
           "condition": {
            "selection": "selector108",
            "value": 1
           },
           "value": 0
          },
          "tooltip": {
           "field": "species_sn",
           "type": "quantitative"
          },
          "x": {
           "field": "generation_sn",
           "type": "nominal"
          },
          "y": {
           "field": "num_genomes",
           "type": "quantitative"
          }
         },
         "mark": "line",
         "selection": {
          "selector108": {
           "empty": "all",
           "fields": [
            "_vgsid_"
           ],
           "nearest": true,
           "on": "mouseover",
           "resolve": "global",
           "type": "single"
          }
         },
         "title": "population of species over generation"
        },
        {
         "data": {
          "name": "data-549b3a64bf0e022d56bbd53884d140eb"
         },
         "encoding": {
          "color": {
           "field": "species_sn",
           "legend": null,
           "type": "nominal"
          },
          "opacity": {
           "condition": {
            "selection": "selector109",
            "value": 1
           },
           "value": 0
          },
          "tooltip": {
           "field": "species_sn",
           "type": "quantitative"
          },
          "x": {
           "field": "generation_sn",
           "type": "nominal"
          },
          "y": {
           "field": "num_genomes",
           "type": "quantitative"
          }
         },
         "mark": "line",
         "selection": {
          "selector109": {
           "empty": "all",
           "fields": [
            "_vgsid_"
           ],
           "nearest": true,
           "on": "mouseover",
           "resolve": "global",
           "type": "single"
          }
         },
         "title": "population of species over generation"
        },
        {
         "data": {
          "name": "data-371179eea69a13ce8bc7fa8eac9fc7d4"
         },
         "encoding": {
          "color": {
           "field": "species_sn",
           "legend": null,
           "type": "nominal"
          },
          "opacity": {
           "condition": {
            "selection": "selector110",
            "value": 1
           },
           "value": 0
          },
          "tooltip": {
           "field": "species_sn",
           "type": "quantitative"
          },
          "x": {
           "field": "generation_sn",
           "type": "nominal"
          },
          "y": {
           "field": "num_genomes",
           "type": "quantitative"
          }
         },
         "mark": "line",
         "selection": {
          "selector110": {
           "empty": "all",
           "fields": [
            "_vgsid_"
           ],
           "nearest": true,
           "on": "mouseover",
           "resolve": "global",
           "type": "single"
          }
         },
         "title": "population of species over generation"
        },
        {
         "data": {
          "name": "data-93c9d963d277aaf92a8e0135a89eee7d"
         },
         "encoding": {
          "color": {
           "field": "species_sn",
           "legend": null,
           "type": "nominal"
          },
          "opacity": {
           "condition": {
            "selection": "selector111",
            "value": 1
           },
           "value": 0
          },
          "tooltip": {
           "field": "species_sn",
           "type": "quantitative"
          },
          "x": {
           "field": "generation_sn",
           "type": "nominal"
          },
          "y": {
           "field": "num_genomes",
           "type": "quantitative"
          }
         },
         "mark": "line",
         "selection": {
          "selector111": {
           "empty": "all",
           "fields": [
            "_vgsid_"
           ],
           "nearest": true,
           "on": "mouseover",
           "resolve": "global",
           "type": "single"
          }
         },
         "title": "population of species over generation"
        },
        {
         "data": {
          "name": "data-7dbaf2864da7becf8fe8767142922359"
         },
         "encoding": {
          "color": {
           "field": "species_sn",
           "legend": null,
           "type": "nominal"
          },
          "opacity": {
           "condition": {
            "selection": "selector112",
            "value": 1
           },
           "value": 0
          },
          "tooltip": {
           "field": "species_sn",
           "type": "quantitative"
          },
          "x": {
           "field": "generation_sn",
           "type": "nominal"
          },
          "y": {
           "field": "num_genomes",
           "type": "quantitative"
          }
         },
         "mark": "line",
         "selection": {
          "selector112": {
           "empty": "all",
           "fields": [
            "_vgsid_"
           ],
           "nearest": true,
           "on": "mouseover",
           "resolve": "global",
           "type": "single"
          }
         },
         "title": "population of species over generation"
        },
        {
         "data": {
          "name": "data-8b79b77c1f284982d2b4f5cb14e85f03"
         },
         "encoding": {
          "color": {
           "field": "species_sn",
           "legend": null,
           "type": "nominal"
          },
          "opacity": {
           "condition": {
            "selection": "selector113",
            "value": 1
           },
           "value": 0
          },
          "tooltip": {
           "field": "species_sn",
           "type": "quantitative"
          },
          "x": {
           "field": "generation_sn",
           "type": "nominal"
          },
          "y": {
           "field": "num_genomes",
           "type": "quantitative"
          }
         },
         "mark": "line",
         "selection": {
          "selector113": {
           "empty": "all",
           "fields": [
            "_vgsid_"
           ],
           "nearest": true,
           "on": "mouseover",
           "resolve": "global",
           "type": "single"
          }
         },
         "title": "population of species over generation"
        },
        {
         "data": {
          "name": "data-0c804d5b1c847bce32c7f238ac694a7f"
         },
         "encoding": {
          "color": {
           "field": "species_sn",
           "legend": null,
           "type": "nominal"
          },
          "opacity": {
           "condition": {
            "selection": "selector114",
            "value": 1
           },
           "value": 0
          },
          "tooltip": {
           "field": "species_sn",
           "type": "quantitative"
          },
          "x": {
           "field": "generation_sn",
           "type": "nominal"
          },
          "y": {
           "field": "num_genomes",
           "type": "quantitative"
          }
         },
         "mark": "line",
         "selection": {
          "selector114": {
           "empty": "all",
           "fields": [
            "_vgsid_"
           ],
           "nearest": true,
           "on": "mouseover",
           "resolve": "global",
           "type": "single"
          }
         },
         "title": "population of species over generation"
        },
        {
         "data": {
          "name": "data-debd365ccb4313360d4a1c45817b32a1"
         },
         "encoding": {
          "color": {
           "field": "species_sn",
           "legend": null,
           "type": "nominal"
          },
          "opacity": {
           "condition": {
            "selection": "selector115",
            "value": 1
           },
           "value": 0
          },
          "tooltip": {
           "field": "species_sn",
           "type": "quantitative"
          },
          "x": {
           "field": "generation_sn",
           "type": "nominal"
          },
          "y": {
           "field": "num_genomes",
           "type": "quantitative"
          }
         },
         "mark": "line",
         "selection": {
          "selector115": {
           "empty": "all",
           "fields": [
            "_vgsid_"
           ],
           "nearest": true,
           "on": "mouseover",
           "resolve": "global",
           "type": "single"
          }
         },
         "title": "population of species over generation"
        },
        {
         "data": {
          "name": "data-7daa8dd94728e603b6c91c46ab327a1c"
         },
         "encoding": {
          "color": {
           "field": "species_sn",
           "legend": null,
           "type": "nominal"
          },
          "opacity": {
           "condition": {
            "selection": "selector116",
            "value": 1
           },
           "value": 0
          },
          "tooltip": {
           "field": "species_sn",
           "type": "quantitative"
          },
          "x": {
           "field": "generation_sn",
           "type": "nominal"
          },
          "y": {
           "field": "num_genomes",
           "type": "quantitative"
          }
         },
         "mark": "line",
         "selection": {
          "selector116": {
           "empty": "all",
           "fields": [
            "_vgsid_"
           ],
           "nearest": true,
           "on": "mouseover",
           "resolve": "global",
           "type": "single"
          }
         },
         "title": "population of species over generation"
        },
        {
         "data": {
          "name": "data-377f3d466c3f057153cfb69a54aa9f18"
         },
         "encoding": {
          "color": {
           "field": "species_sn",
           "legend": null,
           "type": "nominal"
          },
          "opacity": {
           "condition": {
            "selection": "selector117",
            "value": 1
           },
           "value": 0
          },
          "tooltip": {
           "field": "species_sn",
           "type": "quantitative"
          },
          "x": {
           "field": "generation_sn",
           "type": "nominal"
          },
          "y": {
           "field": "num_genomes",
           "type": "quantitative"
          }
         },
         "mark": "line",
         "selection": {
          "selector117": {
           "empty": "all",
           "fields": [
            "_vgsid_"
           ],
           "nearest": true,
           "on": "mouseover",
           "resolve": "global",
           "type": "single"
          }
         },
         "title": "population of species over generation"
        },
        {
         "data": {
          "name": "data-fc488b4ef5eb58dd1c354247d9f2fb7d"
         },
         "encoding": {
          "color": {
           "field": "species_sn",
           "legend": null,
           "type": "nominal"
          },
          "opacity": {
           "condition": {
            "selection": "selector118",
            "value": 1
           },
           "value": 0
          },
          "tooltip": {
           "field": "species_sn",
           "type": "quantitative"
          },
          "x": {
           "field": "generation_sn",
           "type": "nominal"
          },
          "y": {
           "field": "num_genomes",
           "type": "quantitative"
          }
         },
         "mark": "line",
         "selection": {
          "selector118": {
           "empty": "all",
           "fields": [
            "_vgsid_"
           ],
           "nearest": true,
           "on": "mouseover",
           "resolve": "global",
           "type": "single"
          }
         },
         "title": "population of species over generation"
        },
        {
         "data": {
          "name": "data-67f77d6c73c2a26fa6401b788a3b27b6"
         },
         "encoding": {
          "color": {
           "field": "species_sn",
           "legend": null,
           "type": "nominal"
          },
          "opacity": {
           "condition": {
            "selection": "selector119",
            "value": 1
           },
           "value": 0
          },
          "tooltip": {
           "field": "species_sn",
           "type": "quantitative"
          },
          "x": {
           "field": "generation_sn",
           "type": "nominal"
          },
          "y": {
           "field": "num_genomes",
           "type": "quantitative"
          }
         },
         "mark": "line",
         "selection": {
          "selector119": {
           "empty": "all",
           "fields": [
            "_vgsid_"
           ],
           "nearest": true,
           "on": "mouseover",
           "resolve": "global",
           "type": "single"
          }
         },
         "title": "population of species over generation"
        },
        {
         "data": {
          "name": "data-2f8de0ba1a85e088d200381349dafcd6"
         },
         "encoding": {
          "color": {
           "field": "species_sn",
           "legend": null,
           "type": "nominal"
          },
          "opacity": {
           "condition": {
            "selection": "selector120",
            "value": 1
           },
           "value": 0
          },
          "tooltip": {
           "field": "species_sn",
           "type": "quantitative"
          },
          "x": {
           "field": "generation_sn",
           "type": "nominal"
          },
          "y": {
           "field": "num_genomes",
           "type": "quantitative"
          }
         },
         "mark": "line",
         "selection": {
          "selector120": {
           "empty": "all",
           "fields": [
            "_vgsid_"
           ],
           "nearest": true,
           "on": "mouseover",
           "resolve": "global",
           "type": "single"
          }
         },
         "title": "population of species over generation"
        },
        {
         "data": {
          "name": "data-acbae11baec61fc58949d4f0f490fe52"
         },
         "encoding": {
          "color": {
           "field": "species_sn",
           "legend": null,
           "type": "nominal"
          },
          "opacity": {
           "condition": {
            "selection": "selector121",
            "value": 1
           },
           "value": 0
          },
          "tooltip": {
           "field": "species_sn",
           "type": "quantitative"
          },
          "x": {
           "field": "generation_sn",
           "type": "nominal"
          },
          "y": {
           "field": "num_genomes",
           "type": "quantitative"
          }
         },
         "mark": "line",
         "selection": {
          "selector121": {
           "empty": "all",
           "fields": [
            "_vgsid_"
           ],
           "nearest": true,
           "on": "mouseover",
           "resolve": "global",
           "type": "single"
          }
         },
         "title": "population of species over generation"
        },
        {
         "data": {
          "name": "data-1879f27e65c93b21195ce0d8332eeaa0"
         },
         "encoding": {
          "color": {
           "field": "species_sn",
           "legend": null,
           "type": "nominal"
          },
          "opacity": {
           "condition": {
            "selection": "selector122",
            "value": 1
           },
           "value": 0
          },
          "tooltip": {
           "field": "species_sn",
           "type": "quantitative"
          },
          "x": {
           "field": "generation_sn",
           "type": "nominal"
          },
          "y": {
           "field": "num_genomes",
           "type": "quantitative"
          }
         },
         "mark": "line",
         "selection": {
          "selector122": {
           "empty": "all",
           "fields": [
            "_vgsid_"
           ],
           "nearest": true,
           "on": "mouseover",
           "resolve": "global",
           "type": "single"
          }
         },
         "title": "population of species over generation"
        },
        {
         "data": {
          "name": "data-12b18ad6666a8d25aacc20f45374c219"
         },
         "encoding": {
          "color": {
           "field": "species_sn",
           "legend": null,
           "type": "nominal"
          },
          "opacity": {
           "condition": {
            "selection": "selector123",
            "value": 1
           },
           "value": 0
          },
          "tooltip": {
           "field": "species_sn",
           "type": "quantitative"
          },
          "x": {
           "field": "generation_sn",
           "type": "nominal"
          },
          "y": {
           "field": "num_genomes",
           "type": "quantitative"
          }
         },
         "mark": "line",
         "selection": {
          "selector123": {
           "empty": "all",
           "fields": [
            "_vgsid_"
           ],
           "nearest": true,
           "on": "mouseover",
           "resolve": "global",
           "type": "single"
          }
         },
         "title": "population of species over generation"
        },
        {
         "data": {
          "name": "data-4fd984e3274692807ea23e9859694d76"
         },
         "encoding": {
          "color": {
           "field": "species_sn",
           "legend": null,
           "type": "nominal"
          },
          "opacity": {
           "condition": {
            "selection": "selector124",
            "value": 1
           },
           "value": 0
          },
          "tooltip": {
           "field": "species_sn",
           "type": "quantitative"
          },
          "x": {
           "field": "generation_sn",
           "type": "nominal"
          },
          "y": {
           "field": "num_genomes",
           "type": "quantitative"
          }
         },
         "mark": "line",
         "selection": {
          "selector124": {
           "empty": "all",
           "fields": [
            "_vgsid_"
           ],
           "nearest": true,
           "on": "mouseover",
           "resolve": "global",
           "type": "single"
          }
         },
         "title": "population of species over generation"
        },
        {
         "data": {
          "name": "data-4294862049b404f300e8a2d2e95c1847"
         },
         "encoding": {
          "color": {
           "field": "species_sn",
           "legend": null,
           "type": "nominal"
          },
          "opacity": {
           "condition": {
            "selection": "selector125",
            "value": 1
           },
           "value": 0
          },
          "tooltip": {
           "field": "species_sn",
           "type": "quantitative"
          },
          "x": {
           "field": "generation_sn",
           "type": "nominal"
          },
          "y": {
           "field": "num_genomes",
           "type": "quantitative"
          }
         },
         "mark": "line",
         "selection": {
          "selector125": {
           "empty": "all",
           "fields": [
            "_vgsid_"
           ],
           "nearest": true,
           "on": "mouseover",
           "resolve": "global",
           "type": "single"
          }
         },
         "title": "population of species over generation"
        },
        {
         "data": {
          "name": "data-e6caef3acd12f21f3100f30f660d3f19"
         },
         "encoding": {
          "color": {
           "field": "species_sn",
           "legend": null,
           "type": "nominal"
          },
          "opacity": {
           "condition": {
            "selection": "selector126",
            "value": 1
           },
           "value": 0
          },
          "tooltip": {
           "field": "species_sn",
           "type": "quantitative"
          },
          "x": {
           "field": "generation_sn",
           "type": "nominal"
          },
          "y": {
           "field": "num_genomes",
           "type": "quantitative"
          }
         },
         "mark": "line",
         "selection": {
          "selector126": {
           "empty": "all",
           "fields": [
            "_vgsid_"
           ],
           "nearest": true,
           "on": "mouseover",
           "resolve": "global",
           "type": "single"
          }
         },
         "title": "population of species over generation"
        },
        {
         "data": {
          "name": "data-6b4113d18bfb630febd2a0098cea408a"
         },
         "encoding": {
          "color": {
           "field": "species_sn",
           "legend": null,
           "type": "nominal"
          },
          "opacity": {
           "condition": {
            "selection": "selector127",
            "value": 1
           },
           "value": 0
          },
          "tooltip": {
           "field": "species_sn",
           "type": "quantitative"
          },
          "x": {
           "field": "generation_sn",
           "type": "nominal"
          },
          "y": {
           "field": "num_genomes",
           "type": "quantitative"
          }
         },
         "mark": "line",
         "selection": {
          "selector127": {
           "empty": "all",
           "fields": [
            "_vgsid_"
           ],
           "nearest": true,
           "on": "mouseover",
           "resolve": "global",
           "type": "single"
          }
         },
         "title": "population of species over generation"
        },
        {
         "data": {
          "name": "data-d2e509ffd96c8d87d3f152c65e83e7b7"
         },
         "encoding": {
          "color": {
           "field": "species_sn",
           "legend": null,
           "type": "nominal"
          },
          "opacity": {
           "condition": {
            "selection": "selector128",
            "value": 1
           },
           "value": 0
          },
          "tooltip": {
           "field": "species_sn",
           "type": "quantitative"
          },
          "x": {
           "field": "generation_sn",
           "type": "nominal"
          },
          "y": {
           "field": "num_genomes",
           "type": "quantitative"
          }
         },
         "mark": "line",
         "selection": {
          "selector128": {
           "empty": "all",
           "fields": [
            "_vgsid_"
           ],
           "nearest": true,
           "on": "mouseover",
           "resolve": "global",
           "type": "single"
          }
         },
         "title": "population of species over generation"
        },
        {
         "data": {
          "name": "data-7057b6c78881ee8774182987bf9664be"
         },
         "encoding": {
          "color": {
           "field": "species_sn",
           "legend": null,
           "type": "nominal"
          },
          "opacity": {
           "condition": {
            "selection": "selector129",
            "value": 1
           },
           "value": 0
          },
          "tooltip": {
           "field": "species_sn",
           "type": "quantitative"
          },
          "x": {
           "field": "generation_sn",
           "type": "nominal"
          },
          "y": {
           "field": "num_genomes",
           "type": "quantitative"
          }
         },
         "mark": "line",
         "selection": {
          "selector129": {
           "empty": "all",
           "fields": [
            "_vgsid_"
           ],
           "nearest": true,
           "on": "mouseover",
           "resolve": "global",
           "type": "single"
          }
         },
         "title": "population of species over generation"
        },
        {
         "data": {
          "name": "data-8218fdf34f0f617e53190bd95fed9fb1"
         },
         "encoding": {
          "color": {
           "field": "species_sn",
           "legend": null,
           "type": "nominal"
          },
          "opacity": {
           "condition": {
            "selection": "selector130",
            "value": 1
           },
           "value": 0
          },
          "tooltip": {
           "field": "species_sn",
           "type": "quantitative"
          },
          "x": {
           "field": "generation_sn",
           "type": "nominal"
          },
          "y": {
           "field": "num_genomes",
           "type": "quantitative"
          }
         },
         "mark": "line",
         "selection": {
          "selector130": {
           "empty": "all",
           "fields": [
            "_vgsid_"
           ],
           "nearest": true,
           "on": "mouseover",
           "resolve": "global",
           "type": "single"
          }
         },
         "title": "population of species over generation"
        },
        {
         "data": {
          "name": "data-ebd5930d22740726b82c2250e5aae1dc"
         },
         "encoding": {
          "color": {
           "field": "species_sn",
           "legend": null,
           "type": "nominal"
          },
          "opacity": {
           "condition": {
            "selection": "selector131",
            "value": 1
           },
           "value": 0
          },
          "tooltip": {
           "field": "species_sn",
           "type": "quantitative"
          },
          "x": {
           "field": "generation_sn",
           "type": "nominal"
          },
          "y": {
           "field": "num_genomes",
           "type": "quantitative"
          }
         },
         "mark": "line",
         "selection": {
          "selector131": {
           "empty": "all",
           "fields": [
            "_vgsid_"
           ],
           "nearest": true,
           "on": "mouseover",
           "resolve": "global",
           "type": "single"
          }
         },
         "title": "population of species over generation"
        },
        {
         "data": {
          "name": "data-c7ff5f82a9fa7c49260cdfdee92f5bc7"
         },
         "encoding": {
          "color": {
           "field": "species_sn",
           "legend": null,
           "type": "nominal"
          },
          "opacity": {
           "condition": {
            "selection": "selector132",
            "value": 1
           },
           "value": 0
          },
          "tooltip": {
           "field": "species_sn",
           "type": "quantitative"
          },
          "x": {
           "field": "generation_sn",
           "type": "nominal"
          },
          "y": {
           "field": "num_genomes",
           "type": "quantitative"
          }
         },
         "mark": "line",
         "selection": {
          "selector132": {
           "empty": "all",
           "fields": [
            "_vgsid_"
           ],
           "nearest": true,
           "on": "mouseover",
           "resolve": "global",
           "type": "single"
          }
         },
         "title": "population of species over generation"
        },
        {
         "data": {
          "name": "data-2adae1a26c6926a1d72686f29e76de05"
         },
         "encoding": {
          "color": {
           "field": "species_sn",
           "legend": null,
           "type": "nominal"
          },
          "opacity": {
           "condition": {
            "selection": "selector133",
            "value": 1
           },
           "value": 0
          },
          "tooltip": {
           "field": "species_sn",
           "type": "quantitative"
          },
          "x": {
           "field": "generation_sn",
           "type": "nominal"
          },
          "y": {
           "field": "num_genomes",
           "type": "quantitative"
          }
         },
         "mark": "line",
         "selection": {
          "selector133": {
           "empty": "all",
           "fields": [
            "_vgsid_"
           ],
           "nearest": true,
           "on": "mouseover",
           "resolve": "global",
           "type": "single"
          }
         },
         "title": "population of species over generation"
        },
        {
         "data": {
          "name": "data-d0e231eaa6f2237cdfe5cba0345f463f"
         },
         "encoding": {
          "color": {
           "field": "species_sn",
           "legend": null,
           "type": "nominal"
          },
          "opacity": {
           "condition": {
            "selection": "selector134",
            "value": 1
           },
           "value": 0
          },
          "tooltip": {
           "field": "species_sn",
           "type": "quantitative"
          },
          "x": {
           "field": "generation_sn",
           "type": "nominal"
          },
          "y": {
           "field": "num_genomes",
           "type": "quantitative"
          }
         },
         "mark": "line",
         "selection": {
          "selector134": {
           "empty": "all",
           "fields": [
            "_vgsid_"
           ],
           "nearest": true,
           "on": "mouseover",
           "resolve": "global",
           "type": "single"
          }
         },
         "title": "population of species over generation"
        },
        {
         "data": {
          "name": "data-529571b9d8d05150f9fc985c656129a0"
         },
         "encoding": {
          "color": {
           "field": "species_sn",
           "legend": null,
           "type": "nominal"
          },
          "opacity": {
           "condition": {
            "selection": "selector135",
            "value": 1
           },
           "value": 0
          },
          "tooltip": {
           "field": "species_sn",
           "type": "quantitative"
          },
          "x": {
           "field": "generation_sn",
           "type": "nominal"
          },
          "y": {
           "field": "num_genomes",
           "type": "quantitative"
          }
         },
         "mark": "line",
         "selection": {
          "selector135": {
           "empty": "all",
           "fields": [
            "_vgsid_"
           ],
           "nearest": true,
           "on": "mouseover",
           "resolve": "global",
           "type": "single"
          }
         },
         "title": "population of species over generation"
        },
        {
         "data": {
          "name": "data-232824bbe3e5c13f82424e0c6a6d645c"
         },
         "encoding": {
          "color": {
           "field": "species_sn",
           "legend": null,
           "type": "nominal"
          },
          "opacity": {
           "condition": {
            "selection": "selector136",
            "value": 1
           },
           "value": 0
          },
          "tooltip": {
           "field": "species_sn",
           "type": "quantitative"
          },
          "x": {
           "field": "generation_sn",
           "type": "nominal"
          },
          "y": {
           "field": "num_genomes",
           "type": "quantitative"
          }
         },
         "mark": "line",
         "selection": {
          "selector136": {
           "empty": "all",
           "fields": [
            "_vgsid_"
           ],
           "nearest": true,
           "on": "mouseover",
           "resolve": "global",
           "type": "single"
          }
         },
         "title": "population of species over generation"
        },
        {
         "data": {
          "name": "data-5bea82a77f3815ab09aab444cde43e86"
         },
         "encoding": {
          "color": {
           "field": "species_sn",
           "legend": null,
           "type": "nominal"
          },
          "opacity": {
           "condition": {
            "selection": "selector137",
            "value": 1
           },
           "value": 0
          },
          "tooltip": {
           "field": "species_sn",
           "type": "quantitative"
          },
          "x": {
           "field": "generation_sn",
           "type": "nominal"
          },
          "y": {
           "field": "num_genomes",
           "type": "quantitative"
          }
         },
         "mark": "line",
         "selection": {
          "selector137": {
           "empty": "all",
           "fields": [
            "_vgsid_"
           ],
           "nearest": true,
           "on": "mouseover",
           "resolve": "global",
           "type": "single"
          }
         },
         "title": "population of species over generation"
        },
        {
         "data": {
          "name": "data-929f427409da5d1cdef275431b6f57da"
         },
         "encoding": {
          "color": {
           "field": "species_sn",
           "legend": null,
           "type": "nominal"
          },
          "opacity": {
           "condition": {
            "selection": "selector138",
            "value": 1
           },
           "value": 0
          },
          "tooltip": {
           "field": "species_sn",
           "type": "quantitative"
          },
          "x": {
           "field": "generation_sn",
           "type": "nominal"
          },
          "y": {
           "field": "num_genomes",
           "type": "quantitative"
          }
         },
         "mark": "line",
         "selection": {
          "selector138": {
           "empty": "all",
           "fields": [
            "_vgsid_"
           ],
           "nearest": true,
           "on": "mouseover",
           "resolve": "global",
           "type": "single"
          }
         },
         "title": "population of species over generation"
        },
        {
         "data": {
          "name": "data-3094df7cee9fb8ebbb8b52859bee6a65"
         },
         "encoding": {
          "color": {
           "field": "species_sn",
           "legend": null,
           "type": "nominal"
          },
          "opacity": {
           "condition": {
            "selection": "selector139",
            "value": 1
           },
           "value": 0
          },
          "tooltip": {
           "field": "species_sn",
           "type": "quantitative"
          },
          "x": {
           "field": "generation_sn",
           "type": "nominal"
          },
          "y": {
           "field": "num_genomes",
           "type": "quantitative"
          }
         },
         "mark": "line",
         "selection": {
          "selector139": {
           "empty": "all",
           "fields": [
            "_vgsid_"
           ],
           "nearest": true,
           "on": "mouseover",
           "resolve": "global",
           "type": "single"
          }
         },
         "title": "population of species over generation"
        },
        {
         "data": {
          "name": "data-197da42996458507ccfe222bd319c986"
         },
         "encoding": {
          "color": {
           "field": "species_sn",
           "legend": null,
           "type": "nominal"
          },
          "opacity": {
           "condition": {
            "selection": "selector140",
            "value": 1
           },
           "value": 0
          },
          "tooltip": {
           "field": "species_sn",
           "type": "quantitative"
          },
          "x": {
           "field": "generation_sn",
           "type": "nominal"
          },
          "y": {
           "field": "num_genomes",
           "type": "quantitative"
          }
         },
         "mark": "line",
         "selection": {
          "selector140": {
           "empty": "all",
           "fields": [
            "_vgsid_"
           ],
           "nearest": true,
           "on": "mouseover",
           "resolve": "global",
           "type": "single"
          }
         },
         "title": "population of species over generation"
        },
        {
         "data": {
          "name": "data-596be752c530cb71eeb0101f6e8cd34a"
         },
         "encoding": {
          "color": {
           "field": "species_sn",
           "legend": null,
           "type": "nominal"
          },
          "opacity": {
           "condition": {
            "selection": "selector141",
            "value": 1
           },
           "value": 0
          },
          "tooltip": {
           "field": "species_sn",
           "type": "quantitative"
          },
          "x": {
           "field": "generation_sn",
           "type": "nominal"
          },
          "y": {
           "field": "num_genomes",
           "type": "quantitative"
          }
         },
         "mark": "line",
         "selection": {
          "selector141": {
           "empty": "all",
           "fields": [
            "_vgsid_"
           ],
           "nearest": true,
           "on": "mouseover",
           "resolve": "global",
           "type": "single"
          }
         },
         "title": "population of species over generation"
        },
        {
         "data": {
          "name": "data-ad3340cb130c87550f7db7accf0004e8"
         },
         "encoding": {
          "color": {
           "field": "species_sn",
           "legend": null,
           "type": "nominal"
          },
          "opacity": {
           "condition": {
            "selection": "selector142",
            "value": 1
           },
           "value": 0
          },
          "tooltip": {
           "field": "species_sn",
           "type": "quantitative"
          },
          "x": {
           "field": "generation_sn",
           "type": "nominal"
          },
          "y": {
           "field": "num_genomes",
           "type": "quantitative"
          }
         },
         "mark": "line",
         "selection": {
          "selector142": {
           "empty": "all",
           "fields": [
            "_vgsid_"
           ],
           "nearest": true,
           "on": "mouseover",
           "resolve": "global",
           "type": "single"
          }
         },
         "title": "population of species over generation"
        },
        {
         "data": {
          "name": "data-f99db2de42bab2628781bc4a32a48b05"
         },
         "encoding": {
          "color": {
           "field": "species_sn",
           "legend": null,
           "type": "nominal"
          },
          "opacity": {
           "condition": {
            "selection": "selector143",
            "value": 1
           },
           "value": 0
          },
          "tooltip": {
           "field": "species_sn",
           "type": "quantitative"
          },
          "x": {
           "field": "generation_sn",
           "type": "nominal"
          },
          "y": {
           "field": "num_genomes",
           "type": "quantitative"
          }
         },
         "mark": "line",
         "selection": {
          "selector143": {
           "empty": "all",
           "fields": [
            "_vgsid_"
           ],
           "nearest": true,
           "on": "mouseover",
           "resolve": "global",
           "type": "single"
          }
         },
         "title": "population of species over generation"
        },
        {
         "data": {
          "name": "data-1a780118da6eefc2f212acad7e281764"
         },
         "encoding": {
          "color": {
           "field": "species_sn",
           "legend": null,
           "type": "nominal"
          },
          "opacity": {
           "condition": {
            "selection": "selector144",
            "value": 1
           },
           "value": 0
          },
          "tooltip": {
           "field": "species_sn",
           "type": "quantitative"
          },
          "x": {
           "field": "generation_sn",
           "type": "nominal"
          },
          "y": {
           "field": "num_genomes",
           "type": "quantitative"
          }
         },
         "mark": "line",
         "selection": {
          "selector144": {
           "empty": "all",
           "fields": [
            "_vgsid_"
           ],
           "nearest": true,
           "on": "mouseover",
           "resolve": "global",
           "type": "single"
          }
         },
         "title": "population of species over generation"
        },
        {
         "data": {
          "name": "data-e4d454b6a48d63121860a4d4522c3dd4"
         },
         "encoding": {
          "color": {
           "field": "species_sn",
           "legend": null,
           "type": "nominal"
          },
          "opacity": {
           "condition": {
            "selection": "selector145",
            "value": 1
           },
           "value": 0
          },
          "tooltip": {
           "field": "species_sn",
           "type": "quantitative"
          },
          "x": {
           "field": "generation_sn",
           "type": "nominal"
          },
          "y": {
           "field": "num_genomes",
           "type": "quantitative"
          }
         },
         "mark": "line",
         "selection": {
          "selector145": {
           "empty": "all",
           "fields": [
            "_vgsid_"
           ],
           "nearest": true,
           "on": "mouseover",
           "resolve": "global",
           "type": "single"
          }
         },
         "title": "population of species over generation"
        },
        {
         "data": {
          "name": "data-cbf6f44b1df39bad38fbb1f14f769546"
         },
         "encoding": {
          "color": {
           "field": "species_sn",
           "legend": null,
           "type": "nominal"
          },
          "opacity": {
           "condition": {
            "selection": "selector146",
            "value": 1
           },
           "value": 0
          },
          "tooltip": {
           "field": "species_sn",
           "type": "quantitative"
          },
          "x": {
           "field": "generation_sn",
           "type": "nominal"
          },
          "y": {
           "field": "num_genomes",
           "type": "quantitative"
          }
         },
         "mark": "line",
         "selection": {
          "selector146": {
           "empty": "all",
           "fields": [
            "_vgsid_"
           ],
           "nearest": true,
           "on": "mouseover",
           "resolve": "global",
           "type": "single"
          }
         },
         "title": "population of species over generation"
        },
        {
         "data": {
          "name": "data-7c26669ffb5c17bbe0219c2fa29f9f7a"
         },
         "encoding": {
          "color": {
           "field": "species_sn",
           "legend": null,
           "type": "nominal"
          },
          "opacity": {
           "condition": {
            "selection": "selector147",
            "value": 1
           },
           "value": 0
          },
          "tooltip": {
           "field": "species_sn",
           "type": "quantitative"
          },
          "x": {
           "field": "generation_sn",
           "type": "nominal"
          },
          "y": {
           "field": "num_genomes",
           "type": "quantitative"
          }
         },
         "mark": "line",
         "selection": {
          "selector147": {
           "empty": "all",
           "fields": [
            "_vgsid_"
           ],
           "nearest": true,
           "on": "mouseover",
           "resolve": "global",
           "type": "single"
          }
         },
         "title": "population of species over generation"
        },
        {
         "data": {
          "name": "data-c8a9ea1f942d2ee2d9334e5f4ce677ed"
         },
         "encoding": {
          "color": {
           "field": "species_sn",
           "legend": null,
           "type": "nominal"
          },
          "opacity": {
           "condition": {
            "selection": "selector148",
            "value": 1
           },
           "value": 0
          },
          "tooltip": {
           "field": "species_sn",
           "type": "quantitative"
          },
          "x": {
           "field": "generation_sn",
           "type": "nominal"
          },
          "y": {
           "field": "num_genomes",
           "type": "quantitative"
          }
         },
         "mark": "line",
         "selection": {
          "selector148": {
           "empty": "all",
           "fields": [
            "_vgsid_"
           ],
           "nearest": true,
           "on": "mouseover",
           "resolve": "global",
           "type": "single"
          }
         },
         "title": "population of species over generation"
        },
        {
         "data": {
          "name": "data-0879620caad0742342d69ed9ef87d032"
         },
         "encoding": {
          "color": {
           "field": "species_sn",
           "legend": null,
           "type": "nominal"
          },
          "opacity": {
           "condition": {
            "selection": "selector149",
            "value": 1
           },
           "value": 0
          },
          "tooltip": {
           "field": "species_sn",
           "type": "quantitative"
          },
          "x": {
           "field": "generation_sn",
           "type": "nominal"
          },
          "y": {
           "field": "num_genomes",
           "type": "quantitative"
          }
         },
         "mark": "line",
         "selection": {
          "selector149": {
           "empty": "all",
           "fields": [
            "_vgsid_"
           ],
           "nearest": true,
           "on": "mouseover",
           "resolve": "global",
           "type": "single"
          }
         },
         "title": "population of species over generation"
        },
        {
         "data": {
          "name": "data-df590f2b236a294b4217b6dd31c000cf"
         },
         "encoding": {
          "color": {
           "field": "species_sn",
           "legend": null,
           "type": "nominal"
          },
          "opacity": {
           "condition": {
            "selection": "selector150",
            "value": 1
           },
           "value": 0
          },
          "tooltip": {
           "field": "species_sn",
           "type": "quantitative"
          },
          "x": {
           "field": "generation_sn",
           "type": "nominal"
          },
          "y": {
           "field": "num_genomes",
           "type": "quantitative"
          }
         },
         "mark": "line",
         "selection": {
          "selector150": {
           "empty": "all",
           "fields": [
            "_vgsid_"
           ],
           "nearest": true,
           "on": "mouseover",
           "resolve": "global",
           "type": "single"
          }
         },
         "title": "population of species over generation"
        },
        {
         "data": {
          "name": "data-6ad7eb942cc72ba4ba86ae46c710381c"
         },
         "encoding": {
          "color": {
           "field": "species_sn",
           "legend": null,
           "type": "nominal"
          },
          "opacity": {
           "condition": {
            "selection": "selector151",
            "value": 1
           },
           "value": 0
          },
          "tooltip": {
           "field": "species_sn",
           "type": "quantitative"
          },
          "x": {
           "field": "generation_sn",
           "type": "nominal"
          },
          "y": {
           "field": "num_genomes",
           "type": "quantitative"
          }
         },
         "mark": "line",
         "selection": {
          "selector151": {
           "empty": "all",
           "fields": [
            "_vgsid_"
           ],
           "nearest": true,
           "on": "mouseover",
           "resolve": "global",
           "type": "single"
          }
         },
         "title": "population of species over generation"
        },
        {
         "data": {
          "name": "data-40ad3ae377652cd8c7f01dc49108c42c"
         },
         "encoding": {
          "color": {
           "field": "species_sn",
           "legend": null,
           "type": "nominal"
          },
          "opacity": {
           "condition": {
            "selection": "selector152",
            "value": 1
           },
           "value": 0
          },
          "tooltip": {
           "field": "species_sn",
           "type": "quantitative"
          },
          "x": {
           "field": "generation_sn",
           "type": "nominal"
          },
          "y": {
           "field": "num_genomes",
           "type": "quantitative"
          }
         },
         "mark": "line",
         "selection": {
          "selector152": {
           "empty": "all",
           "fields": [
            "_vgsid_"
           ],
           "nearest": true,
           "on": "mouseover",
           "resolve": "global",
           "type": "single"
          }
         },
         "title": "population of species over generation"
        },
        {
         "data": {
          "name": "data-f90efcf01c90fb720126a6d8693db5ca"
         },
         "encoding": {
          "color": {
           "field": "species_sn",
           "legend": null,
           "type": "nominal"
          },
          "opacity": {
           "condition": {
            "selection": "selector153",
            "value": 1
           },
           "value": 0
          },
          "tooltip": {
           "field": "species_sn",
           "type": "quantitative"
          },
          "x": {
           "field": "generation_sn",
           "type": "nominal"
          },
          "y": {
           "field": "num_genomes",
           "type": "quantitative"
          }
         },
         "mark": "line",
         "selection": {
          "selector153": {
           "empty": "all",
           "fields": [
            "_vgsid_"
           ],
           "nearest": true,
           "on": "mouseover",
           "resolve": "global",
           "type": "single"
          }
         },
         "title": "population of species over generation"
        },
        {
         "data": {
          "name": "data-2698d0cadfd01d8df0fb313aed55eb15"
         },
         "encoding": {
          "color": {
           "field": "species_sn",
           "legend": null,
           "type": "nominal"
          },
          "opacity": {
           "condition": {
            "selection": "selector154",
            "value": 1
           },
           "value": 0
          },
          "tooltip": {
           "field": "species_sn",
           "type": "quantitative"
          },
          "x": {
           "field": "generation_sn",
           "type": "nominal"
          },
          "y": {
           "field": "num_genomes",
           "type": "quantitative"
          }
         },
         "mark": "line",
         "selection": {
          "selector154": {
           "empty": "all",
           "fields": [
            "_vgsid_"
           ],
           "nearest": true,
           "on": "mouseover",
           "resolve": "global",
           "type": "single"
          }
         },
         "title": "population of species over generation"
        },
        {
         "data": {
          "name": "data-1636d3251c0e966907fa502f444e410f"
         },
         "encoding": {
          "color": {
           "field": "species_sn",
           "legend": null,
           "type": "nominal"
          },
          "opacity": {
           "condition": {
            "selection": "selector155",
            "value": 1
           },
           "value": 0
          },
          "tooltip": {
           "field": "species_sn",
           "type": "quantitative"
          },
          "x": {
           "field": "generation_sn",
           "type": "nominal"
          },
          "y": {
           "field": "num_genomes",
           "type": "quantitative"
          }
         },
         "mark": "line",
         "selection": {
          "selector155": {
           "empty": "all",
           "fields": [
            "_vgsid_"
           ],
           "nearest": true,
           "on": "mouseover",
           "resolve": "global",
           "type": "single"
          }
         },
         "title": "population of species over generation"
        },
        {
         "data": {
          "name": "data-aec8737aa250bca9d87418952044886b"
         },
         "encoding": {
          "color": {
           "field": "species_sn",
           "legend": null,
           "type": "nominal"
          },
          "opacity": {
           "condition": {
            "selection": "selector156",
            "value": 1
           },
           "value": 0
          },
          "tooltip": {
           "field": "species_sn",
           "type": "quantitative"
          },
          "x": {
           "field": "generation_sn",
           "type": "nominal"
          },
          "y": {
           "field": "num_genomes",
           "type": "quantitative"
          }
         },
         "mark": "line",
         "selection": {
          "selector156": {
           "empty": "all",
           "fields": [
            "_vgsid_"
           ],
           "nearest": true,
           "on": "mouseover",
           "resolve": "global",
           "type": "single"
          }
         },
         "title": "population of species over generation"
        },
        {
         "data": {
          "name": "data-0190df08925076732c60fbc9e2583c1b"
         },
         "encoding": {
          "color": {
           "field": "species_sn",
           "legend": null,
           "type": "nominal"
          },
          "opacity": {
           "condition": {
            "selection": "selector157",
            "value": 1
           },
           "value": 0
          },
          "tooltip": {
           "field": "species_sn",
           "type": "quantitative"
          },
          "x": {
           "field": "generation_sn",
           "type": "nominal"
          },
          "y": {
           "field": "num_genomes",
           "type": "quantitative"
          }
         },
         "mark": "line",
         "selection": {
          "selector157": {
           "empty": "all",
           "fields": [
            "_vgsid_"
           ],
           "nearest": true,
           "on": "mouseover",
           "resolve": "global",
           "type": "single"
          }
         },
         "title": "population of species over generation"
        },
        {
         "data": {
          "name": "data-d4cf5082ffa310812053c610815425ec"
         },
         "encoding": {
          "color": {
           "field": "species_sn",
           "legend": null,
           "type": "nominal"
          },
          "opacity": {
           "condition": {
            "selection": "selector158",
            "value": 1
           },
           "value": 0
          },
          "tooltip": {
           "field": "species_sn",
           "type": "quantitative"
          },
          "x": {
           "field": "generation_sn",
           "type": "nominal"
          },
          "y": {
           "field": "num_genomes",
           "type": "quantitative"
          }
         },
         "mark": "line",
         "selection": {
          "selector158": {
           "empty": "all",
           "fields": [
            "_vgsid_"
           ],
           "nearest": true,
           "on": "mouseover",
           "resolve": "global",
           "type": "single"
          }
         },
         "title": "population of species over generation"
        },
        {
         "data": {
          "name": "data-4bda2d79c2463cf11d3b67951eac871f"
         },
         "encoding": {
          "color": {
           "field": "species_sn",
           "legend": null,
           "type": "nominal"
          },
          "opacity": {
           "condition": {
            "selection": "selector159",
            "value": 1
           },
           "value": 0
          },
          "tooltip": {
           "field": "species_sn",
           "type": "quantitative"
          },
          "x": {
           "field": "generation_sn",
           "type": "nominal"
          },
          "y": {
           "field": "num_genomes",
           "type": "quantitative"
          }
         },
         "mark": "line",
         "selection": {
          "selector159": {
           "empty": "all",
           "fields": [
            "_vgsid_"
           ],
           "nearest": true,
           "on": "mouseover",
           "resolve": "global",
           "type": "single"
          }
         },
         "title": "population of species over generation"
        },
        {
         "data": {
          "name": "data-907d2bc921b6d871eaff3c52806e7ca9"
         },
         "encoding": {
          "color": {
           "field": "species_sn",
           "legend": null,
           "type": "nominal"
          },
          "opacity": {
           "condition": {
            "selection": "selector160",
            "value": 1
           },
           "value": 0
          },
          "tooltip": {
           "field": "species_sn",
           "type": "quantitative"
          },
          "x": {
           "field": "generation_sn",
           "type": "nominal"
          },
          "y": {
           "field": "num_genomes",
           "type": "quantitative"
          }
         },
         "mark": "line",
         "selection": {
          "selector160": {
           "empty": "all",
           "fields": [
            "_vgsid_"
           ],
           "nearest": true,
           "on": "mouseover",
           "resolve": "global",
           "type": "single"
          }
         },
         "title": "population of species over generation"
        },
        {
         "data": {
          "name": "data-2f8a9268fb3b863deaba70f2380770f6"
         },
         "encoding": {
          "color": {
           "field": "species_sn",
           "legend": null,
           "type": "nominal"
          },
          "opacity": {
           "condition": {
            "selection": "selector161",
            "value": 1
           },
           "value": 0
          },
          "tooltip": {
           "field": "species_sn",
           "type": "quantitative"
          },
          "x": {
           "field": "generation_sn",
           "type": "nominal"
          },
          "y": {
           "field": "num_genomes",
           "type": "quantitative"
          }
         },
         "mark": "line",
         "selection": {
          "selector161": {
           "empty": "all",
           "fields": [
            "_vgsid_"
           ],
           "nearest": true,
           "on": "mouseover",
           "resolve": "global",
           "type": "single"
          }
         },
         "title": "population of species over generation"
        },
        {
         "data": {
          "name": "data-821b2cad7d05097b91633f1d9c297047"
         },
         "encoding": {
          "color": {
           "field": "species_sn",
           "legend": null,
           "type": "nominal"
          },
          "opacity": {
           "condition": {
            "selection": "selector162",
            "value": 1
           },
           "value": 0
          },
          "tooltip": {
           "field": "species_sn",
           "type": "quantitative"
          },
          "x": {
           "field": "generation_sn",
           "type": "nominal"
          },
          "y": {
           "field": "num_genomes",
           "type": "quantitative"
          }
         },
         "mark": "line",
         "selection": {
          "selector162": {
           "empty": "all",
           "fields": [
            "_vgsid_"
           ],
           "nearest": true,
           "on": "mouseover",
           "resolve": "global",
           "type": "single"
          }
         },
         "title": "population of species over generation"
        },
        {
         "data": {
          "name": "data-a7cf1ca91c4414d1e10b72d52f557204"
         },
         "encoding": {
          "color": {
           "field": "species_sn",
           "legend": null,
           "type": "nominal"
          },
          "opacity": {
           "condition": {
            "selection": "selector163",
            "value": 1
           },
           "value": 0
          },
          "tooltip": {
           "field": "species_sn",
           "type": "quantitative"
          },
          "x": {
           "field": "generation_sn",
           "type": "nominal"
          },
          "y": {
           "field": "num_genomes",
           "type": "quantitative"
          }
         },
         "mark": "line",
         "selection": {
          "selector163": {
           "empty": "all",
           "fields": [
            "_vgsid_"
           ],
           "nearest": true,
           "on": "mouseover",
           "resolve": "global",
           "type": "single"
          }
         },
         "title": "population of species over generation"
        },
        {
         "data": {
          "name": "data-432d0bfdf30e36d439228c1665f7c881"
         },
         "encoding": {
          "color": {
           "field": "species_sn",
           "legend": null,
           "type": "nominal"
          },
          "opacity": {
           "condition": {
            "selection": "selector164",
            "value": 1
           },
           "value": 0
          },
          "tooltip": {
           "field": "species_sn",
           "type": "quantitative"
          },
          "x": {
           "field": "generation_sn",
           "type": "nominal"
          },
          "y": {
           "field": "num_genomes",
           "type": "quantitative"
          }
         },
         "mark": "line",
         "selection": {
          "selector164": {
           "empty": "all",
           "fields": [
            "_vgsid_"
           ],
           "nearest": true,
           "on": "mouseover",
           "resolve": "global",
           "type": "single"
          }
         },
         "title": "population of species over generation"
        },
        {
         "data": {
          "name": "data-67fd064198eea34671c6c9c091f9d707"
         },
         "encoding": {
          "color": {
           "field": "species_sn",
           "legend": null,
           "type": "nominal"
          },
          "opacity": {
           "condition": {
            "selection": "selector165",
            "value": 1
           },
           "value": 0
          },
          "tooltip": {
           "field": "species_sn",
           "type": "quantitative"
          },
          "x": {
           "field": "generation_sn",
           "type": "nominal"
          },
          "y": {
           "field": "num_genomes",
           "type": "quantitative"
          }
         },
         "mark": "line",
         "selection": {
          "selector165": {
           "empty": "all",
           "fields": [
            "_vgsid_"
           ],
           "nearest": true,
           "on": "mouseover",
           "resolve": "global",
           "type": "single"
          }
         },
         "title": "population of species over generation"
        },
        {
         "data": {
          "name": "data-b2a90e9019759f684117eaaa8173fb06"
         },
         "encoding": {
          "color": {
           "field": "species_sn",
           "legend": null,
           "type": "nominal"
          },
          "opacity": {
           "condition": {
            "selection": "selector166",
            "value": 1
           },
           "value": 0
          },
          "tooltip": {
           "field": "species_sn",
           "type": "quantitative"
          },
          "x": {
           "field": "generation_sn",
           "type": "nominal"
          },
          "y": {
           "field": "num_genomes",
           "type": "quantitative"
          }
         },
         "mark": "line",
         "selection": {
          "selector166": {
           "empty": "all",
           "fields": [
            "_vgsid_"
           ],
           "nearest": true,
           "on": "mouseover",
           "resolve": "global",
           "type": "single"
          }
         },
         "title": "population of species over generation"
        },
        {
         "data": {
          "name": "data-927870fd2d325f0894c68bb1d70ab25b"
         },
         "encoding": {
          "color": {
           "field": "species_sn",
           "legend": null,
           "type": "nominal"
          },
          "opacity": {
           "condition": {
            "selection": "selector167",
            "value": 1
           },
           "value": 0
          },
          "tooltip": {
           "field": "species_sn",
           "type": "quantitative"
          },
          "x": {
           "field": "generation_sn",
           "type": "nominal"
          },
          "y": {
           "field": "num_genomes",
           "type": "quantitative"
          }
         },
         "mark": "line",
         "selection": {
          "selector167": {
           "empty": "all",
           "fields": [
            "_vgsid_"
           ],
           "nearest": true,
           "on": "mouseover",
           "resolve": "global",
           "type": "single"
          }
         },
         "title": "population of species over generation"
        },
        {
         "data": {
          "name": "data-bc850ea3d9f6c44d11cfd5a79afd015d"
         },
         "encoding": {
          "color": {
           "field": "species_sn",
           "legend": null,
           "type": "nominal"
          },
          "opacity": {
           "condition": {
            "selection": "selector168",
            "value": 1
           },
           "value": 0
          },
          "tooltip": {
           "field": "species_sn",
           "type": "quantitative"
          },
          "x": {
           "field": "generation_sn",
           "type": "nominal"
          },
          "y": {
           "field": "num_genomes",
           "type": "quantitative"
          }
         },
         "mark": "line",
         "selection": {
          "selector168": {
           "empty": "all",
           "fields": [
            "_vgsid_"
           ],
           "nearest": true,
           "on": "mouseover",
           "resolve": "global",
           "type": "single"
          }
         },
         "title": "population of species over generation"
        },
        {
         "data": {
          "name": "data-c5886e991102cf88e34f362d35773527"
         },
         "encoding": {
          "color": {
           "field": "species_sn",
           "legend": null,
           "type": "nominal"
          },
          "opacity": {
           "condition": {
            "selection": "selector169",
            "value": 1
           },
           "value": 0
          },
          "tooltip": {
           "field": "species_sn",
           "type": "quantitative"
          },
          "x": {
           "field": "generation_sn",
           "type": "nominal"
          },
          "y": {
           "field": "num_genomes",
           "type": "quantitative"
          }
         },
         "mark": "line",
         "selection": {
          "selector169": {
           "empty": "all",
           "fields": [
            "_vgsid_"
           ],
           "nearest": true,
           "on": "mouseover",
           "resolve": "global",
           "type": "single"
          }
         },
         "title": "population of species over generation"
        },
        {
         "data": {
          "name": "data-0fc1177e8f172670d1f351d974b1c346"
         },
         "encoding": {
          "color": {
           "field": "species_sn",
           "legend": null,
           "type": "nominal"
          },
          "opacity": {
           "condition": {
            "selection": "selector170",
            "value": 1
           },
           "value": 0
          },
          "tooltip": {
           "field": "species_sn",
           "type": "quantitative"
          },
          "x": {
           "field": "generation_sn",
           "type": "nominal"
          },
          "y": {
           "field": "num_genomes",
           "type": "quantitative"
          }
         },
         "mark": "line",
         "selection": {
          "selector170": {
           "empty": "all",
           "fields": [
            "_vgsid_"
           ],
           "nearest": true,
           "on": "mouseover",
           "resolve": "global",
           "type": "single"
          }
         },
         "title": "population of species over generation"
        },
        {
         "data": {
          "name": "data-4a54b5dc71ec223442d29f870ee45900"
         },
         "encoding": {
          "color": {
           "field": "species_sn",
           "legend": null,
           "type": "nominal"
          },
          "opacity": {
           "condition": {
            "selection": "selector171",
            "value": 1
           },
           "value": 0
          },
          "tooltip": {
           "field": "species_sn",
           "type": "quantitative"
          },
          "x": {
           "field": "generation_sn",
           "type": "nominal"
          },
          "y": {
           "field": "num_genomes",
           "type": "quantitative"
          }
         },
         "mark": "line",
         "selection": {
          "selector171": {
           "empty": "all",
           "fields": [
            "_vgsid_"
           ],
           "nearest": true,
           "on": "mouseover",
           "resolve": "global",
           "type": "single"
          }
         },
         "title": "population of species over generation"
        },
        {
         "data": {
          "name": "data-ecba719fa66672214bafae3d554bc430"
         },
         "encoding": {
          "color": {
           "field": "species_sn",
           "legend": null,
           "type": "nominal"
          },
          "opacity": {
           "condition": {
            "selection": "selector172",
            "value": 1
           },
           "value": 0
          },
          "tooltip": {
           "field": "species_sn",
           "type": "quantitative"
          },
          "x": {
           "field": "generation_sn",
           "type": "nominal"
          },
          "y": {
           "field": "num_genomes",
           "type": "quantitative"
          }
         },
         "mark": "line",
         "selection": {
          "selector172": {
           "empty": "all",
           "fields": [
            "_vgsid_"
           ],
           "nearest": true,
           "on": "mouseover",
           "resolve": "global",
           "type": "single"
          }
         },
         "title": "population of species over generation"
        },
        {
         "data": {
          "name": "data-8512774156d599bf15a58512e6d6bf2c"
         },
         "encoding": {
          "color": {
           "field": "species_sn",
           "legend": null,
           "type": "nominal"
          },
          "opacity": {
           "condition": {
            "selection": "selector173",
            "value": 1
           },
           "value": 0
          },
          "tooltip": {
           "field": "species_sn",
           "type": "quantitative"
          },
          "x": {
           "field": "generation_sn",
           "type": "nominal"
          },
          "y": {
           "field": "num_genomes",
           "type": "quantitative"
          }
         },
         "mark": "line",
         "selection": {
          "selector173": {
           "empty": "all",
           "fields": [
            "_vgsid_"
           ],
           "nearest": true,
           "on": "mouseover",
           "resolve": "global",
           "type": "single"
          }
         },
         "title": "population of species over generation"
        },
        {
         "data": {
          "name": "data-761eecf65afbe1d46568702705574a17"
         },
         "encoding": {
          "color": {
           "field": "species_sn",
           "legend": null,
           "type": "nominal"
          },
          "opacity": {
           "condition": {
            "selection": "selector174",
            "value": 1
           },
           "value": 0
          },
          "tooltip": {
           "field": "species_sn",
           "type": "quantitative"
          },
          "x": {
           "field": "generation_sn",
           "type": "nominal"
          },
          "y": {
           "field": "num_genomes",
           "type": "quantitative"
          }
         },
         "mark": "line",
         "selection": {
          "selector174": {
           "empty": "all",
           "fields": [
            "_vgsid_"
           ],
           "nearest": true,
           "on": "mouseover",
           "resolve": "global",
           "type": "single"
          }
         },
         "title": "population of species over generation"
        },
        {
         "data": {
          "name": "data-ecd0819e19258908925243f19cd4c593"
         },
         "encoding": {
          "color": {
           "field": "species_sn",
           "legend": null,
           "type": "nominal"
          },
          "opacity": {
           "condition": {
            "selection": "selector175",
            "value": 1
           },
           "value": 0
          },
          "tooltip": {
           "field": "species_sn",
           "type": "quantitative"
          },
          "x": {
           "field": "generation_sn",
           "type": "nominal"
          },
          "y": {
           "field": "num_genomes",
           "type": "quantitative"
          }
         },
         "mark": "line",
         "selection": {
          "selector175": {
           "empty": "all",
           "fields": [
            "_vgsid_"
           ],
           "nearest": true,
           "on": "mouseover",
           "resolve": "global",
           "type": "single"
          }
         },
         "title": "population of species over generation"
        },
        {
         "data": {
          "name": "data-29fbad9081b433ae990b2aedc5b1fceb"
         },
         "encoding": {
          "color": {
           "field": "species_sn",
           "legend": null,
           "type": "nominal"
          },
          "opacity": {
           "condition": {
            "selection": "selector176",
            "value": 1
           },
           "value": 0
          },
          "tooltip": {
           "field": "species_sn",
           "type": "quantitative"
          },
          "x": {
           "field": "generation_sn",
           "type": "nominal"
          },
          "y": {
           "field": "num_genomes",
           "type": "quantitative"
          }
         },
         "mark": "line",
         "selection": {
          "selector176": {
           "empty": "all",
           "fields": [
            "_vgsid_"
           ],
           "nearest": true,
           "on": "mouseover",
           "resolve": "global",
           "type": "single"
          }
         },
         "title": "population of species over generation"
        },
        {
         "data": {
          "name": "data-3d15c5475e3509152f9cfe752204bac0"
         },
         "encoding": {
          "color": {
           "field": "species_sn",
           "legend": null,
           "type": "nominal"
          },
          "opacity": {
           "condition": {
            "selection": "selector177",
            "value": 1
           },
           "value": 0
          },
          "tooltip": {
           "field": "species_sn",
           "type": "quantitative"
          },
          "x": {
           "field": "generation_sn",
           "type": "nominal"
          },
          "y": {
           "field": "num_genomes",
           "type": "quantitative"
          }
         },
         "mark": "line",
         "selection": {
          "selector177": {
           "empty": "all",
           "fields": [
            "_vgsid_"
           ],
           "nearest": true,
           "on": "mouseover",
           "resolve": "global",
           "type": "single"
          }
         },
         "title": "population of species over generation"
        },
        {
         "data": {
          "name": "data-8bb494c1459309dae48282c8535028d0"
         },
         "encoding": {
          "color": {
           "field": "species_sn",
           "legend": null,
           "type": "nominal"
          },
          "opacity": {
           "condition": {
            "selection": "selector178",
            "value": 1
           },
           "value": 0
          },
          "tooltip": {
           "field": "species_sn",
           "type": "quantitative"
          },
          "x": {
           "field": "generation_sn",
           "type": "nominal"
          },
          "y": {
           "field": "num_genomes",
           "type": "quantitative"
          }
         },
         "mark": "line",
         "selection": {
          "selector178": {
           "empty": "all",
           "fields": [
            "_vgsid_"
           ],
           "nearest": true,
           "on": "mouseover",
           "resolve": "global",
           "type": "single"
          }
         },
         "title": "population of species over generation"
        },
        {
         "data": {
          "name": "data-080a5130a1bd9779f692858ccc10cec5"
         },
         "encoding": {
          "color": {
           "field": "species_sn",
           "legend": null,
           "type": "nominal"
          },
          "opacity": {
           "condition": {
            "selection": "selector179",
            "value": 1
           },
           "value": 0
          },
          "tooltip": {
           "field": "species_sn",
           "type": "quantitative"
          },
          "x": {
           "field": "generation_sn",
           "type": "nominal"
          },
          "y": {
           "field": "num_genomes",
           "type": "quantitative"
          }
         },
         "mark": "line",
         "selection": {
          "selector179": {
           "empty": "all",
           "fields": [
            "_vgsid_"
           ],
           "nearest": true,
           "on": "mouseover",
           "resolve": "global",
           "type": "single"
          }
         },
         "title": "population of species over generation"
        },
        {
         "data": {
          "name": "data-71f5a297a4f211309549a960d0e990a7"
         },
         "encoding": {
          "color": {
           "field": "species_sn",
           "legend": null,
           "type": "nominal"
          },
          "opacity": {
           "condition": {
            "selection": "selector180",
            "value": 1
           },
           "value": 0
          },
          "tooltip": {
           "field": "species_sn",
           "type": "quantitative"
          },
          "x": {
           "field": "generation_sn",
           "type": "nominal"
          },
          "y": {
           "field": "num_genomes",
           "type": "quantitative"
          }
         },
         "mark": "line",
         "selection": {
          "selector180": {
           "empty": "all",
           "fields": [
            "_vgsid_"
           ],
           "nearest": true,
           "on": "mouseover",
           "resolve": "global",
           "type": "single"
          }
         },
         "title": "population of species over generation"
        },
        {
         "data": {
          "name": "data-30ad068a600b8049bb919b840fab76c0"
         },
         "encoding": {
          "color": {
           "field": "species_sn",
           "legend": null,
           "type": "nominal"
          },
          "opacity": {
           "condition": {
            "selection": "selector181",
            "value": 1
           },
           "value": 0
          },
          "tooltip": {
           "field": "species_sn",
           "type": "quantitative"
          },
          "x": {
           "field": "generation_sn",
           "type": "nominal"
          },
          "y": {
           "field": "num_genomes",
           "type": "quantitative"
          }
         },
         "mark": "line",
         "selection": {
          "selector181": {
           "empty": "all",
           "fields": [
            "_vgsid_"
           ],
           "nearest": true,
           "on": "mouseover",
           "resolve": "global",
           "type": "single"
          }
         },
         "title": "population of species over generation"
        },
        {
         "data": {
          "name": "data-44305f86716eed3a24c0f7686fef36a9"
         },
         "encoding": {
          "color": {
           "field": "species_sn",
           "legend": null,
           "type": "nominal"
          },
          "opacity": {
           "condition": {
            "selection": "selector182",
            "value": 1
           },
           "value": 0
          },
          "tooltip": {
           "field": "species_sn",
           "type": "quantitative"
          },
          "x": {
           "field": "generation_sn",
           "type": "nominal"
          },
          "y": {
           "field": "num_genomes",
           "type": "quantitative"
          }
         },
         "mark": "line",
         "selection": {
          "selector182": {
           "empty": "all",
           "fields": [
            "_vgsid_"
           ],
           "nearest": true,
           "on": "mouseover",
           "resolve": "global",
           "type": "single"
          }
         },
         "title": "population of species over generation"
        },
        {
         "data": {
          "name": "data-1b4d5d410b38ae43b81caa63cc35dd7f"
         },
         "encoding": {
          "color": {
           "field": "species_sn",
           "legend": null,
           "type": "nominal"
          },
          "opacity": {
           "condition": {
            "selection": "selector183",
            "value": 1
           },
           "value": 0
          },
          "tooltip": {
           "field": "species_sn",
           "type": "quantitative"
          },
          "x": {
           "field": "generation_sn",
           "type": "nominal"
          },
          "y": {
           "field": "num_genomes",
           "type": "quantitative"
          }
         },
         "mark": "line",
         "selection": {
          "selector183": {
           "empty": "all",
           "fields": [
            "_vgsid_"
           ],
           "nearest": true,
           "on": "mouseover",
           "resolve": "global",
           "type": "single"
          }
         },
         "title": "population of species over generation"
        },
        {
         "data": {
          "name": "data-0daa6f04009e0b57ff8ae4ce99cf2b63"
         },
         "encoding": {
          "color": {
           "field": "species_sn",
           "legend": null,
           "type": "nominal"
          },
          "opacity": {
           "condition": {
            "selection": "selector184",
            "value": 1
           },
           "value": 0
          },
          "tooltip": {
           "field": "species_sn",
           "type": "quantitative"
          },
          "x": {
           "field": "generation_sn",
           "type": "nominal"
          },
          "y": {
           "field": "num_genomes",
           "type": "quantitative"
          }
         },
         "mark": "line",
         "selection": {
          "selector184": {
           "empty": "all",
           "fields": [
            "_vgsid_"
           ],
           "nearest": true,
           "on": "mouseover",
           "resolve": "global",
           "type": "single"
          }
         },
         "title": "population of species over generation"
        },
        {
         "data": {
          "name": "data-08d8087888b35e84669c41743a78b894"
         },
         "encoding": {
          "color": {
           "field": "species_sn",
           "legend": null,
           "type": "nominal"
          },
          "opacity": {
           "condition": {
            "selection": "selector185",
            "value": 1
           },
           "value": 0
          },
          "tooltip": {
           "field": "species_sn",
           "type": "quantitative"
          },
          "x": {
           "field": "generation_sn",
           "type": "nominal"
          },
          "y": {
           "field": "num_genomes",
           "type": "quantitative"
          }
         },
         "mark": "line",
         "selection": {
          "selector185": {
           "empty": "all",
           "fields": [
            "_vgsid_"
           ],
           "nearest": true,
           "on": "mouseover",
           "resolve": "global",
           "type": "single"
          }
         },
         "title": "population of species over generation"
        },
        {
         "data": {
          "name": "data-e332ae52e1f31e6930b1a793f8ffaecf"
         },
         "encoding": {
          "color": {
           "field": "species_sn",
           "legend": null,
           "type": "nominal"
          },
          "opacity": {
           "condition": {
            "selection": "selector186",
            "value": 1
           },
           "value": 0
          },
          "tooltip": {
           "field": "species_sn",
           "type": "quantitative"
          },
          "x": {
           "field": "generation_sn",
           "type": "nominal"
          },
          "y": {
           "field": "num_genomes",
           "type": "quantitative"
          }
         },
         "mark": "line",
         "selection": {
          "selector186": {
           "empty": "all",
           "fields": [
            "_vgsid_"
           ],
           "nearest": true,
           "on": "mouseover",
           "resolve": "global",
           "type": "single"
          }
         },
         "title": "population of species over generation"
        },
        {
         "data": {
          "name": "data-d34556a1a48ed2cc3f3ecc310d0cb0ec"
         },
         "encoding": {
          "color": {
           "field": "species_sn",
           "legend": null,
           "type": "nominal"
          },
          "opacity": {
           "condition": {
            "selection": "selector187",
            "value": 1
           },
           "value": 0
          },
          "tooltip": {
           "field": "species_sn",
           "type": "quantitative"
          },
          "x": {
           "field": "generation_sn",
           "type": "nominal"
          },
          "y": {
           "field": "num_genomes",
           "type": "quantitative"
          }
         },
         "mark": "line",
         "selection": {
          "selector187": {
           "empty": "all",
           "fields": [
            "_vgsid_"
           ],
           "nearest": true,
           "on": "mouseover",
           "resolve": "global",
           "type": "single"
          }
         },
         "title": "population of species over generation"
        },
        {
         "data": {
          "name": "data-ff7d037ca98f6eee52e6532d4b4188fa"
         },
         "encoding": {
          "color": {
           "field": "species_sn",
           "legend": null,
           "type": "nominal"
          },
          "opacity": {
           "condition": {
            "selection": "selector188",
            "value": 1
           },
           "value": 0
          },
          "tooltip": {
           "field": "species_sn",
           "type": "quantitative"
          },
          "x": {
           "field": "generation_sn",
           "type": "nominal"
          },
          "y": {
           "field": "num_genomes",
           "type": "quantitative"
          }
         },
         "mark": "line",
         "selection": {
          "selector188": {
           "empty": "all",
           "fields": [
            "_vgsid_"
           ],
           "nearest": true,
           "on": "mouseover",
           "resolve": "global",
           "type": "single"
          }
         },
         "title": "population of species over generation"
        },
        {
         "data": {
          "name": "data-d9c5b342c5157d28f40ac0b626fbced6"
         },
         "encoding": {
          "color": {
           "field": "species_sn",
           "legend": null,
           "type": "nominal"
          },
          "opacity": {
           "condition": {
            "selection": "selector189",
            "value": 1
           },
           "value": 0
          },
          "tooltip": {
           "field": "species_sn",
           "type": "quantitative"
          },
          "x": {
           "field": "generation_sn",
           "type": "nominal"
          },
          "y": {
           "field": "num_genomes",
           "type": "quantitative"
          }
         },
         "mark": "line",
         "selection": {
          "selector189": {
           "empty": "all",
           "fields": [
            "_vgsid_"
           ],
           "nearest": true,
           "on": "mouseover",
           "resolve": "global",
           "type": "single"
          }
         },
         "title": "population of species over generation"
        },
        {
         "data": {
          "name": "data-13559052277bf5cfb335f9aba6dff76d"
         },
         "encoding": {
          "color": {
           "field": "species_sn",
           "legend": null,
           "type": "nominal"
          },
          "opacity": {
           "condition": {
            "selection": "selector190",
            "value": 1
           },
           "value": 0
          },
          "tooltip": {
           "field": "species_sn",
           "type": "quantitative"
          },
          "x": {
           "field": "generation_sn",
           "type": "nominal"
          },
          "y": {
           "field": "num_genomes",
           "type": "quantitative"
          }
         },
         "mark": "line",
         "selection": {
          "selector190": {
           "empty": "all",
           "fields": [
            "_vgsid_"
           ],
           "nearest": true,
           "on": "mouseover",
           "resolve": "global",
           "type": "single"
          }
         },
         "title": "population of species over generation"
        },
        {
         "data": {
          "name": "data-6a658760edb07ef64466d295d2878195"
         },
         "encoding": {
          "color": {
           "field": "species_sn",
           "legend": null,
           "type": "nominal"
          },
          "opacity": {
           "condition": {
            "selection": "selector191",
            "value": 1
           },
           "value": 0
          },
          "tooltip": {
           "field": "species_sn",
           "type": "quantitative"
          },
          "x": {
           "field": "generation_sn",
           "type": "nominal"
          },
          "y": {
           "field": "num_genomes",
           "type": "quantitative"
          }
         },
         "mark": "line",
         "selection": {
          "selector191": {
           "empty": "all",
           "fields": [
            "_vgsid_"
           ],
           "nearest": true,
           "on": "mouseover",
           "resolve": "global",
           "type": "single"
          }
         },
         "title": "population of species over generation"
        },
        {
         "data": {
          "name": "data-067c07393caf95babba617c7f79be7a5"
         },
         "encoding": {
          "color": {
           "field": "species_sn",
           "legend": null,
           "type": "nominal"
          },
          "opacity": {
           "condition": {
            "selection": "selector192",
            "value": 1
           },
           "value": 0
          },
          "tooltip": {
           "field": "species_sn",
           "type": "quantitative"
          },
          "x": {
           "field": "generation_sn",
           "type": "nominal"
          },
          "y": {
           "field": "num_genomes",
           "type": "quantitative"
          }
         },
         "mark": "line",
         "selection": {
          "selector192": {
           "empty": "all",
           "fields": [
            "_vgsid_"
           ],
           "nearest": true,
           "on": "mouseover",
           "resolve": "global",
           "type": "single"
          }
         },
         "title": "population of species over generation"
        },
        {
         "data": {
          "name": "data-4b6c579904a064044bf5a78664eb2ee4"
         },
         "encoding": {
          "color": {
           "field": "species_sn",
           "legend": null,
           "type": "nominal"
          },
          "opacity": {
           "condition": {
            "selection": "selector193",
            "value": 1
           },
           "value": 0
          },
          "tooltip": {
           "field": "species_sn",
           "type": "quantitative"
          },
          "x": {
           "field": "generation_sn",
           "type": "nominal"
          },
          "y": {
           "field": "num_genomes",
           "type": "quantitative"
          }
         },
         "mark": "line",
         "selection": {
          "selector193": {
           "empty": "all",
           "fields": [
            "_vgsid_"
           ],
           "nearest": true,
           "on": "mouseover",
           "resolve": "global",
           "type": "single"
          }
         },
         "title": "population of species over generation"
        },
        {
         "data": {
          "name": "data-252c3b1cea0bf4d570e6fc8e4086bab6"
         },
         "encoding": {
          "color": {
           "field": "species_sn",
           "legend": null,
           "type": "nominal"
          },
          "opacity": {
           "condition": {
            "selection": "selector194",
            "value": 1
           },
           "value": 0
          },
          "tooltip": {
           "field": "species_sn",
           "type": "quantitative"
          },
          "x": {
           "field": "generation_sn",
           "type": "nominal"
          },
          "y": {
           "field": "num_genomes",
           "type": "quantitative"
          }
         },
         "mark": "line",
         "selection": {
          "selector194": {
           "empty": "all",
           "fields": [
            "_vgsid_"
           ],
           "nearest": true,
           "on": "mouseover",
           "resolve": "global",
           "type": "single"
          }
         },
         "title": "population of species over generation"
        },
        {
         "data": {
          "name": "data-48235606e215c33c4940728cd01c32ed"
         },
         "encoding": {
          "color": {
           "field": "species_sn",
           "legend": null,
           "type": "nominal"
          },
          "opacity": {
           "condition": {
            "selection": "selector195",
            "value": 1
           },
           "value": 0
          },
          "tooltip": {
           "field": "species_sn",
           "type": "quantitative"
          },
          "x": {
           "field": "generation_sn",
           "type": "nominal"
          },
          "y": {
           "field": "num_genomes",
           "type": "quantitative"
          }
         },
         "mark": "line",
         "selection": {
          "selector195": {
           "empty": "all",
           "fields": [
            "_vgsid_"
           ],
           "nearest": true,
           "on": "mouseover",
           "resolve": "global",
           "type": "single"
          }
         },
         "title": "population of species over generation"
        },
        {
         "data": {
          "name": "data-edfe18c9a07c15c447c0767f8900d7a1"
         },
         "encoding": {
          "color": {
           "field": "species_sn",
           "legend": null,
           "type": "nominal"
          },
          "opacity": {
           "condition": {
            "selection": "selector196",
            "value": 1
           },
           "value": 0
          },
          "tooltip": {
           "field": "species_sn",
           "type": "quantitative"
          },
          "x": {
           "field": "generation_sn",
           "type": "nominal"
          },
          "y": {
           "field": "num_genomes",
           "type": "quantitative"
          }
         },
         "mark": "line",
         "selection": {
          "selector196": {
           "empty": "all",
           "fields": [
            "_vgsid_"
           ],
           "nearest": true,
           "on": "mouseover",
           "resolve": "global",
           "type": "single"
          }
         },
         "title": "population of species over generation"
        },
        {
         "data": {
          "name": "data-3cf8862fb6fad4091aabc7671a01a006"
         },
         "encoding": {
          "color": {
           "field": "species_sn",
           "legend": null,
           "type": "nominal"
          },
          "opacity": {
           "condition": {
            "selection": "selector197",
            "value": 1
           },
           "value": 0
          },
          "tooltip": {
           "field": "species_sn",
           "type": "quantitative"
          },
          "x": {
           "field": "generation_sn",
           "type": "nominal"
          },
          "y": {
           "field": "num_genomes",
           "type": "quantitative"
          }
         },
         "mark": "line",
         "selection": {
          "selector197": {
           "empty": "all",
           "fields": [
            "_vgsid_"
           ],
           "nearest": true,
           "on": "mouseover",
           "resolve": "global",
           "type": "single"
          }
         },
         "title": "population of species over generation"
        },
        {
         "data": {
          "name": "data-761e34b8e99b1c1fbd3548bff7e1a41b"
         },
         "encoding": {
          "color": {
           "field": "species_sn",
           "legend": null,
           "type": "nominal"
          },
          "opacity": {
           "condition": {
            "selection": "selector198",
            "value": 1
           },
           "value": 0
          },
          "tooltip": {
           "field": "species_sn",
           "type": "quantitative"
          },
          "x": {
           "field": "generation_sn",
           "type": "nominal"
          },
          "y": {
           "field": "num_genomes",
           "type": "quantitative"
          }
         },
         "mark": "line",
         "selection": {
          "selector198": {
           "empty": "all",
           "fields": [
            "_vgsid_"
           ],
           "nearest": true,
           "on": "mouseover",
           "resolve": "global",
           "type": "single"
          }
         },
         "title": "population of species over generation"
        },
        {
         "data": {
          "name": "data-d246c3b90431d3ce08e5f9e856e99d98"
         },
         "encoding": {
          "color": {
           "field": "species_sn",
           "legend": null,
           "type": "nominal"
          },
          "opacity": {
           "condition": {
            "selection": "selector199",
            "value": 1
           },
           "value": 0
          },
          "tooltip": {
           "field": "species_sn",
           "type": "quantitative"
          },
          "x": {
           "field": "generation_sn",
           "type": "nominal"
          },
          "y": {
           "field": "num_genomes",
           "type": "quantitative"
          }
         },
         "mark": "line",
         "selection": {
          "selector199": {
           "empty": "all",
           "fields": [
            "_vgsid_"
           ],
           "nearest": true,
           "on": "mouseover",
           "resolve": "global",
           "type": "single"
          }
         },
         "title": "population of species over generation"
        }
       ],
       "width": 600
      },
      "image/png": "[encoded data removed]",
      "text/plain": [
       "<VegaLite 2 object>\n",
       "\n",
       "If you see this message, it means the renderer has not been properly enabled\n",
       "for the frontend that you are using. For more information, see\n",
       "https://altair-viz.github.io/user_guide/troubleshooting.html\n"
      ]
     },
     "execution_count": 7,
     "metadata": {},
     "output_type": "execute_result"
    }
   ],
   "source": [
    "sql = '''\n",
    "  select generation_sn, species_sn, count(1) as num_genomes\n",
    "  from population\n",
    "  where run_id = %s\n",
    "  group by (generation_sn, species_sn)\n",
    "  '''\n",
    "\n",
    "genomes = pd.read_sql(sql=sql, con=conn, params=(run_id,))\n",
    "\n",
    "charts = []\n",
    "for i in range(num_species):\n",
    "    highlight = altair.selection(\n",
    "        type='single',\n",
    "        on='mouseover',\n",
    "        nearest=True)\n",
    "    chart = altair.Chart(\n",
    "        genomes.query('species_sn == @i'),\n",
    "        title='population of species over generation'\n",
    "    ).mark_line().encode(\n",
    "        x='generation_sn:N',\n",
    "        y='num_genomes:Q',\n",
    "        color=altair.Color('species_sn:N', legend=None),\n",
    "        tooltip='species_sn',\n",
    "        opacity=altair.condition(highlight, altair.value(1), altair.value(0))\n",
    "    ).add_selection(highlight)\n",
    "    charts.append(chart)\n",
    "\n",
    "altair.layer(*charts).properties(width=600).interactive()"
   ]
  },
  {
   "cell_type": "code",
   "execution_count": null,
   "metadata": {},
   "outputs": [],
   "source": []
  }
 ],
 "metadata": {
  "kernelspec": {
   "display_name": "Python 3",
   "language": "python",
   "name": "python3"
  },
  "language_info": {
   "codemirror_mode": {
    "name": "ipython",
    "version": 3
   },
   "file_extension": ".py",
   "mimetype": "text/x-python",
   "name": "python",
   "nbconvert_exporter": "python",
   "pygments_lexer": "ipython3",
   "version": "3.7.2"
  }
 },
 "nbformat": 4,
 "nbformat_minor": 2
}
